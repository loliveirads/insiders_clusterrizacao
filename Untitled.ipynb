{
 "cells": [
  {
   "cell_type": "code",
   "execution_count": null,
   "id": "8b80e7af",
   "metadata": {},
   "outputs": [],
   "source": [
    "import requests\n",
    "from bs4 import BeautifulSoup\n",
    "\n",
    "url = \"https://www.transfermarkt.com/jogadores\"\n",
    "response = requests.get(url)\n",
    "soup = BeautifulSoup(response.content, \"html.parser\")\n",
    "\n",
    "players = soup.find_all(\"tr\", class_=[\"even\", \"odd\"])\n",
    "\n",
    "for player in players:\n",
    "    player_data = {}\n",
    "\n",
    "    # Extrair o nome do jogador\n",
    "    name = player.find(\"a\", class_=\"spielprofil_tooltip\").text.strip()\n",
    "    player_data[\"Nome\"] = name\n",
    "\n",
    "    # Extrair o link do perfil do jogador\n",
    "    player_link = player.find(\"a\", class_=\"spielprofil_tooltip\")[\"href\"]\n",
    "    player_url = \"https://www.transfermarkt.com\" + player_link\n",
    "\n",
    "    # Fazer uma nova solicitação HTTP para o perfil do jogador\n",
    "    player_response = requests.get(player_url)\n",
    "    player_soup = BeautifulSoup(player_response.content, \"html.parser\")\n",
    "\n",
    "    # Extrair os dados de desempenho do jogador\n",
    "    performance_table = player_soup.find(\"table\", class_=\"items\")\n",
    "    performance_rows = performance_table.find_all(\"tr\")[1:]\n",
    "\n",
    "    for row in performance_rows:\n",
    "        columns = row.find_all(\"td\")\n",
    "        season = columns[0].text.strip()\n",
    "        matches = columns[1].text.strip()\n",
    "        goals = columns[2].text.strip()\n",
    "        assists = columns[3].text.strip()\n",
    "        yellow_cards = columns[4].text.strip()\n",
    "        red_cards = columns[5].text.strip()\n",
    "\n",
    "        # Armazenar os dados de desempenho em um dicionário\n",
    "        player_data[season] = {\n",
    "            \"Partidas\": matches,\n",
    "            \"Gols\": goals,\n",
    "            \"Assistências\": assists,\n",
    "            \"Cartões Amarelos\": yellow_cards,\n",
    "            \"Cartões Vermelhos\": red_cards\n",
    "        }\n",
    "\n",
    "    print(player_data)\n"
   ]
  }
 ],
 "metadata": {
  "kernelspec": {
   "display_name": "Python 3 (ipykernel)",
   "language": "python",
   "name": "python3"
  },
  "language_info": {
   "codemirror_mode": {
    "name": "ipython",
    "version": 3
   },
   "file_extension": ".py",
   "mimetype": "text/x-python",
   "name": "python",
   "nbconvert_exporter": "python",
   "pygments_lexer": "ipython3",
   "version": "3.9.12"
  },
  "varInspector": {
   "cols": {
    "lenName": 16,
    "lenType": 16,
    "lenVar": 40
   },
   "kernels_config": {
    "python": {
     "delete_cmd_postfix": "",
     "delete_cmd_prefix": "del ",
     "library": "var_list.py",
     "varRefreshCmd": "print(var_dic_list())"
    },
    "r": {
     "delete_cmd_postfix": ") ",
     "delete_cmd_prefix": "rm(",
     "library": "var_list.r",
     "varRefreshCmd": "cat(var_dic_list()) "
    }
   },
   "types_to_exclude": [
    "module",
    "function",
    "builtin_function_or_method",
    "instance",
    "_Feature"
   ],
   "window_display": false
  }
 },
 "nbformat": 4,
 "nbformat_minor": 5
}
