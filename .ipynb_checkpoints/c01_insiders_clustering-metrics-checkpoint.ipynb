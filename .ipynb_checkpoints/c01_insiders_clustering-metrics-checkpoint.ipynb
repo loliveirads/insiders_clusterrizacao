{
 "cells": [
  {
   "cell_type": "markdown",
   "id": "93010fa5-90d5-40fb-8380-fbc9e6f358e6",
   "metadata": {},
   "source": [
    "# Planejamento da Solução (IOT)\n",
    "\n",
    "- Input (Entrada).\n",
    "    a - Problema de Negocio\n",
    "    b - Questões que serão respondidas\n",
    "    c - Dados de entrada / Fonte  de Dados\n",
    "    \n",
    "- Output( Saída ).\n",
    "    a - Anásile de dados\n",
    "    b - Algoritmo de Machine Learning treinado\n",
    "    c - Dashboard\n",
    "    \n",
    "- Tasks (Tarefas).\n",
    "    a - Plano de Execução\n",
    "    b - Ferramentas\n",
    "    "
   ]
  },
  {
   "cell_type": "markdown",
   "id": "041cb983-b21b-4dba-9596-7a015b4ff4e7",
   "metadata": {},
   "source": [
    "# PA005 : High Value Customer Identification (Insiders)"
   ]
  },
  {
   "cell_type": "markdown",
   "id": "ef8ce2a9-af46-4d46-b02b-3593e9c2cdd1",
   "metadata": {},
   "source": [
    "## 0.0. Planejamento da solução (IOT)"
   ]
  },
  {
   "cell_type": "markdown",
   "id": "f5c4ecfb-ba8e-4cd1-a915-08483ac245c7",
   "metadata": {},
   "source": [
    "### Input - Entrada"
   ]
  },
  {
   "cell_type": "markdown",
   "id": "89f1d647-5e62-4421-9a61-3bf8e099981d",
   "metadata": {},
   "source": [
    "1. Problema de Negócio\n",
    "    - Selecionar os clientes mais valiosos para integrar um programa de Fidelização\n",
    "    \n",
    "2. Conjunto de dados\n",
    "    - Vendas de um e-commerce online, durante o periodo de um ano."
   ]
  },
  {
   "cell_type": "markdown",
   "id": "1d077b17-4873-46d8-96ce-6a652c240b50",
   "metadata": {},
   "source": [
    "### Output - Saída"
   ]
  },
  {
   "cell_type": "markdown",
   "id": "e8dfbdb5-90d9-4bef-a69c-508dfa46005f",
   "metadata": {},
   "source": [
    "1. A indicação das pessoas que farão parte do programa de Insiders\n",
    " - Lista:   client_id | is_insider|\n",
    "    \n",
    "               10323 | yes/1\n",
    "               32413 | no/0"
   ]
  },
  {
   "cell_type": "markdown",
   "id": "08e87952-b8cf-4be1-8876-8b6c47071107",
   "metadata": {},
   "source": [
    "### Tasks - Tarefas"
   ]
  },
  {
   "cell_type": "markdown",
   "id": "81084cce-a8e7-4e25-80b2-fd66b84d84b6",
   "metadata": {},
   "source": [
    "1. Quem são as pessoas elegíveis para participar do programa de Insiders ?\n",
    "    - O que é ser elegivel? O que são clientes de maior \"Valor\".\n",
    "        \n",
    "        - Faturamento\n",
    "        \n",
    "            - Alto Ticket Médio\n",
    "            - Alto LTV ( Life time value )\n",
    "            - Baixa Recência\n",
    "            - Alto basket size\n",
    "            - Baixa probabilidade de churn.\n",
    "            - Previsão de LTV\n",
    "            - Alta propensão de compra.\n",
    "            \n",
    "        - Custo\n",
    "        \n",
    "            - Baixo taxa de devolução\n",
    "            \n",
    "        - Experiência de compra\n",
    "        \n",
    "            - Média alta das avaliações\n",
    "    \n",
    "2. Quantos Clientes farão parte do grupo ?\n",
    "    - Número total de clientes\n",
    "    - % de Insiders\n",
    "    \n",
    "3. Quais as principais caracteristicas desses clientes ?\n",
    "    - Escrever caracteristivas do cliente\n",
    "    \n",
    "        - Idade\n",
    "        - Localização\n",
    "        \n",
    "    - Escrever caracteristicas de consumo\n",
    "    \n",
    "        - Atributos da clusterização\n",
    "        \n",
    "4. Qual a porcentagem de contribuição do faturamento desse grupo para os proximos mese ?\n",
    "    - Faturamento total do ano\n",
    "    - Faturamento do grupo Insiders\n",
    "    \n",
    "5. Qual a expectativa de faturamento desse grupo para os proximos meses ?\n",
    "    - LTV do grupo Insiders\n",
    "    - Analise de Cohort\n",
    "    \n",
    "6. Quais as condições para uma pessoa ser elegivel ao Insiders ?\n",
    "    - Definir a periodicidade (1 mes, 3 meses)\n",
    "    - A pessoa precisa ser similar ou pareceido com uma pessoa do grupo.\n",
    "    \n",
    "7. Quais as condições para uma pessoa ser removida do Insiders ?\n",
    "    - Definir a periodicidade (1 mes, 3 meses)\n",
    "    - A pessoa precisa ser desimilar ou não pareceido com uma pessoa do grupo.\n",
    "    \n",
    "8. Qual a garantia que o programa Insiders é melhor que o restante da base?\n",
    "    - Teste A/B\n",
    "    - Teste A/B Bayesiano\n",
    "    - Teste de hipóteses.\n",
    "    \n",
    "9. Quais ações o time de marketing pode realizar para aumentar o faturamento?\n",
    "    - Desconto\n",
    "    - Preferencia de compra\n",
    "    - Frete\n",
    "    - Visista a empresa"
   ]
  },
  {
   "cell_type": "markdown",
   "id": "25ca2c07",
   "metadata": {},
   "source": [
    "# <font color='red'> 1.0. Imports </font>"
   ]
  },
  {
   "cell_type": "code",
   "execution_count": 78,
   "id": "6d3cfa90",
   "metadata": {
    "ExecuteTime": {
     "end_time": "2023-06-06T18:25:44.503016Z",
     "start_time": "2023-06-06T18:25:42.901375Z"
    }
   },
   "outputs": [],
   "source": [
    "import numpy as np\n",
    "import pandas as pd\n",
    "import seaborn as sns\n",
    "import inflection\n",
    "import warnings\n",
    "\n",
    "from sklearn import cluster as c\n",
    "from matplotlib import pyplot as plt\n",
    "from IPython.display import HTML"
   ]
  },
  {
   "cell_type": "markdown",
   "id": "80937746",
   "metadata": {},
   "source": [
    "## 0.1. Help Functions"
   ]
  },
  {
   "cell_type": "code",
   "execution_count": 31,
   "id": "44b9d76d",
   "metadata": {
    "ExecuteTime": {
     "end_time": "2023-06-06T13:08:00.030982Z",
     "start_time": "2023-06-06T13:08:00.006008Z"
    }
   },
   "outputs": [],
   "source": [
    "def jupyter_settings():\n",
    "    %matplotlib inline\n",
    "    %pylab inline\n",
    "    \n",
    "    plt.style.use( 'bmh' )\n",
    "    plt.rcParams['figure.figsize'] = [25, 12]\n",
    "    plt.rcParams['font.size'] = 24\n",
    "    \n",
    "    display( HTML( '<style>.container { width:100% !important; }</style>') )\n",
    "    pd.options.display.max_columns = None\n",
    "    pd.options.display.max_rows = None\n",
    "    pd.set_option( 'display.expand_frame_repr', False )\n",
    "    \n",
    "    sns.set()\n",
    "warnings.filterwarnings( 'ignore' )    "
   ]
  },
  {
   "cell_type": "markdown",
   "id": "1d033f53",
   "metadata": {},
   "source": [
    "## 0.2 Load Dataset"
   ]
  },
  {
   "cell_type": "code",
   "execution_count": 9,
   "id": "f7e3af6c",
   "metadata": {
    "ExecuteTime": {
     "end_time": "2023-06-06T12:50:48.611962Z",
     "start_time": "2023-06-06T12:50:46.331002Z"
    }
   },
   "outputs": [],
   "source": [
    "df_raw = pd.read_csv('Ecommerce.csv',encoding='unicode_escape')"
   ]
  },
  {
   "cell_type": "code",
   "execution_count": 10,
   "id": "a1667865",
   "metadata": {
    "ExecuteTime": {
     "end_time": "2023-06-06T12:50:50.941296Z",
     "start_time": "2023-06-06T12:50:50.848855Z"
    }
   },
   "outputs": [
    {
     "data": {
      "text/html": [
       "<div>\n",
       "<style scoped>\n",
       "    .dataframe tbody tr th:only-of-type {\n",
       "        vertical-align: middle;\n",
       "    }\n",
       "\n",
       "    .dataframe tbody tr th {\n",
       "        vertical-align: top;\n",
       "    }\n",
       "\n",
       "    .dataframe thead th {\n",
       "        text-align: right;\n",
       "    }\n",
       "</style>\n",
       "<table border=\"1\" class=\"dataframe\">\n",
       "  <thead>\n",
       "    <tr style=\"text-align: right;\">\n",
       "      <th></th>\n",
       "      <th>InvoiceNo</th>\n",
       "      <th>StockCode</th>\n",
       "      <th>Description</th>\n",
       "      <th>Quantity</th>\n",
       "      <th>InvoiceDate</th>\n",
       "      <th>UnitPrice</th>\n",
       "      <th>CustomerID</th>\n",
       "      <th>Country</th>\n",
       "      <th>Unnamed: 8</th>\n",
       "    </tr>\n",
       "  </thead>\n",
       "  <tbody>\n",
       "    <tr>\n",
       "      <th>0</th>\n",
       "      <td>536365</td>\n",
       "      <td>85123A</td>\n",
       "      <td>WHITE HANGING HEART T-LIGHT HOLDER</td>\n",
       "      <td>6</td>\n",
       "      <td>29-Nov-16</td>\n",
       "      <td>2.55</td>\n",
       "      <td>17850.0</td>\n",
       "      <td>United Kingdom</td>\n",
       "      <td>NaN</td>\n",
       "    </tr>\n",
       "    <tr>\n",
       "      <th>1</th>\n",
       "      <td>536365</td>\n",
       "      <td>71053</td>\n",
       "      <td>WHITE METAL LANTERN</td>\n",
       "      <td>6</td>\n",
       "      <td>29-Nov-16</td>\n",
       "      <td>3.39</td>\n",
       "      <td>17850.0</td>\n",
       "      <td>United Kingdom</td>\n",
       "      <td>NaN</td>\n",
       "    </tr>\n",
       "    <tr>\n",
       "      <th>2</th>\n",
       "      <td>536365</td>\n",
       "      <td>84406B</td>\n",
       "      <td>CREAM CUPID HEARTS COAT HANGER</td>\n",
       "      <td>8</td>\n",
       "      <td>29-Nov-16</td>\n",
       "      <td>2.75</td>\n",
       "      <td>17850.0</td>\n",
       "      <td>United Kingdom</td>\n",
       "      <td>NaN</td>\n",
       "    </tr>\n",
       "    <tr>\n",
       "      <th>3</th>\n",
       "      <td>536365</td>\n",
       "      <td>84029G</td>\n",
       "      <td>KNITTED UNION FLAG HOT WATER BOTTLE</td>\n",
       "      <td>6</td>\n",
       "      <td>29-Nov-16</td>\n",
       "      <td>3.39</td>\n",
       "      <td>17850.0</td>\n",
       "      <td>United Kingdom</td>\n",
       "      <td>NaN</td>\n",
       "    </tr>\n",
       "    <tr>\n",
       "      <th>4</th>\n",
       "      <td>536365</td>\n",
       "      <td>84029E</td>\n",
       "      <td>RED WOOLLY HOTTIE WHITE HEART.</td>\n",
       "      <td>6</td>\n",
       "      <td>29-Nov-16</td>\n",
       "      <td>3.39</td>\n",
       "      <td>17850.0</td>\n",
       "      <td>United Kingdom</td>\n",
       "      <td>NaN</td>\n",
       "    </tr>\n",
       "    <tr>\n",
       "      <th>...</th>\n",
       "      <td>...</td>\n",
       "      <td>...</td>\n",
       "      <td>...</td>\n",
       "      <td>...</td>\n",
       "      <td>...</td>\n",
       "      <td>...</td>\n",
       "      <td>...</td>\n",
       "      <td>...</td>\n",
       "      <td>...</td>\n",
       "    </tr>\n",
       "    <tr>\n",
       "      <th>541904</th>\n",
       "      <td>581587</td>\n",
       "      <td>22613</td>\n",
       "      <td>PACK OF 20 SPACEBOY NAPKINS</td>\n",
       "      <td>12</td>\n",
       "      <td>7-Dec-17</td>\n",
       "      <td>0.85</td>\n",
       "      <td>12680.0</td>\n",
       "      <td>France</td>\n",
       "      <td>NaN</td>\n",
       "    </tr>\n",
       "    <tr>\n",
       "      <th>541905</th>\n",
       "      <td>581587</td>\n",
       "      <td>22899</td>\n",
       "      <td>CHILDREN'S APRON DOLLY GIRL</td>\n",
       "      <td>6</td>\n",
       "      <td>7-Dec-17</td>\n",
       "      <td>2.10</td>\n",
       "      <td>12680.0</td>\n",
       "      <td>France</td>\n",
       "      <td>NaN</td>\n",
       "    </tr>\n",
       "    <tr>\n",
       "      <th>541906</th>\n",
       "      <td>581587</td>\n",
       "      <td>23254</td>\n",
       "      <td>CHILDRENS CUTLERY DOLLY GIRL</td>\n",
       "      <td>4</td>\n",
       "      <td>7-Dec-17</td>\n",
       "      <td>4.15</td>\n",
       "      <td>12680.0</td>\n",
       "      <td>France</td>\n",
       "      <td>NaN</td>\n",
       "    </tr>\n",
       "    <tr>\n",
       "      <th>541907</th>\n",
       "      <td>581587</td>\n",
       "      <td>23255</td>\n",
       "      <td>CHILDRENS CUTLERY CIRCUS PARADE</td>\n",
       "      <td>4</td>\n",
       "      <td>7-Dec-17</td>\n",
       "      <td>4.15</td>\n",
       "      <td>12680.0</td>\n",
       "      <td>France</td>\n",
       "      <td>NaN</td>\n",
       "    </tr>\n",
       "    <tr>\n",
       "      <th>541908</th>\n",
       "      <td>581587</td>\n",
       "      <td>22138</td>\n",
       "      <td>BAKING SET 9 PIECE RETROSPOT</td>\n",
       "      <td>3</td>\n",
       "      <td>7-Dec-17</td>\n",
       "      <td>4.95</td>\n",
       "      <td>12680.0</td>\n",
       "      <td>France</td>\n",
       "      <td>NaN</td>\n",
       "    </tr>\n",
       "  </tbody>\n",
       "</table>\n",
       "<p>541909 rows × 9 columns</p>\n",
       "</div>"
      ],
      "text/plain": [
       "       InvoiceNo StockCode                          Description  Quantity  \\\n",
       "0         536365    85123A   WHITE HANGING HEART T-LIGHT HOLDER         6   \n",
       "1         536365     71053                  WHITE METAL LANTERN         6   \n",
       "2         536365    84406B       CREAM CUPID HEARTS COAT HANGER         8   \n",
       "3         536365    84029G  KNITTED UNION FLAG HOT WATER BOTTLE         6   \n",
       "4         536365    84029E       RED WOOLLY HOTTIE WHITE HEART.         6   \n",
       "...          ...       ...                                  ...       ...   \n",
       "541904    581587     22613          PACK OF 20 SPACEBOY NAPKINS        12   \n",
       "541905    581587     22899         CHILDREN'S APRON DOLLY GIRL          6   \n",
       "541906    581587     23254        CHILDRENS CUTLERY DOLLY GIRL          4   \n",
       "541907    581587     23255      CHILDRENS CUTLERY CIRCUS PARADE         4   \n",
       "541908    581587     22138        BAKING SET 9 PIECE RETROSPOT          3   \n",
       "\n",
       "       InvoiceDate  UnitPrice  CustomerID         Country  Unnamed: 8  \n",
       "0        29-Nov-16       2.55     17850.0  United Kingdom         NaN  \n",
       "1        29-Nov-16       3.39     17850.0  United Kingdom         NaN  \n",
       "2        29-Nov-16       2.75     17850.0  United Kingdom         NaN  \n",
       "3        29-Nov-16       3.39     17850.0  United Kingdom         NaN  \n",
       "4        29-Nov-16       3.39     17850.0  United Kingdom         NaN  \n",
       "...            ...        ...         ...             ...         ...  \n",
       "541904    7-Dec-17       0.85     12680.0          France         NaN  \n",
       "541905    7-Dec-17       2.10     12680.0          France         NaN  \n",
       "541906    7-Dec-17       4.15     12680.0          France         NaN  \n",
       "541907    7-Dec-17       4.15     12680.0          France         NaN  \n",
       "541908    7-Dec-17       4.95     12680.0          France         NaN  \n",
       "\n",
       "[541909 rows x 9 columns]"
      ]
     },
     "execution_count": 10,
     "metadata": {},
     "output_type": "execute_result"
    }
   ],
   "source": [
    "df_raw"
   ]
  },
  {
   "cell_type": "code",
   "execution_count": 12,
   "id": "20bbb7e1",
   "metadata": {
    "ExecuteTime": {
     "end_time": "2023-06-06T12:56:45.664557Z",
     "start_time": "2023-06-06T12:56:45.513265Z"
    }
   },
   "outputs": [],
   "source": [
    "#Excluindo a coluna unnamed\n",
    "df_raw.drop(columns=['Unnamed: 8'], axis=1, inplace=True)"
   ]
  },
  {
   "cell_type": "markdown",
   "id": "0f22b808",
   "metadata": {},
   "source": [
    "# <font color='red'> 2.0. Descrição dos dados. </font>"
   ]
  },
  {
   "cell_type": "code",
   "execution_count": 18,
   "id": "b9319c82",
   "metadata": {
    "ExecuteTime": {
     "end_time": "2023-06-06T13:02:09.011630Z",
     "start_time": "2023-06-06T13:02:08.942589Z"
    }
   },
   "outputs": [],
   "source": [
    "df1 = df_raw.copy()"
   ]
  },
  {
   "cell_type": "markdown",
   "id": "9392cd72",
   "metadata": {},
   "source": [
    "## 2.1. Rename Columns"
   ]
  },
  {
   "cell_type": "code",
   "execution_count": 19,
   "id": "5eefb925",
   "metadata": {
    "ExecuteTime": {
     "end_time": "2023-06-06T13:02:19.530399Z",
     "start_time": "2023-06-06T13:02:19.512508Z"
    }
   },
   "outputs": [
    {
     "data": {
      "text/plain": [
       "Index(['invoice_no', 'stock_code', 'description', 'quantity', 'invoice_date',\n",
       "       'unit_price', 'customer_id', 'country'],\n",
       "      dtype='object')"
      ]
     },
     "execution_count": 19,
     "metadata": {},
     "output_type": "execute_result"
    }
   ],
   "source": [
    "df_raw.columns"
   ]
  },
  {
   "cell_type": "code",
   "execution_count": 20,
   "id": "9b4499a4",
   "metadata": {
    "ExecuteTime": {
     "end_time": "2023-06-06T13:02:24.614623Z",
     "start_time": "2023-06-06T13:02:24.596167Z"
    }
   },
   "outputs": [],
   "source": [
    "cols_old = ['InvoiceNo', 'StockCode', 'Description', 'Quantity', 'InvoiceDate','UnitPrice', 'CustomerID', 'Country']\n",
    "\n",
    "snakecase = lambda x: inflection.underscore( x )\n",
    "\n",
    "cols_new = list( map( snakecase, cols_old ) )\n",
    "\n",
    "# rename\n",
    "df1.columns = cols_new"
   ]
  },
  {
   "cell_type": "code",
   "execution_count": 21,
   "id": "bb3b1326",
   "metadata": {
    "ExecuteTime": {
     "end_time": "2023-06-06T13:02:29.829810Z",
     "start_time": "2023-06-06T13:02:29.740479Z"
    }
   },
   "outputs": [
    {
     "data": {
      "text/html": [
       "<div>\n",
       "<style scoped>\n",
       "    .dataframe tbody tr th:only-of-type {\n",
       "        vertical-align: middle;\n",
       "    }\n",
       "\n",
       "    .dataframe tbody tr th {\n",
       "        vertical-align: top;\n",
       "    }\n",
       "\n",
       "    .dataframe thead th {\n",
       "        text-align: right;\n",
       "    }\n",
       "</style>\n",
       "<table border=\"1\" class=\"dataframe\">\n",
       "  <thead>\n",
       "    <tr style=\"text-align: right;\">\n",
       "      <th></th>\n",
       "      <th>invoice_no</th>\n",
       "      <th>stock_code</th>\n",
       "      <th>description</th>\n",
       "      <th>quantity</th>\n",
       "      <th>invoice_date</th>\n",
       "      <th>unit_price</th>\n",
       "      <th>customer_id</th>\n",
       "      <th>country</th>\n",
       "    </tr>\n",
       "  </thead>\n",
       "  <tbody>\n",
       "    <tr>\n",
       "      <th>239245</th>\n",
       "      <td>558035</td>\n",
       "      <td>48188</td>\n",
       "      <td>DOORMAT WELCOME PUPPIES</td>\n",
       "      <td>2</td>\n",
       "      <td>22-Jun-17</td>\n",
       "      <td>7.95</td>\n",
       "      <td>15258.0</td>\n",
       "      <td>United Kingdom</td>\n",
       "    </tr>\n",
       "  </tbody>\n",
       "</table>\n",
       "</div>"
      ],
      "text/plain": [
       "       invoice_no stock_code              description  quantity invoice_date  \\\n",
       "239245     558035      48188  DOORMAT WELCOME PUPPIES         2    22-Jun-17   \n",
       "\n",
       "        unit_price  customer_id         country  \n",
       "239245        7.95      15258.0  United Kingdom  "
      ]
     },
     "execution_count": 21,
     "metadata": {},
     "output_type": "execute_result"
    }
   ],
   "source": [
    "df1.sample()"
   ]
  },
  {
   "cell_type": "markdown",
   "id": "005d433f",
   "metadata": {},
   "source": [
    "## 2.2. Data Dimensions"
   ]
  },
  {
   "cell_type": "code",
   "execution_count": 24,
   "id": "fa0a32e8",
   "metadata": {
    "ExecuteTime": {
     "end_time": "2023-06-06T13:04:07.926293Z",
     "start_time": "2023-06-06T13:04:07.912150Z"
    }
   },
   "outputs": [
    {
     "name": "stdout",
     "output_type": "stream",
     "text": [
      "Numero de linhas: 541909\n",
      "Numero de colunas: 8\n"
     ]
    }
   ],
   "source": [
    "print(f'Numero de linhas: {df1.shape[0]}')\n",
    "print(f'Numero de colunas: {df1.shape[1]}')"
   ]
  },
  {
   "cell_type": "markdown",
   "id": "08cfef54",
   "metadata": {},
   "source": [
    "## 2.3. Data types"
   ]
  },
  {
   "cell_type": "code",
   "execution_count": 25,
   "id": "56d9c059",
   "metadata": {
    "ExecuteTime": {
     "end_time": "2023-06-06T13:05:15.979024Z",
     "start_time": "2023-06-06T13:05:15.951864Z"
    }
   },
   "outputs": [
    {
     "data": {
      "text/plain": [
       "invoice_no       object\n",
       "stock_code       object\n",
       "description      object\n",
       "quantity          int64\n",
       "invoice_date     object\n",
       "unit_price      float64\n",
       "customer_id     float64\n",
       "country          object\n",
       "dtype: object"
      ]
     },
     "execution_count": 25,
     "metadata": {},
     "output_type": "execute_result"
    }
   ],
   "source": [
    "df1.dtypes"
   ]
  },
  {
   "cell_type": "code",
   "execution_count": 26,
   "id": "494dc786",
   "metadata": {
    "ExecuteTime": {
     "end_time": "2023-06-06T13:05:27.495414Z",
     "start_time": "2023-06-06T13:05:27.463870Z"
    }
   },
   "outputs": [
    {
     "data": {
      "text/html": [
       "<div>\n",
       "<style scoped>\n",
       "    .dataframe tbody tr th:only-of-type {\n",
       "        vertical-align: middle;\n",
       "    }\n",
       "\n",
       "    .dataframe tbody tr th {\n",
       "        vertical-align: top;\n",
       "    }\n",
       "\n",
       "    .dataframe thead th {\n",
       "        text-align: right;\n",
       "    }\n",
       "</style>\n",
       "<table border=\"1\" class=\"dataframe\">\n",
       "  <thead>\n",
       "    <tr style=\"text-align: right;\">\n",
       "      <th></th>\n",
       "      <th>invoice_no</th>\n",
       "      <th>stock_code</th>\n",
       "      <th>description</th>\n",
       "      <th>quantity</th>\n",
       "      <th>invoice_date</th>\n",
       "      <th>unit_price</th>\n",
       "      <th>customer_id</th>\n",
       "      <th>country</th>\n",
       "    </tr>\n",
       "  </thead>\n",
       "  <tbody>\n",
       "    <tr>\n",
       "      <th>0</th>\n",
       "      <td>536365</td>\n",
       "      <td>85123A</td>\n",
       "      <td>WHITE HANGING HEART T-LIGHT HOLDER</td>\n",
       "      <td>6</td>\n",
       "      <td>29-Nov-16</td>\n",
       "      <td>2.55</td>\n",
       "      <td>17850.0</td>\n",
       "      <td>United Kingdom</td>\n",
       "    </tr>\n",
       "    <tr>\n",
       "      <th>1</th>\n",
       "      <td>536365</td>\n",
       "      <td>71053</td>\n",
       "      <td>WHITE METAL LANTERN</td>\n",
       "      <td>6</td>\n",
       "      <td>29-Nov-16</td>\n",
       "      <td>3.39</td>\n",
       "      <td>17850.0</td>\n",
       "      <td>United Kingdom</td>\n",
       "    </tr>\n",
       "    <tr>\n",
       "      <th>2</th>\n",
       "      <td>536365</td>\n",
       "      <td>84406B</td>\n",
       "      <td>CREAM CUPID HEARTS COAT HANGER</td>\n",
       "      <td>8</td>\n",
       "      <td>29-Nov-16</td>\n",
       "      <td>2.75</td>\n",
       "      <td>17850.0</td>\n",
       "      <td>United Kingdom</td>\n",
       "    </tr>\n",
       "    <tr>\n",
       "      <th>3</th>\n",
       "      <td>536365</td>\n",
       "      <td>84029G</td>\n",
       "      <td>KNITTED UNION FLAG HOT WATER BOTTLE</td>\n",
       "      <td>6</td>\n",
       "      <td>29-Nov-16</td>\n",
       "      <td>3.39</td>\n",
       "      <td>17850.0</td>\n",
       "      <td>United Kingdom</td>\n",
       "    </tr>\n",
       "    <tr>\n",
       "      <th>4</th>\n",
       "      <td>536365</td>\n",
       "      <td>84029E</td>\n",
       "      <td>RED WOOLLY HOTTIE WHITE HEART.</td>\n",
       "      <td>6</td>\n",
       "      <td>29-Nov-16</td>\n",
       "      <td>3.39</td>\n",
       "      <td>17850.0</td>\n",
       "      <td>United Kingdom</td>\n",
       "    </tr>\n",
       "  </tbody>\n",
       "</table>\n",
       "</div>"
      ],
      "text/plain": [
       "  invoice_no stock_code                          description  quantity  \\\n",
       "0     536365     85123A   WHITE HANGING HEART T-LIGHT HOLDER         6   \n",
       "1     536365      71053                  WHITE METAL LANTERN         6   \n",
       "2     536365     84406B       CREAM CUPID HEARTS COAT HANGER         8   \n",
       "3     536365     84029G  KNITTED UNION FLAG HOT WATER BOTTLE         6   \n",
       "4     536365     84029E       RED WOOLLY HOTTIE WHITE HEART.         6   \n",
       "\n",
       "  invoice_date  unit_price  customer_id         country  \n",
       "0    29-Nov-16        2.55      17850.0  United Kingdom  \n",
       "1    29-Nov-16        3.39      17850.0  United Kingdom  \n",
       "2    29-Nov-16        2.75      17850.0  United Kingdom  \n",
       "3    29-Nov-16        3.39      17850.0  United Kingdom  \n",
       "4    29-Nov-16        3.39      17850.0  United Kingdom  "
      ]
     },
     "execution_count": 26,
     "metadata": {},
     "output_type": "execute_result"
    }
   ],
   "source": [
    "df1.head()"
   ]
  },
  {
   "cell_type": "markdown",
   "id": "ae0f52ab",
   "metadata": {
    "ExecuteTime": {
     "end_time": "2023-06-06T13:20:14.131263Z",
     "start_time": "2023-06-06T13:20:14.119750Z"
    }
   },
   "source": [
    "## 2.4. Check NA"
   ]
  },
  {
   "cell_type": "code",
   "execution_count": 35,
   "id": "51dd20ec",
   "metadata": {
    "ExecuteTime": {
     "end_time": "2023-06-06T13:20:42.068375Z",
     "start_time": "2023-06-06T13:20:40.878650Z"
    }
   },
   "outputs": [
    {
     "data": {
      "text/plain": [
       "invoice_no           0\n",
       "stock_code           0\n",
       "description       1454\n",
       "quantity             0\n",
       "invoice_date         0\n",
       "unit_price           0\n",
       "customer_id     135080\n",
       "country              0\n",
       "dtype: int64"
      ]
     },
     "execution_count": 35,
     "metadata": {},
     "output_type": "execute_result"
    }
   ],
   "source": [
    "df1.isna().sum()"
   ]
  },
  {
   "cell_type": "markdown",
   "id": "8985d9bd",
   "metadata": {},
   "source": [
    "## 2.5. Replace NA"
   ]
  },
  {
   "cell_type": "code",
   "execution_count": 42,
   "id": "461d945a",
   "metadata": {
    "ExecuteTime": {
     "end_time": "2023-06-06T13:29:12.054043Z",
     "start_time": "2023-06-06T13:29:11.697570Z"
    }
   },
   "outputs": [
    {
     "name": "stdout",
     "output_type": "stream",
     "text": [
      "24.93 % dos dados foram removidos\n"
     ]
    }
   ],
   "source": [
    "df1 = df1.dropna(subset=['description', 'customer_id'])\n",
    "\n",
    "print(f'{ (1 -df1.shape[0]/ df_raw.shape[0]) * 100:.2f} % dos dados foram removidos')"
   ]
  },
  {
   "cell_type": "code",
   "execution_count": 43,
   "id": "41189e05",
   "metadata": {
    "ExecuteTime": {
     "end_time": "2023-06-06T13:29:40.104877Z",
     "start_time": "2023-06-06T13:29:39.309040Z"
    }
   },
   "outputs": [
    {
     "data": {
      "text/plain": [
       "invoice_no      0\n",
       "stock_code      0\n",
       "description     0\n",
       "quantity        0\n",
       "invoice_date    0\n",
       "unit_price      0\n",
       "customer_id     0\n",
       "country         0\n",
       "dtype: int64"
      ]
     },
     "execution_count": 43,
     "metadata": {},
     "output_type": "execute_result"
    }
   ],
   "source": [
    "df1.isna().sum()"
   ]
  },
  {
   "cell_type": "markdown",
   "id": "c7e5b10e",
   "metadata": {},
   "source": [
    "## 2.6. Change dtypes"
   ]
  },
  {
   "cell_type": "code",
   "execution_count": 45,
   "id": "a0e7f14e",
   "metadata": {
    "ExecuteTime": {
     "end_time": "2023-06-06T13:32:58.729775Z",
     "start_time": "2023-06-06T13:32:58.454820Z"
    }
   },
   "outputs": [
    {
     "data": {
      "text/html": [
       "<div>\n",
       "<style scoped>\n",
       "    .dataframe tbody tr th:only-of-type {\n",
       "        vertical-align: middle;\n",
       "    }\n",
       "\n",
       "    .dataframe tbody tr th {\n",
       "        vertical-align: top;\n",
       "    }\n",
       "\n",
       "    .dataframe thead th {\n",
       "        text-align: right;\n",
       "    }\n",
       "</style>\n",
       "<table border=\"1\" class=\"dataframe\">\n",
       "  <thead>\n",
       "    <tr style=\"text-align: right;\">\n",
       "      <th></th>\n",
       "      <th>invoice_no</th>\n",
       "      <th>stock_code</th>\n",
       "      <th>description</th>\n",
       "      <th>quantity</th>\n",
       "      <th>invoice_date</th>\n",
       "      <th>unit_price</th>\n",
       "      <th>customer_id</th>\n",
       "      <th>country</th>\n",
       "    </tr>\n",
       "  </thead>\n",
       "  <tbody>\n",
       "    <tr>\n",
       "      <th>0</th>\n",
       "      <td>536365</td>\n",
       "      <td>85123A</td>\n",
       "      <td>WHITE HANGING HEART T-LIGHT HOLDER</td>\n",
       "      <td>6</td>\n",
       "      <td>2016-11-29</td>\n",
       "      <td>2.55</td>\n",
       "      <td>17850.0</td>\n",
       "      <td>United Kingdom</td>\n",
       "    </tr>\n",
       "    <tr>\n",
       "      <th>1</th>\n",
       "      <td>536365</td>\n",
       "      <td>71053</td>\n",
       "      <td>WHITE METAL LANTERN</td>\n",
       "      <td>6</td>\n",
       "      <td>2016-11-29</td>\n",
       "      <td>3.39</td>\n",
       "      <td>17850.0</td>\n",
       "      <td>United Kingdom</td>\n",
       "    </tr>\n",
       "    <tr>\n",
       "      <th>2</th>\n",
       "      <td>536365</td>\n",
       "      <td>84406B</td>\n",
       "      <td>CREAM CUPID HEARTS COAT HANGER</td>\n",
       "      <td>8</td>\n",
       "      <td>2016-11-29</td>\n",
       "      <td>2.75</td>\n",
       "      <td>17850.0</td>\n",
       "      <td>United Kingdom</td>\n",
       "    </tr>\n",
       "    <tr>\n",
       "      <th>3</th>\n",
       "      <td>536365</td>\n",
       "      <td>84029G</td>\n",
       "      <td>KNITTED UNION FLAG HOT WATER BOTTLE</td>\n",
       "      <td>6</td>\n",
       "      <td>2016-11-29</td>\n",
       "      <td>3.39</td>\n",
       "      <td>17850.0</td>\n",
       "      <td>United Kingdom</td>\n",
       "    </tr>\n",
       "    <tr>\n",
       "      <th>4</th>\n",
       "      <td>536365</td>\n",
       "      <td>84029E</td>\n",
       "      <td>RED WOOLLY HOTTIE WHITE HEART.</td>\n",
       "      <td>6</td>\n",
       "      <td>2016-11-29</td>\n",
       "      <td>3.39</td>\n",
       "      <td>17850.0</td>\n",
       "      <td>United Kingdom</td>\n",
       "    </tr>\n",
       "  </tbody>\n",
       "</table>\n",
       "</div>"
      ],
      "text/plain": [
       "  invoice_no stock_code                          description  quantity  \\\n",
       "0     536365     85123A   WHITE HANGING HEART T-LIGHT HOLDER         6   \n",
       "1     536365      71053                  WHITE METAL LANTERN         6   \n",
       "2     536365     84406B       CREAM CUPID HEARTS COAT HANGER         8   \n",
       "3     536365     84029G  KNITTED UNION FLAG HOT WATER BOTTLE         6   \n",
       "4     536365     84029E       RED WOOLLY HOTTIE WHITE HEART.         6   \n",
       "\n",
       "  invoice_date  unit_price  customer_id         country  \n",
       "0   2016-11-29        2.55      17850.0  United Kingdom  \n",
       "1   2016-11-29        3.39      17850.0  United Kingdom  \n",
       "2   2016-11-29        2.75      17850.0  United Kingdom  \n",
       "3   2016-11-29        3.39      17850.0  United Kingdom  \n",
       "4   2016-11-29        3.39      17850.0  United Kingdom  "
      ]
     },
     "execution_count": 45,
     "metadata": {},
     "output_type": "execute_result"
    }
   ],
   "source": [
    "#invoice_date\n",
    "df1['invoice_date'] = pd.to_datetime(df1['invoice_date'], format='%d-%b-%y')\n",
    "df1.head()"
   ]
  },
  {
   "cell_type": "code",
   "execution_count": 46,
   "id": "a7b715bf",
   "metadata": {
    "ExecuteTime": {
     "end_time": "2023-06-06T13:37:10.061239Z",
     "start_time": "2023-06-06T13:37:10.009469Z"
    }
   },
   "outputs": [
    {
     "data": {
      "text/html": [
       "<div>\n",
       "<style scoped>\n",
       "    .dataframe tbody tr th:only-of-type {\n",
       "        vertical-align: middle;\n",
       "    }\n",
       "\n",
       "    .dataframe tbody tr th {\n",
       "        vertical-align: top;\n",
       "    }\n",
       "\n",
       "    .dataframe thead th {\n",
       "        text-align: right;\n",
       "    }\n",
       "</style>\n",
       "<table border=\"1\" class=\"dataframe\">\n",
       "  <thead>\n",
       "    <tr style=\"text-align: right;\">\n",
       "      <th></th>\n",
       "      <th>invoice_no</th>\n",
       "      <th>stock_code</th>\n",
       "      <th>description</th>\n",
       "      <th>quantity</th>\n",
       "      <th>invoice_date</th>\n",
       "      <th>unit_price</th>\n",
       "      <th>customer_id</th>\n",
       "      <th>country</th>\n",
       "    </tr>\n",
       "  </thead>\n",
       "  <tbody>\n",
       "    <tr>\n",
       "      <th>0</th>\n",
       "      <td>536365</td>\n",
       "      <td>85123A</td>\n",
       "      <td>WHITE HANGING HEART T-LIGHT HOLDER</td>\n",
       "      <td>6</td>\n",
       "      <td>2016-11-29</td>\n",
       "      <td>2.55</td>\n",
       "      <td>17850</td>\n",
       "      <td>United Kingdom</td>\n",
       "    </tr>\n",
       "    <tr>\n",
       "      <th>1</th>\n",
       "      <td>536365</td>\n",
       "      <td>71053</td>\n",
       "      <td>WHITE METAL LANTERN</td>\n",
       "      <td>6</td>\n",
       "      <td>2016-11-29</td>\n",
       "      <td>3.39</td>\n",
       "      <td>17850</td>\n",
       "      <td>United Kingdom</td>\n",
       "    </tr>\n",
       "    <tr>\n",
       "      <th>2</th>\n",
       "      <td>536365</td>\n",
       "      <td>84406B</td>\n",
       "      <td>CREAM CUPID HEARTS COAT HANGER</td>\n",
       "      <td>8</td>\n",
       "      <td>2016-11-29</td>\n",
       "      <td>2.75</td>\n",
       "      <td>17850</td>\n",
       "      <td>United Kingdom</td>\n",
       "    </tr>\n",
       "    <tr>\n",
       "      <th>3</th>\n",
       "      <td>536365</td>\n",
       "      <td>84029G</td>\n",
       "      <td>KNITTED UNION FLAG HOT WATER BOTTLE</td>\n",
       "      <td>6</td>\n",
       "      <td>2016-11-29</td>\n",
       "      <td>3.39</td>\n",
       "      <td>17850</td>\n",
       "      <td>United Kingdom</td>\n",
       "    </tr>\n",
       "    <tr>\n",
       "      <th>4</th>\n",
       "      <td>536365</td>\n",
       "      <td>84029E</td>\n",
       "      <td>RED WOOLLY HOTTIE WHITE HEART.</td>\n",
       "      <td>6</td>\n",
       "      <td>2016-11-29</td>\n",
       "      <td>3.39</td>\n",
       "      <td>17850</td>\n",
       "      <td>United Kingdom</td>\n",
       "    </tr>\n",
       "  </tbody>\n",
       "</table>\n",
       "</div>"
      ],
      "text/plain": [
       "  invoice_no stock_code                          description  quantity  \\\n",
       "0     536365     85123A   WHITE HANGING HEART T-LIGHT HOLDER         6   \n",
       "1     536365      71053                  WHITE METAL LANTERN         6   \n",
       "2     536365     84406B       CREAM CUPID HEARTS COAT HANGER         8   \n",
       "3     536365     84029G  KNITTED UNION FLAG HOT WATER BOTTLE         6   \n",
       "4     536365     84029E       RED WOOLLY HOTTIE WHITE HEART.         6   \n",
       "\n",
       "  invoice_date  unit_price  customer_id         country  \n",
       "0   2016-11-29        2.55        17850  United Kingdom  \n",
       "1   2016-11-29        3.39        17850  United Kingdom  \n",
       "2   2016-11-29        2.75        17850  United Kingdom  \n",
       "3   2016-11-29        3.39        17850  United Kingdom  \n",
       "4   2016-11-29        3.39        17850  United Kingdom  "
      ]
     },
     "execution_count": 46,
     "metadata": {},
     "output_type": "execute_result"
    }
   ],
   "source": [
    "#customer_id\n",
    "df1['customer_id'] = df1['customer_id'].astype(int)\n",
    "df1.head()"
   ]
  },
  {
   "cell_type": "code",
   "execution_count": 47,
   "id": "a6b37a62",
   "metadata": {
    "ExecuteTime": {
     "end_time": "2023-06-06T13:37:40.957540Z",
     "start_time": "2023-06-06T13:37:40.940991Z"
    }
   },
   "outputs": [
    {
     "data": {
      "text/plain": [
       "invoice_no              object\n",
       "stock_code              object\n",
       "description             object\n",
       "quantity                 int64\n",
       "invoice_date    datetime64[ns]\n",
       "unit_price             float64\n",
       "customer_id              int32\n",
       "country                 object\n",
       "dtype: object"
      ]
     },
     "execution_count": 47,
     "metadata": {},
     "output_type": "execute_result"
    }
   ],
   "source": [
    "df1.dtypes"
   ]
  },
  {
   "cell_type": "markdown",
   "id": "975c1392",
   "metadata": {},
   "source": [
    "## 2.7. Descriptive Statistics"
   ]
  },
  {
   "cell_type": "markdown",
   "id": "c59d454b",
   "metadata": {
    "ExecuteTime": {
     "end_time": "2023-06-06T12:29:37.003644Z",
     "start_time": "2023-06-06T12:29:36.989929Z"
    }
   },
   "source": [
    "# <font color='red'> 3.0. Feature Enginering </font>"
   ]
  },
  {
   "cell_type": "code",
   "execution_count": 48,
   "id": "4ae754f8",
   "metadata": {
    "ExecuteTime": {
     "end_time": "2023-06-06T13:38:31.393693Z",
     "start_time": "2023-06-06T13:38:31.349717Z"
    }
   },
   "outputs": [],
   "source": [
    "df2 = df1.copy()"
   ]
  },
  {
   "cell_type": "markdown",
   "id": "2926b8c3",
   "metadata": {},
   "source": [
    "## 3.1. Feature Creation"
   ]
  },
  {
   "cell_type": "code",
   "execution_count": 53,
   "id": "48b029c7",
   "metadata": {
    "ExecuteTime": {
     "end_time": "2023-06-06T13:45:44.116616Z",
     "start_time": "2023-06-06T13:45:44.041395Z"
    }
   },
   "outputs": [
    {
     "data": {
      "text/html": [
       "<div>\n",
       "<style scoped>\n",
       "    .dataframe tbody tr th:only-of-type {\n",
       "        vertical-align: middle;\n",
       "    }\n",
       "\n",
       "    .dataframe tbody tr th {\n",
       "        vertical-align: top;\n",
       "    }\n",
       "\n",
       "    .dataframe thead th {\n",
       "        text-align: right;\n",
       "    }\n",
       "</style>\n",
       "<table border=\"1\" class=\"dataframe\">\n",
       "  <thead>\n",
       "    <tr style=\"text-align: right;\">\n",
       "      <th></th>\n",
       "      <th>customer_id</th>\n",
       "    </tr>\n",
       "  </thead>\n",
       "  <tbody>\n",
       "    <tr>\n",
       "      <th>0</th>\n",
       "      <td>17850</td>\n",
       "    </tr>\n",
       "    <tr>\n",
       "      <th>1</th>\n",
       "      <td>13047</td>\n",
       "    </tr>\n",
       "    <tr>\n",
       "      <th>2</th>\n",
       "      <td>12583</td>\n",
       "    </tr>\n",
       "    <tr>\n",
       "      <th>3</th>\n",
       "      <td>13748</td>\n",
       "    </tr>\n",
       "    <tr>\n",
       "      <th>4</th>\n",
       "      <td>15100</td>\n",
       "    </tr>\n",
       "  </tbody>\n",
       "</table>\n",
       "</div>"
      ],
      "text/plain": [
       "   customer_id\n",
       "0        17850\n",
       "1        13047\n",
       "2        12583\n",
       "3        13748\n",
       "4        15100"
      ]
     },
     "execution_count": 53,
     "metadata": {},
     "output_type": "execute_result"
    }
   ],
   "source": [
    "df_ref = df2[['customer_id']].drop_duplicates(ignore_index=True)\n",
    "df_ref.head()"
   ]
  },
  {
   "cell_type": "code",
   "execution_count": 59,
   "id": "837b4872",
   "metadata": {
    "ExecuteTime": {
     "end_time": "2023-06-06T16:00:24.699962Z",
     "start_time": "2023-06-06T16:00:24.596342Z"
    }
   },
   "outputs": [
    {
     "data": {
      "text/html": [
       "<div>\n",
       "<style scoped>\n",
       "    .dataframe tbody tr th:only-of-type {\n",
       "        vertical-align: middle;\n",
       "    }\n",
       "\n",
       "    .dataframe tbody tr th {\n",
       "        vertical-align: top;\n",
       "    }\n",
       "\n",
       "    .dataframe thead th {\n",
       "        text-align: right;\n",
       "    }\n",
       "</style>\n",
       "<table border=\"1\" class=\"dataframe\">\n",
       "  <thead>\n",
       "    <tr style=\"text-align: right;\">\n",
       "      <th></th>\n",
       "      <th>customer_id</th>\n",
       "      <th>gross_revenue</th>\n",
       "    </tr>\n",
       "  </thead>\n",
       "  <tbody>\n",
       "    <tr>\n",
       "      <th>0</th>\n",
       "      <td>17850</td>\n",
       "      <td>5288.63</td>\n",
       "    </tr>\n",
       "    <tr>\n",
       "      <th>1</th>\n",
       "      <td>13047</td>\n",
       "      <td>3079.10</td>\n",
       "    </tr>\n",
       "    <tr>\n",
       "      <th>2</th>\n",
       "      <td>12583</td>\n",
       "      <td>7187.34</td>\n",
       "    </tr>\n",
       "    <tr>\n",
       "      <th>3</th>\n",
       "      <td>13748</td>\n",
       "      <td>948.25</td>\n",
       "    </tr>\n",
       "    <tr>\n",
       "      <th>4</th>\n",
       "      <td>15100</td>\n",
       "      <td>635.10</td>\n",
       "    </tr>\n",
       "  </tbody>\n",
       "</table>\n",
       "</div>"
      ],
      "text/plain": [
       "   customer_id  gross_revenue\n",
       "0        17850        5288.63\n",
       "1        13047        3079.10\n",
       "2        12583        7187.34\n",
       "3        13748         948.25\n",
       "4        15100         635.10"
      ]
     },
     "execution_count": 59,
     "metadata": {},
     "output_type": "execute_result"
    }
   ],
   "source": [
    "#Faturamento = Quantity * price\n",
    "df2['gross_revenue'] = df2['quantity'] * df2['unit_price']\n",
    "\n",
    "\n",
    "#Monetary\n",
    "df2[['customer_id', 'gross_revenue']].head()\n",
    "\n",
    "\n",
    "df_monetary = df2[['customer_id', 'gross_revenue']].groupby('customer_id').sum().reset_index()\n",
    "\n",
    "#merge com o df_ref\n",
    "\n",
    "df_ref = pd.merge(df_ref, df_monetary, on='customer_id', how='left')\n",
    "df_ref.head()"
   ]
  },
  {
   "cell_type": "code",
   "execution_count": 62,
   "id": "317bdca9",
   "metadata": {
    "ExecuteTime": {
     "end_time": "2023-06-06T16:23:03.689480Z",
     "start_time": "2023-06-06T16:23:03.600571Z"
    }
   },
   "outputs": [
    {
     "data": {
      "text/html": [
       "<div>\n",
       "<style scoped>\n",
       "    .dataframe tbody tr th:only-of-type {\n",
       "        vertical-align: middle;\n",
       "    }\n",
       "\n",
       "    .dataframe tbody tr th {\n",
       "        vertical-align: top;\n",
       "    }\n",
       "\n",
       "    .dataframe thead th {\n",
       "        text-align: right;\n",
       "    }\n",
       "</style>\n",
       "<table border=\"1\" class=\"dataframe\">\n",
       "  <thead>\n",
       "    <tr style=\"text-align: right;\">\n",
       "      <th></th>\n",
       "      <th>customer_id</th>\n",
       "      <th>gross_revenue</th>\n",
       "      <th>recency_days</th>\n",
       "    </tr>\n",
       "  </thead>\n",
       "  <tbody>\n",
       "    <tr>\n",
       "      <th>0</th>\n",
       "      <td>17850</td>\n",
       "      <td>5288.63</td>\n",
       "      <td>302</td>\n",
       "    </tr>\n",
       "    <tr>\n",
       "      <th>1</th>\n",
       "      <td>13047</td>\n",
       "      <td>3079.10</td>\n",
       "      <td>31</td>\n",
       "    </tr>\n",
       "    <tr>\n",
       "      <th>2</th>\n",
       "      <td>12583</td>\n",
       "      <td>7187.34</td>\n",
       "      <td>2</td>\n",
       "    </tr>\n",
       "    <tr>\n",
       "      <th>3</th>\n",
       "      <td>13748</td>\n",
       "      <td>948.25</td>\n",
       "      <td>95</td>\n",
       "    </tr>\n",
       "    <tr>\n",
       "      <th>4</th>\n",
       "      <td>15100</td>\n",
       "      <td>635.10</td>\n",
       "      <td>330</td>\n",
       "    </tr>\n",
       "  </tbody>\n",
       "</table>\n",
       "</div>"
      ],
      "text/plain": [
       "   customer_id  gross_revenue  recency_days\n",
       "0        17850        5288.63           302\n",
       "1        13047        3079.10            31\n",
       "2        12583        7187.34             2\n",
       "3        13748         948.25            95\n",
       "4        15100         635.10           330"
      ]
     },
     "execution_count": 62,
     "metadata": {},
     "output_type": "execute_result"
    }
   ],
   "source": [
    "#Recency\n",
    "df_recency = df2[['customer_id', 'invoice_date']].groupby('customer_id').max().reset_index()\n",
    "df_recency['recency_days'] = (df2['invoice_date'].max() - df_recency['invoice_date']).dt.days\n",
    "df_recency = df_recency[['customer_id', 'recency_days']].copy()\n",
    "\n",
    "\n",
    "df_ref = pd.merge(df_ref, df_recency, on='customer_id', how='left')\n",
    "df_ref.head()\n"
   ]
  },
  {
   "cell_type": "code",
   "execution_count": 64,
   "id": "8745bee9",
   "metadata": {
    "ExecuteTime": {
     "end_time": "2023-06-06T16:25:48.913852Z",
     "start_time": "2023-06-06T16:25:48.883905Z"
    }
   },
   "outputs": [
    {
     "data": {
      "text/html": [
       "<div>\n",
       "<style scoped>\n",
       "    .dataframe tbody tr th:only-of-type {\n",
       "        vertical-align: middle;\n",
       "    }\n",
       "\n",
       "    .dataframe tbody tr th {\n",
       "        vertical-align: top;\n",
       "    }\n",
       "\n",
       "    .dataframe thead th {\n",
       "        text-align: right;\n",
       "    }\n",
       "</style>\n",
       "<table border=\"1\" class=\"dataframe\">\n",
       "  <thead>\n",
       "    <tr style=\"text-align: right;\">\n",
       "      <th></th>\n",
       "      <th>customer_id</th>\n",
       "      <th>invoice_no</th>\n",
       "    </tr>\n",
       "  </thead>\n",
       "  <tbody>\n",
       "    <tr>\n",
       "      <th>0</th>\n",
       "      <td>17850</td>\n",
       "      <td>536365</td>\n",
       "    </tr>\n",
       "    <tr>\n",
       "      <th>1</th>\n",
       "      <td>17850</td>\n",
       "      <td>536365</td>\n",
       "    </tr>\n",
       "    <tr>\n",
       "      <th>2</th>\n",
       "      <td>17850</td>\n",
       "      <td>536365</td>\n",
       "    </tr>\n",
       "    <tr>\n",
       "      <th>3</th>\n",
       "      <td>17850</td>\n",
       "      <td>536365</td>\n",
       "    </tr>\n",
       "    <tr>\n",
       "      <th>4</th>\n",
       "      <td>17850</td>\n",
       "      <td>536365</td>\n",
       "    </tr>\n",
       "  </tbody>\n",
       "</table>\n",
       "</div>"
      ],
      "text/plain": [
       "   customer_id invoice_no\n",
       "0        17850     536365\n",
       "1        17850     536365\n",
       "2        17850     536365\n",
       "3        17850     536365\n",
       "4        17850     536365"
      ]
     },
     "execution_count": 64,
     "metadata": {},
     "output_type": "execute_result"
    }
   ],
   "source": [
    "#Frequency\n",
    "\n",
    "df2[['customer_id', 'invoice_no']].head()"
   ]
  },
  {
   "cell_type": "code",
   "execution_count": 66,
   "id": "ad59f679",
   "metadata": {
    "ExecuteTime": {
     "end_time": "2023-06-06T16:26:26.001083Z",
     "start_time": "2023-06-06T16:26:25.841715Z"
    }
   },
   "outputs": [
    {
     "data": {
      "text/html": [
       "<div>\n",
       "<style scoped>\n",
       "    .dataframe tbody tr th:only-of-type {\n",
       "        vertical-align: middle;\n",
       "    }\n",
       "\n",
       "    .dataframe tbody tr th {\n",
       "        vertical-align: top;\n",
       "    }\n",
       "\n",
       "    .dataframe thead th {\n",
       "        text-align: right;\n",
       "    }\n",
       "</style>\n",
       "<table border=\"1\" class=\"dataframe\">\n",
       "  <thead>\n",
       "    <tr style=\"text-align: right;\">\n",
       "      <th></th>\n",
       "      <th>customer_id</th>\n",
       "      <th>invoice_no</th>\n",
       "    </tr>\n",
       "  </thead>\n",
       "  <tbody>\n",
       "    <tr>\n",
       "      <th>0</th>\n",
       "      <td>17850</td>\n",
       "      <td>536365</td>\n",
       "    </tr>\n",
       "    <tr>\n",
       "      <th>7</th>\n",
       "      <td>17850</td>\n",
       "      <td>536366</td>\n",
       "    </tr>\n",
       "    <tr>\n",
       "      <th>9</th>\n",
       "      <td>13047</td>\n",
       "      <td>536367</td>\n",
       "    </tr>\n",
       "    <tr>\n",
       "      <th>21</th>\n",
       "      <td>13047</td>\n",
       "      <td>536368</td>\n",
       "    </tr>\n",
       "    <tr>\n",
       "      <th>25</th>\n",
       "      <td>13047</td>\n",
       "      <td>536369</td>\n",
       "    </tr>\n",
       "  </tbody>\n",
       "</table>\n",
       "</div>"
      ],
      "text/plain": [
       "    customer_id invoice_no\n",
       "0         17850     536365\n",
       "7         17850     536366\n",
       "9         13047     536367\n",
       "21        13047     536368\n",
       "25        13047     536369"
      ]
     },
     "execution_count": 66,
     "metadata": {},
     "output_type": "execute_result"
    }
   ],
   "source": [
    "df2[['customer_id', 'invoice_no']].drop_duplicates().head()"
   ]
  },
  {
   "cell_type": "code",
   "execution_count": 69,
   "id": "c97875f0",
   "metadata": {
    "ExecuteTime": {
     "end_time": "2023-06-06T17:49:14.435130Z",
     "start_time": "2023-06-06T17:49:14.267845Z"
    }
   },
   "outputs": [
    {
     "data": {
      "text/html": [
       "<div>\n",
       "<style scoped>\n",
       "    .dataframe tbody tr th:only-of-type {\n",
       "        vertical-align: middle;\n",
       "    }\n",
       "\n",
       "    .dataframe tbody tr th {\n",
       "        vertical-align: top;\n",
       "    }\n",
       "\n",
       "    .dataframe thead th {\n",
       "        text-align: right;\n",
       "    }\n",
       "</style>\n",
       "<table border=\"1\" class=\"dataframe\">\n",
       "  <thead>\n",
       "    <tr style=\"text-align: right;\">\n",
       "      <th></th>\n",
       "      <th>customer_id</th>\n",
       "      <th>invoice_no</th>\n",
       "    </tr>\n",
       "  </thead>\n",
       "  <tbody>\n",
       "    <tr>\n",
       "      <th>0</th>\n",
       "      <td>12346</td>\n",
       "      <td>2</td>\n",
       "    </tr>\n",
       "    <tr>\n",
       "      <th>1</th>\n",
       "      <td>12347</td>\n",
       "      <td>7</td>\n",
       "    </tr>\n",
       "    <tr>\n",
       "      <th>2</th>\n",
       "      <td>12348</td>\n",
       "      <td>4</td>\n",
       "    </tr>\n",
       "    <tr>\n",
       "      <th>3</th>\n",
       "      <td>12349</td>\n",
       "      <td>1</td>\n",
       "    </tr>\n",
       "    <tr>\n",
       "      <th>4</th>\n",
       "      <td>12350</td>\n",
       "      <td>1</td>\n",
       "    </tr>\n",
       "  </tbody>\n",
       "</table>\n",
       "</div>"
      ],
      "text/plain": [
       "   customer_id  invoice_no\n",
       "0        12346           2\n",
       "1        12347           7\n",
       "2        12348           4\n",
       "3        12349           1\n",
       "4        12350           1"
      ]
     },
     "execution_count": 69,
     "metadata": {},
     "output_type": "execute_result"
    }
   ],
   "source": [
    "df_frequency = df2[['customer_id', 'invoice_no']].drop_duplicates().groupby('customer_id').count().reset_index()\n",
    "df_frequency.head()"
   ]
  },
  {
   "cell_type": "code",
   "execution_count": 70,
   "id": "f4f2d83d",
   "metadata": {
    "ExecuteTime": {
     "end_time": "2023-06-06T18:14:04.497211Z",
     "start_time": "2023-06-06T18:14:04.400336Z"
    }
   },
   "outputs": [
    {
     "data": {
      "text/html": [
       "<div>\n",
       "<style scoped>\n",
       "    .dataframe tbody tr th:only-of-type {\n",
       "        vertical-align: middle;\n",
       "    }\n",
       "\n",
       "    .dataframe tbody tr th {\n",
       "        vertical-align: top;\n",
       "    }\n",
       "\n",
       "    .dataframe thead th {\n",
       "        text-align: right;\n",
       "    }\n",
       "</style>\n",
       "<table border=\"1\" class=\"dataframe\">\n",
       "  <thead>\n",
       "    <tr style=\"text-align: right;\">\n",
       "      <th></th>\n",
       "      <th>customer_id</th>\n",
       "      <th>gross_revenue</th>\n",
       "      <th>recency_days</th>\n",
       "      <th>invoice_no</th>\n",
       "    </tr>\n",
       "  </thead>\n",
       "  <tbody>\n",
       "    <tr>\n",
       "      <th>0</th>\n",
       "      <td>17850</td>\n",
       "      <td>5288.63</td>\n",
       "      <td>302</td>\n",
       "      <td>35</td>\n",
       "    </tr>\n",
       "    <tr>\n",
       "      <th>1</th>\n",
       "      <td>13047</td>\n",
       "      <td>3079.10</td>\n",
       "      <td>31</td>\n",
       "      <td>18</td>\n",
       "    </tr>\n",
       "    <tr>\n",
       "      <th>2</th>\n",
       "      <td>12583</td>\n",
       "      <td>7187.34</td>\n",
       "      <td>2</td>\n",
       "      <td>18</td>\n",
       "    </tr>\n",
       "    <tr>\n",
       "      <th>3</th>\n",
       "      <td>13748</td>\n",
       "      <td>948.25</td>\n",
       "      <td>95</td>\n",
       "      <td>5</td>\n",
       "    </tr>\n",
       "    <tr>\n",
       "      <th>4</th>\n",
       "      <td>15100</td>\n",
       "      <td>635.10</td>\n",
       "      <td>330</td>\n",
       "      <td>6</td>\n",
       "    </tr>\n",
       "  </tbody>\n",
       "</table>\n",
       "</div>"
      ],
      "text/plain": [
       "   customer_id  gross_revenue  recency_days  invoice_no\n",
       "0        17850        5288.63           302          35\n",
       "1        13047        3079.10            31          18\n",
       "2        12583        7187.34             2          18\n",
       "3        13748         948.25            95           5\n",
       "4        15100         635.10           330           6"
      ]
     },
     "execution_count": 70,
     "metadata": {},
     "output_type": "execute_result"
    }
   ],
   "source": [
    "df_ref = pd.merge(df_ref, df_frequency, on='customer_id', how='left')\n",
    "df_ref.head()"
   ]
  },
  {
   "cell_type": "markdown",
   "id": "816e314b",
   "metadata": {},
   "source": [
    "# <font color='red'> 4.0. Filtragem de Variáveis </font>"
   ]
  },
  {
   "cell_type": "code",
   "execution_count": 72,
   "id": "b20b59e3",
   "metadata": {
    "ExecuteTime": {
     "end_time": "2023-06-06T18:16:05.520274Z",
     "start_time": "2023-06-06T18:16:05.482626Z"
    }
   },
   "outputs": [],
   "source": [
    "df3 = df_ref.copy()"
   ]
  },
  {
   "cell_type": "markdown",
   "id": "1ef972df",
   "metadata": {},
   "source": [
    "# <font color='red'> 5.0. EDA </font>"
   ]
  },
  {
   "cell_type": "code",
   "execution_count": 73,
   "id": "8d6fb193",
   "metadata": {
    "ExecuteTime": {
     "end_time": "2023-06-06T18:16:34.592313Z",
     "start_time": "2023-06-06T18:16:34.572338Z"
    }
   },
   "outputs": [],
   "source": [
    "df4 = df3.copy()"
   ]
  },
  {
   "cell_type": "markdown",
   "id": "b93a8cab",
   "metadata": {},
   "source": [
    "# <font color='red'> 6.0. Data Preparation </font>"
   ]
  },
  {
   "cell_type": "code",
   "execution_count": 74,
   "id": "922d7351",
   "metadata": {
    "ExecuteTime": {
     "end_time": "2023-06-06T18:16:47.435388Z",
     "start_time": "2023-06-06T18:16:47.417289Z"
    }
   },
   "outputs": [],
   "source": [
    "df5 = df4.copy()"
   ]
  },
  {
   "cell_type": "markdown",
   "id": "d36b9fb5",
   "metadata": {},
   "source": [
    "# <font color='red'> 7.0. Feature Selection </font>"
   ]
  },
  {
   "cell_type": "code",
   "execution_count": 75,
   "id": "d15a92dc",
   "metadata": {
    "ExecuteTime": {
     "end_time": "2023-06-06T18:18:06.407334Z",
     "start_time": "2023-06-06T18:18:06.394170Z"
    }
   },
   "outputs": [],
   "source": [
    "df6 = df5.copy()"
   ]
  },
  {
   "cell_type": "markdown",
   "id": "7a104c71",
   "metadata": {},
   "source": [
    "# <font color='red'> 8.0. Hyperparameter Fine-Tunning </font>"
   ]
  },
  {
   "cell_type": "code",
   "execution_count": 77,
   "id": "aa75cc2a",
   "metadata": {
    "ExecuteTime": {
     "end_time": "2023-06-06T18:20:40.842202Z",
     "start_time": "2023-06-06T18:20:40.827043Z"
    }
   },
   "outputs": [],
   "source": [
    "X = df6.drop(columns = ['customer_id'])"
   ]
  },
  {
   "cell_type": "code",
   "execution_count": null,
   "id": "8bff2ebb",
   "metadata": {},
   "outputs": [],
   "source": [
    "clusters = [2, 3, 4, 5, 6]"
   ]
  },
  {
   "cell_type": "markdown",
   "id": "4860be9d",
   "metadata": {},
   "source": [
    "## 8.1. Within-Cluster Sum of Square (WSS)"
   ]
  },
  {
   "cell_type": "code",
   "execution_count": null,
   "id": "1b52fad2",
   "metadata": {},
   "outputs": [],
   "source": [
    "wss = []\n",
    "for k in clusters:\n",
    "    #model definition\n",
    "    KMeans( init='random', n_clusters=k, n_init=10, max_iter=300, random_state=42)\n",
    "    \n",
    "    #model training\n",
    "    kmeans.fit(X)\n",
    "    \n",
    "    #validation\n",
    "    wss.append(kmeans.inertia_)\n",
    "    \n",
    "#plot wss\n",
    "plt.plot    "
   ]
  },
  {
   "cell_type": "markdown",
   "id": "9a42521a",
   "metadata": {},
   "source": [
    "# <font color='red'> 9.0. Model Training </font>"
   ]
  },
  {
   "cell_type": "code",
   "execution_count": 2,
   "id": "eae40795",
   "metadata": {
    "ExecuteTime": {
     "end_time": "2023-06-06T12:34:58.499041Z",
     "start_time": "2023-06-06T12:34:58.475714Z"
    }
   },
   "outputs": [],
   "source": [
    "# <font color='red'> 7.0. Feature Selection </font>"
   ]
  }
 ],
 "metadata": {
  "kernelspec": {
   "display_name": "Python 3 (ipykernel)",
   "language": "python",
   "name": "python3"
  },
  "language_info": {
   "codemirror_mode": {
    "name": "ipython",
    "version": 3
   },
   "file_extension": ".py",
   "mimetype": "text/x-python",
   "name": "python",
   "nbconvert_exporter": "python",
   "pygments_lexer": "ipython3",
   "version": "3.9.12"
  },
  "varInspector": {
   "cols": {
    "lenName": 16,
    "lenType": 16,
    "lenVar": 40
   },
   "kernels_config": {
    "python": {
     "delete_cmd_postfix": "",
     "delete_cmd_prefix": "del ",
     "library": "var_list.py",
     "varRefreshCmd": "print(var_dic_list())"
    },
    "r": {
     "delete_cmd_postfix": ") ",
     "delete_cmd_prefix": "rm(",
     "library": "var_list.r",
     "varRefreshCmd": "cat(var_dic_list()) "
    }
   },
   "types_to_exclude": [
    "module",
    "function",
    "builtin_function_or_method",
    "instance",
    "_Feature"
   ],
   "window_display": false
  }
 },
 "nbformat": 4,
 "nbformat_minor": 5
}
