{
 "cells": [
  {
   "cell_type": "markdown",
   "id": "b5e59fe8",
   "metadata": {},
   "source": [
    "## <font color= 'red'> Ciclo 00 - Planejamento - Metodo IOT"
   ]
  },
  {
   "cell_type": "markdown",
   "id": "ea7dd2d4",
   "metadata": {
    "heading_collapsed": true
   },
   "source": [
    "## <font color= 'red'> Ciclo 01 - Métricas de Validação de Clusters"
   ]
  },
  {
   "cell_type": "markdown",
   "id": "89f79f38",
   "metadata": {
    "ExecuteTime": {
     "end_time": "2023-06-14T13:34:37.195003Z",
     "start_time": "2023-06-14T13:34:37.145726Z"
    },
    "hidden": true
   },
   "source": [
    "1. Feature Engineering\n",
    "    - Recencia\n",
    "    - Frequencia\n",
    "    - Monetização\n",
    "    \n",
    "    \n",
    "2. Métricas de validação de Clustering\n",
    "    - WSS (Within - Cluster Sum od Squate)\n",
    "    - SS (Silhouette Score)\n",
    "    \n",
    "    \n",
    "3. Cluster Analysis\n",
    "    - Plot 3d\n",
    "    - Cluster Profile"
   ]
  },
  {
   "cell_type": "markdown",
   "id": "01b7d7e1",
   "metadata": {
    "heading_collapsed": true
   },
   "source": [
    "## <font color= 'red'> Ciclo 02 - Analise de Silhouette"
   ]
  },
  {
   "cell_type": "markdown",
   "id": "606e5537",
   "metadata": {
    "hidden": true
   },
   "source": [
    "1. Feature Engineering\n",
    "    - Average Ticket\n",
    "    \n",
    "    \n",
    "2. Análise de Silhouette\n",
    "    - Silhouette Analysis\n",
    "    \n",
    "    \n",
    "3. Cluster Visualization\n",
    "    - UMAP\n",
    "    \n",
    "    \n",
    "4. Cluster Analise de Perfil\n",
    "    - Descrição dos Centróides"
   ]
  },
  {
   "cell_type": "markdown",
   "id": "d6bb8ca2",
   "metadata": {
    "heading_collapsed": true
   },
   "source": [
    "## <font color= 'red'> Ciclo 03 - Statistical Descriptive"
   ]
  },
  {
   "cell_type": "markdown",
   "id": "725f750c",
   "metadata": {
    "hidden": true
   },
   "source": [
    "1. Análise Descritiva\n",
    "    - Atributos numéricos\n",
    "    - Atributos categóricos\n",
    "    \n",
    "    \n",
    "2. Feature Engineering\n",
    "    - Avarege Recency\n",
    "    - Number of Returns\n",
    "    \n",
    "    \n",
    "3. Data Preparation\n",
    "    - Standard Scaler"
   ]
  },
  {
   "cell_type": "markdown",
   "id": "93010fa5-90d5-40fb-8380-fbc9e6f358e6",
   "metadata": {},
   "source": [
    "# Planejamento da Solução (IOT)\n",
    "\n",
    "###### - Input (Entrada).\n",
    "    a - Problema de Negocio\n",
    "    b - Questões que serão respondidas\n",
    "    c - Dados de entrada / Fonte  de Dados\n",
    "    \n",
    "###### - Output( Saída ).\n",
    "    a - Anásile de dados\n",
    "    b - Algoritmo de Machine Learning treinado\n",
    "    c - Dashboard\n",
    "    \n",
    "###### - Tasks (Tarefas).\n",
    "    a - Plano de Execução\n",
    "    b - Ferramentas\n",
    "    "
   ]
  },
  {
   "cell_type": "markdown",
   "id": "041cb983-b21b-4dba-9596-7a015b4ff4e7",
   "metadata": {},
   "source": [
    "# PA005 : High Value Customer Identification (Insiders)"
   ]
  },
  {
   "cell_type": "markdown",
   "id": "ef8ce2a9-af46-4d46-b02b-3593e9c2cdd1",
   "metadata": {},
   "source": [
    "## 0.0. Planejamento da solução (IOT)"
   ]
  },
  {
   "cell_type": "markdown",
   "id": "f5c4ecfb-ba8e-4cd1-a915-08483ac245c7",
   "metadata": {},
   "source": [
    "### Input - Entrada"
   ]
  },
  {
   "cell_type": "markdown",
   "id": "89f1d647-5e62-4421-9a61-3bf8e099981d",
   "metadata": {},
   "source": [
    "1. Problema de Negócio\n",
    "    - Selecionar os clientes mais valiosos para integrar um programa de Fidelização\n",
    "    \n",
    "2. Conjunto de dados\n",
    "    - Vendas de um e-commerce online, durante o periodo de um ano."
   ]
  },
  {
   "cell_type": "markdown",
   "id": "1d077b17-4873-46d8-96ce-6a652c240b50",
   "metadata": {},
   "source": [
    "### Output - Saída"
   ]
  },
  {
   "cell_type": "markdown",
   "id": "e8dfbdb5-90d9-4bef-a69c-508dfa46005f",
   "metadata": {},
   "source": [
    "1. A indicação das pessoas que farão parte do programa de Insiders\n",
    " - Lista:   client_id | is_insider|\n",
    "    \n",
    "               10323 | yes/1\n",
    "               32413 | no/0"
   ]
  },
  {
   "cell_type": "markdown",
   "id": "08e87952-b8cf-4be1-8876-8b6c47071107",
   "metadata": {},
   "source": [
    "### Tasks - Tarefas"
   ]
  },
  {
   "cell_type": "markdown",
   "id": "81084cce-a8e7-4e25-80b2-fd66b84d84b6",
   "metadata": {},
   "source": [
    "1. Quem são as pessoas elegíveis para participar do programa de Insiders ?\n",
    "    - O que é ser elegivel? O que são clientes de maior \"Valor\".\n",
    "        \n",
    "        - Faturamento\n",
    "        \n",
    "            - Alto Ticket Médio\n",
    "            - Alto LTV ( Life time value )\n",
    "            - Baixa Recência\n",
    "            - Alto basket size\n",
    "            - Baixa probabilidade de churn.\n",
    "            - Previsão de LTV\n",
    "            - Alta propensão de compra.\n",
    "            \n",
    "        - Custo\n",
    "        \n",
    "            - Baixo taxa de devolução\n",
    "            \n",
    "        - Experiência de compra\n",
    "        \n",
    "            - Média alta das avaliações\n",
    "    \n",
    "2. Quantos Clientes farão parte do grupo ?\n",
    "    - Número total de clientes\n",
    "    - % de Insiders\n",
    "    \n",
    "3. Quais as principais caracteristicas desses clientes ?\n",
    "    - Escrever caracteristivas do cliente\n",
    "    \n",
    "        - Idade\n",
    "        - Localização\n",
    "        \n",
    "    - Escrever caracteristicas de consumo\n",
    "    \n",
    "        - Atributos da clusterização\n",
    "        \n",
    "4. Qual a porcentagem de contribuição do faturamento desse grupo para os proximos mese ?\n",
    "    - Faturamento total do ano\n",
    "    - Faturamento do grupo Insiders\n",
    "    \n",
    "5. Qual a expectativa de faturamento desse grupo para os proximos meses ?\n",
    "    - LTV do grupo Insiders\n",
    "    - Analise de Cohort\n",
    "    \n",
    "6. Quais as condições para uma pessoa ser elegivel ao Insiders ?\n",
    "    - Definir a periodicidade (1 mes, 3 meses)\n",
    "    - A pessoa precisa ser similar ou pareceido com uma pessoa do grupo.\n",
    "    \n",
    "7. Quais as condições para uma pessoa ser removida do Insiders ?\n",
    "    - Definir a periodicidade (1 mes, 3 meses)\n",
    "    - A pessoa precisa ser desimilar ou não pareceido com uma pessoa do grupo.\n",
    "    \n",
    "8. Qual a garantia que o programa Insiders é melhor que o restante da base?\n",
    "    - Teste A/B\n",
    "    - Teste A/B Bayesiano\n",
    "    - Teste de hipóteses.\n",
    "    \n",
    "9. Quais ações o time de marketing pode realizar para aumentar o faturamento?\n",
    "    - Desconto\n",
    "    - Preferencia de compra\n",
    "    - Frete\n",
    "    - Visista a empresa"
   ]
  },
  {
   "cell_type": "markdown",
   "id": "25ca2c07",
   "metadata": {},
   "source": [
    "# <font color='red'> 1.0. Imports </font>"
   ]
  },
  {
   "cell_type": "code",
   "execution_count": 29,
   "id": "6d3cfa90",
   "metadata": {
    "ExecuteTime": {
     "end_time": "2023-06-14T12:13:11.434376Z",
     "start_time": "2023-06-14T12:13:11.413710Z"
    }
   },
   "outputs": [],
   "source": [
    "import pandas as pd\n",
    "import seaborn as sns\n",
    "import inflection\n",
    "import warnings\n",
    "import regex as re\n",
    "\n",
    "\n",
    "#import umap.umap_ as umap\n",
    "from sklearn import cluster as c\n",
    "from matplotlib import pyplot as plt\n",
    "from yellowbrick.cluster import KElbowVisualizer, SilhouetteVisualizer\n",
    "from IPython.display import HTML\n",
    "from sklearn import metrics as m\n",
    "\n",
    "from plotly import express as px"
   ]
  },
  {
   "cell_type": "markdown",
   "id": "80937746",
   "metadata": {},
   "source": [
    "## 0.1. Help Functions"
   ]
  },
  {
   "cell_type": "code",
   "execution_count": 2,
   "id": "44b9d76d",
   "metadata": {
    "ExecuteTime": {
     "end_time": "2023-06-14T11:50:38.825905Z",
     "start_time": "2023-06-14T11:50:38.804866Z"
    }
   },
   "outputs": [],
   "source": [
    "def jupyter_settings():\n",
    "    %matplotlib inline\n",
    "    %pylab inline\n",
    "    \n",
    "    plt.style.use( 'bmh' )\n",
    "    plt.rcParams['figure.figsize'] = [25, 12]\n",
    "    plt.rcParams['font.size'] = 24\n",
    "    \n",
    "    display( HTML( '<style>.container { width:100% !important; }</style>') )\n",
    "    pd.options.display.max_columns = None\n",
    "    pd.options.display.max_rows = None\n",
    "    pd.set_option( 'display.expand_frame_repr', False )\n",
    "    \n",
    "    sns.set()\n",
    "warnings.filterwarnings( 'ignore' )    "
   ]
  },
  {
   "cell_type": "markdown",
   "id": "1d033f53",
   "metadata": {},
   "source": [
    "## 0.2 Load Dataset"
   ]
  },
  {
   "cell_type": "code",
   "execution_count": 3,
   "id": "f7e3af6c",
   "metadata": {
    "ExecuteTime": {
     "end_time": "2023-06-14T11:50:40.544406Z",
     "start_time": "2023-06-14T11:50:38.829874Z"
    }
   },
   "outputs": [],
   "source": [
    "df_raw = pd.read_csv('Ecommerce.csv',encoding='unicode_escape')"
   ]
  },
  {
   "cell_type": "code",
   "execution_count": 4,
   "id": "a1667865",
   "metadata": {
    "ExecuteTime": {
     "end_time": "2023-06-14T11:50:40.621526Z",
     "start_time": "2023-06-14T11:50:40.547491Z"
    }
   },
   "outputs": [
    {
     "data": {
      "text/html": [
       "<div>\n",
       "<style scoped>\n",
       "    .dataframe tbody tr th:only-of-type {\n",
       "        vertical-align: middle;\n",
       "    }\n",
       "\n",
       "    .dataframe tbody tr th {\n",
       "        vertical-align: top;\n",
       "    }\n",
       "\n",
       "    .dataframe thead th {\n",
       "        text-align: right;\n",
       "    }\n",
       "</style>\n",
       "<table border=\"1\" class=\"dataframe\">\n",
       "  <thead>\n",
       "    <tr style=\"text-align: right;\">\n",
       "      <th></th>\n",
       "      <th>InvoiceNo</th>\n",
       "      <th>StockCode</th>\n",
       "      <th>Description</th>\n",
       "      <th>Quantity</th>\n",
       "      <th>InvoiceDate</th>\n",
       "      <th>UnitPrice</th>\n",
       "      <th>CustomerID</th>\n",
       "      <th>Country</th>\n",
       "      <th>Unnamed: 8</th>\n",
       "    </tr>\n",
       "  </thead>\n",
       "  <tbody>\n",
       "    <tr>\n",
       "      <th>0</th>\n",
       "      <td>536365</td>\n",
       "      <td>85123A</td>\n",
       "      <td>WHITE HANGING HEART T-LIGHT HOLDER</td>\n",
       "      <td>6</td>\n",
       "      <td>29-Nov-16</td>\n",
       "      <td>2.55</td>\n",
       "      <td>17850.0</td>\n",
       "      <td>United Kingdom</td>\n",
       "      <td>NaN</td>\n",
       "    </tr>\n",
       "    <tr>\n",
       "      <th>1</th>\n",
       "      <td>536365</td>\n",
       "      <td>71053</td>\n",
       "      <td>WHITE METAL LANTERN</td>\n",
       "      <td>6</td>\n",
       "      <td>29-Nov-16</td>\n",
       "      <td>3.39</td>\n",
       "      <td>17850.0</td>\n",
       "      <td>United Kingdom</td>\n",
       "      <td>NaN</td>\n",
       "    </tr>\n",
       "    <tr>\n",
       "      <th>2</th>\n",
       "      <td>536365</td>\n",
       "      <td>84406B</td>\n",
       "      <td>CREAM CUPID HEARTS COAT HANGER</td>\n",
       "      <td>8</td>\n",
       "      <td>29-Nov-16</td>\n",
       "      <td>2.75</td>\n",
       "      <td>17850.0</td>\n",
       "      <td>United Kingdom</td>\n",
       "      <td>NaN</td>\n",
       "    </tr>\n",
       "    <tr>\n",
       "      <th>3</th>\n",
       "      <td>536365</td>\n",
       "      <td>84029G</td>\n",
       "      <td>KNITTED UNION FLAG HOT WATER BOTTLE</td>\n",
       "      <td>6</td>\n",
       "      <td>29-Nov-16</td>\n",
       "      <td>3.39</td>\n",
       "      <td>17850.0</td>\n",
       "      <td>United Kingdom</td>\n",
       "      <td>NaN</td>\n",
       "    </tr>\n",
       "    <tr>\n",
       "      <th>4</th>\n",
       "      <td>536365</td>\n",
       "      <td>84029E</td>\n",
       "      <td>RED WOOLLY HOTTIE WHITE HEART.</td>\n",
       "      <td>6</td>\n",
       "      <td>29-Nov-16</td>\n",
       "      <td>3.39</td>\n",
       "      <td>17850.0</td>\n",
       "      <td>United Kingdom</td>\n",
       "      <td>NaN</td>\n",
       "    </tr>\n",
       "    <tr>\n",
       "      <th>...</th>\n",
       "      <td>...</td>\n",
       "      <td>...</td>\n",
       "      <td>...</td>\n",
       "      <td>...</td>\n",
       "      <td>...</td>\n",
       "      <td>...</td>\n",
       "      <td>...</td>\n",
       "      <td>...</td>\n",
       "      <td>...</td>\n",
       "    </tr>\n",
       "    <tr>\n",
       "      <th>541904</th>\n",
       "      <td>581587</td>\n",
       "      <td>22613</td>\n",
       "      <td>PACK OF 20 SPACEBOY NAPKINS</td>\n",
       "      <td>12</td>\n",
       "      <td>7-Dec-17</td>\n",
       "      <td>0.85</td>\n",
       "      <td>12680.0</td>\n",
       "      <td>France</td>\n",
       "      <td>NaN</td>\n",
       "    </tr>\n",
       "    <tr>\n",
       "      <th>541905</th>\n",
       "      <td>581587</td>\n",
       "      <td>22899</td>\n",
       "      <td>CHILDREN'S APRON DOLLY GIRL</td>\n",
       "      <td>6</td>\n",
       "      <td>7-Dec-17</td>\n",
       "      <td>2.10</td>\n",
       "      <td>12680.0</td>\n",
       "      <td>France</td>\n",
       "      <td>NaN</td>\n",
       "    </tr>\n",
       "    <tr>\n",
       "      <th>541906</th>\n",
       "      <td>581587</td>\n",
       "      <td>23254</td>\n",
       "      <td>CHILDRENS CUTLERY DOLLY GIRL</td>\n",
       "      <td>4</td>\n",
       "      <td>7-Dec-17</td>\n",
       "      <td>4.15</td>\n",
       "      <td>12680.0</td>\n",
       "      <td>France</td>\n",
       "      <td>NaN</td>\n",
       "    </tr>\n",
       "    <tr>\n",
       "      <th>541907</th>\n",
       "      <td>581587</td>\n",
       "      <td>23255</td>\n",
       "      <td>CHILDRENS CUTLERY CIRCUS PARADE</td>\n",
       "      <td>4</td>\n",
       "      <td>7-Dec-17</td>\n",
       "      <td>4.15</td>\n",
       "      <td>12680.0</td>\n",
       "      <td>France</td>\n",
       "      <td>NaN</td>\n",
       "    </tr>\n",
       "    <tr>\n",
       "      <th>541908</th>\n",
       "      <td>581587</td>\n",
       "      <td>22138</td>\n",
       "      <td>BAKING SET 9 PIECE RETROSPOT</td>\n",
       "      <td>3</td>\n",
       "      <td>7-Dec-17</td>\n",
       "      <td>4.95</td>\n",
       "      <td>12680.0</td>\n",
       "      <td>France</td>\n",
       "      <td>NaN</td>\n",
       "    </tr>\n",
       "  </tbody>\n",
       "</table>\n",
       "<p>541909 rows × 9 columns</p>\n",
       "</div>"
      ],
      "text/plain": [
       "       InvoiceNo StockCode                          Description  Quantity  \\\n",
       "0         536365    85123A   WHITE HANGING HEART T-LIGHT HOLDER         6   \n",
       "1         536365     71053                  WHITE METAL LANTERN         6   \n",
       "2         536365    84406B       CREAM CUPID HEARTS COAT HANGER         8   \n",
       "3         536365    84029G  KNITTED UNION FLAG HOT WATER BOTTLE         6   \n",
       "4         536365    84029E       RED WOOLLY HOTTIE WHITE HEART.         6   \n",
       "...          ...       ...                                  ...       ...   \n",
       "541904    581587     22613          PACK OF 20 SPACEBOY NAPKINS        12   \n",
       "541905    581587     22899         CHILDREN'S APRON DOLLY GIRL          6   \n",
       "541906    581587     23254        CHILDRENS CUTLERY DOLLY GIRL          4   \n",
       "541907    581587     23255      CHILDRENS CUTLERY CIRCUS PARADE         4   \n",
       "541908    581587     22138        BAKING SET 9 PIECE RETROSPOT          3   \n",
       "\n",
       "       InvoiceDate  UnitPrice  CustomerID         Country  Unnamed: 8  \n",
       "0        29-Nov-16       2.55     17850.0  United Kingdom         NaN  \n",
       "1        29-Nov-16       3.39     17850.0  United Kingdom         NaN  \n",
       "2        29-Nov-16       2.75     17850.0  United Kingdom         NaN  \n",
       "3        29-Nov-16       3.39     17850.0  United Kingdom         NaN  \n",
       "4        29-Nov-16       3.39     17850.0  United Kingdom         NaN  \n",
       "...            ...        ...         ...             ...         ...  \n",
       "541904    7-Dec-17       0.85     12680.0          France         NaN  \n",
       "541905    7-Dec-17       2.10     12680.0          France         NaN  \n",
       "541906    7-Dec-17       4.15     12680.0          France         NaN  \n",
       "541907    7-Dec-17       4.15     12680.0          France         NaN  \n",
       "541908    7-Dec-17       4.95     12680.0          France         NaN  \n",
       "\n",
       "[541909 rows x 9 columns]"
      ]
     },
     "execution_count": 4,
     "metadata": {},
     "output_type": "execute_result"
    }
   ],
   "source": [
    "df_raw"
   ]
  },
  {
   "cell_type": "code",
   "execution_count": 5,
   "id": "20bbb7e1",
   "metadata": {
    "ExecuteTime": {
     "end_time": "2023-06-14T11:50:40.759241Z",
     "start_time": "2023-06-14T11:50:40.625612Z"
    }
   },
   "outputs": [],
   "source": [
    "#Excluindo a coluna unnamed\n",
    "df_raw.drop(columns=['Unnamed: 8'], axis=1, inplace=True)"
   ]
  },
  {
   "cell_type": "markdown",
   "id": "0f22b808",
   "metadata": {},
   "source": [
    "# <font color='red'> 2.0. Descrição dos dados. </font>"
   ]
  },
  {
   "cell_type": "code",
   "execution_count": 6,
   "id": "b9319c82",
   "metadata": {
    "ExecuteTime": {
     "end_time": "2023-06-14T11:50:40.836334Z",
     "start_time": "2023-06-14T11:50:40.770028Z"
    }
   },
   "outputs": [],
   "source": [
    "df1 = df_raw.copy()"
   ]
  },
  {
   "cell_type": "markdown",
   "id": "9392cd72",
   "metadata": {},
   "source": [
    "## 2.1. Rename Columns"
   ]
  },
  {
   "cell_type": "code",
   "execution_count": 7,
   "id": "5eefb925",
   "metadata": {
    "ExecuteTime": {
     "end_time": "2023-06-14T11:50:40.867194Z",
     "start_time": "2023-06-14T11:50:40.840132Z"
    }
   },
   "outputs": [
    {
     "data": {
      "text/plain": [
       "Index(['InvoiceNo', 'StockCode', 'Description', 'Quantity', 'InvoiceDate',\n",
       "       'UnitPrice', 'CustomerID', 'Country'],\n",
       "      dtype='object')"
      ]
     },
     "execution_count": 7,
     "metadata": {},
     "output_type": "execute_result"
    }
   ],
   "source": [
    "df_raw.columns"
   ]
  },
  {
   "cell_type": "code",
   "execution_count": 8,
   "id": "9b4499a4",
   "metadata": {
    "ExecuteTime": {
     "end_time": "2023-06-14T11:50:40.898057Z",
     "start_time": "2023-06-14T11:50:40.872312Z"
    }
   },
   "outputs": [],
   "source": [
    "cols_old = ['InvoiceNo', 'StockCode', 'Description', 'Quantity', 'InvoiceDate','UnitPrice', 'CustomerID', 'Country']\n",
    "\n",
    "snakecase = lambda x: inflection.underscore( x )\n",
    "\n",
    "cols_new = list( map( snakecase, cols_old ) )\n",
    "\n",
    "# rename\n",
    "df1.columns = cols_new"
   ]
  },
  {
   "cell_type": "code",
   "execution_count": 9,
   "id": "bb3b1326",
   "metadata": {
    "ExecuteTime": {
     "end_time": "2023-06-14T11:50:41.005530Z",
     "start_time": "2023-06-14T11:50:40.901418Z"
    }
   },
   "outputs": [
    {
     "data": {
      "text/html": [
       "<div>\n",
       "<style scoped>\n",
       "    .dataframe tbody tr th:only-of-type {\n",
       "        vertical-align: middle;\n",
       "    }\n",
       "\n",
       "    .dataframe tbody tr th {\n",
       "        vertical-align: top;\n",
       "    }\n",
       "\n",
       "    .dataframe thead th {\n",
       "        text-align: right;\n",
       "    }\n",
       "</style>\n",
       "<table border=\"1\" class=\"dataframe\">\n",
       "  <thead>\n",
       "    <tr style=\"text-align: right;\">\n",
       "      <th></th>\n",
       "      <th>invoice_no</th>\n",
       "      <th>stock_code</th>\n",
       "      <th>description</th>\n",
       "      <th>quantity</th>\n",
       "      <th>invoice_date</th>\n",
       "      <th>unit_price</th>\n",
       "      <th>customer_id</th>\n",
       "      <th>country</th>\n",
       "    </tr>\n",
       "  </thead>\n",
       "  <tbody>\n",
       "    <tr>\n",
       "      <th>118150</th>\n",
       "      <td>546423</td>\n",
       "      <td>21774</td>\n",
       "      <td>DECORATIVE CATS BATHROOM BOTTLE</td>\n",
       "      <td>1</td>\n",
       "      <td>11-Mar-17</td>\n",
       "      <td>1.25</td>\n",
       "      <td>14502.0</td>\n",
       "      <td>United Kingdom</td>\n",
       "    </tr>\n",
       "  </tbody>\n",
       "</table>\n",
       "</div>"
      ],
      "text/plain": [
       "       invoice_no stock_code                      description  quantity  \\\n",
       "118150     546423      21774  DECORATIVE CATS BATHROOM BOTTLE         1   \n",
       "\n",
       "       invoice_date  unit_price  customer_id         country  \n",
       "118150    11-Mar-17        1.25      14502.0  United Kingdom  "
      ]
     },
     "execution_count": 9,
     "metadata": {},
     "output_type": "execute_result"
    }
   ],
   "source": [
    "df1.sample()"
   ]
  },
  {
   "cell_type": "markdown",
   "id": "005d433f",
   "metadata": {},
   "source": [
    "## 2.2. Data Dimensions"
   ]
  },
  {
   "cell_type": "code",
   "execution_count": 10,
   "id": "fa0a32e8",
   "metadata": {
    "ExecuteTime": {
     "end_time": "2023-06-14T11:50:41.036134Z",
     "start_time": "2023-06-14T11:50:41.015666Z"
    }
   },
   "outputs": [
    {
     "name": "stdout",
     "output_type": "stream",
     "text": [
      "Numero de linhas: 541909\n",
      "Numero de colunas: 8\n"
     ]
    }
   ],
   "source": [
    "print(f'Numero de linhas: {df1.shape[0]}')\n",
    "print(f'Numero de colunas: {df1.shape[1]}')"
   ]
  },
  {
   "cell_type": "markdown",
   "id": "08cfef54",
   "metadata": {},
   "source": [
    "## 2.3. Data types"
   ]
  },
  {
   "cell_type": "code",
   "execution_count": 11,
   "id": "56d9c059",
   "metadata": {
    "ExecuteTime": {
     "end_time": "2023-06-14T11:50:41.066357Z",
     "start_time": "2023-06-14T11:50:41.041463Z"
    }
   },
   "outputs": [
    {
     "data": {
      "text/plain": [
       "invoice_no       object\n",
       "stock_code       object\n",
       "description      object\n",
       "quantity          int64\n",
       "invoice_date     object\n",
       "unit_price      float64\n",
       "customer_id     float64\n",
       "country          object\n",
       "dtype: object"
      ]
     },
     "execution_count": 11,
     "metadata": {},
     "output_type": "execute_result"
    }
   ],
   "source": [
    "df1.dtypes"
   ]
  },
  {
   "cell_type": "code",
   "execution_count": 12,
   "id": "494dc786",
   "metadata": {
    "ExecuteTime": {
     "end_time": "2023-06-14T11:50:41.112266Z",
     "start_time": "2023-06-14T11:50:41.069614Z"
    }
   },
   "outputs": [
    {
     "data": {
      "text/html": [
       "<div>\n",
       "<style scoped>\n",
       "    .dataframe tbody tr th:only-of-type {\n",
       "        vertical-align: middle;\n",
       "    }\n",
       "\n",
       "    .dataframe tbody tr th {\n",
       "        vertical-align: top;\n",
       "    }\n",
       "\n",
       "    .dataframe thead th {\n",
       "        text-align: right;\n",
       "    }\n",
       "</style>\n",
       "<table border=\"1\" class=\"dataframe\">\n",
       "  <thead>\n",
       "    <tr style=\"text-align: right;\">\n",
       "      <th></th>\n",
       "      <th>invoice_no</th>\n",
       "      <th>stock_code</th>\n",
       "      <th>description</th>\n",
       "      <th>quantity</th>\n",
       "      <th>invoice_date</th>\n",
       "      <th>unit_price</th>\n",
       "      <th>customer_id</th>\n",
       "      <th>country</th>\n",
       "    </tr>\n",
       "  </thead>\n",
       "  <tbody>\n",
       "    <tr>\n",
       "      <th>0</th>\n",
       "      <td>536365</td>\n",
       "      <td>85123A</td>\n",
       "      <td>WHITE HANGING HEART T-LIGHT HOLDER</td>\n",
       "      <td>6</td>\n",
       "      <td>29-Nov-16</td>\n",
       "      <td>2.55</td>\n",
       "      <td>17850.0</td>\n",
       "      <td>United Kingdom</td>\n",
       "    </tr>\n",
       "    <tr>\n",
       "      <th>1</th>\n",
       "      <td>536365</td>\n",
       "      <td>71053</td>\n",
       "      <td>WHITE METAL LANTERN</td>\n",
       "      <td>6</td>\n",
       "      <td>29-Nov-16</td>\n",
       "      <td>3.39</td>\n",
       "      <td>17850.0</td>\n",
       "      <td>United Kingdom</td>\n",
       "    </tr>\n",
       "    <tr>\n",
       "      <th>2</th>\n",
       "      <td>536365</td>\n",
       "      <td>84406B</td>\n",
       "      <td>CREAM CUPID HEARTS COAT HANGER</td>\n",
       "      <td>8</td>\n",
       "      <td>29-Nov-16</td>\n",
       "      <td>2.75</td>\n",
       "      <td>17850.0</td>\n",
       "      <td>United Kingdom</td>\n",
       "    </tr>\n",
       "    <tr>\n",
       "      <th>3</th>\n",
       "      <td>536365</td>\n",
       "      <td>84029G</td>\n",
       "      <td>KNITTED UNION FLAG HOT WATER BOTTLE</td>\n",
       "      <td>6</td>\n",
       "      <td>29-Nov-16</td>\n",
       "      <td>3.39</td>\n",
       "      <td>17850.0</td>\n",
       "      <td>United Kingdom</td>\n",
       "    </tr>\n",
       "    <tr>\n",
       "      <th>4</th>\n",
       "      <td>536365</td>\n",
       "      <td>84029E</td>\n",
       "      <td>RED WOOLLY HOTTIE WHITE HEART.</td>\n",
       "      <td>6</td>\n",
       "      <td>29-Nov-16</td>\n",
       "      <td>3.39</td>\n",
       "      <td>17850.0</td>\n",
       "      <td>United Kingdom</td>\n",
       "    </tr>\n",
       "  </tbody>\n",
       "</table>\n",
       "</div>"
      ],
      "text/plain": [
       "  invoice_no stock_code                          description  quantity  \\\n",
       "0     536365     85123A   WHITE HANGING HEART T-LIGHT HOLDER         6   \n",
       "1     536365      71053                  WHITE METAL LANTERN         6   \n",
       "2     536365     84406B       CREAM CUPID HEARTS COAT HANGER         8   \n",
       "3     536365     84029G  KNITTED UNION FLAG HOT WATER BOTTLE         6   \n",
       "4     536365     84029E       RED WOOLLY HOTTIE WHITE HEART.         6   \n",
       "\n",
       "  invoice_date  unit_price  customer_id         country  \n",
       "0    29-Nov-16        2.55      17850.0  United Kingdom  \n",
       "1    29-Nov-16        3.39      17850.0  United Kingdom  \n",
       "2    29-Nov-16        2.75      17850.0  United Kingdom  \n",
       "3    29-Nov-16        3.39      17850.0  United Kingdom  \n",
       "4    29-Nov-16        3.39      17850.0  United Kingdom  "
      ]
     },
     "execution_count": 12,
     "metadata": {},
     "output_type": "execute_result"
    }
   ],
   "source": [
    "df1.head()"
   ]
  },
  {
   "cell_type": "markdown",
   "id": "ae0f52ab",
   "metadata": {
    "ExecuteTime": {
     "end_time": "2023-06-06T13:20:14.131263Z",
     "start_time": "2023-06-06T13:20:14.119750Z"
    }
   },
   "source": [
    "## 2.4. Check NA"
   ]
  },
  {
   "cell_type": "code",
   "execution_count": 13,
   "id": "51dd20ec",
   "metadata": {
    "ExecuteTime": {
     "end_time": "2023-06-14T11:50:42.004123Z",
     "start_time": "2023-06-14T11:50:41.119342Z"
    }
   },
   "outputs": [
    {
     "data": {
      "text/plain": [
       "invoice_no           0\n",
       "stock_code           0\n",
       "description       1454\n",
       "quantity             0\n",
       "invoice_date         0\n",
       "unit_price           0\n",
       "customer_id     135080\n",
       "country              0\n",
       "dtype: int64"
      ]
     },
     "execution_count": 13,
     "metadata": {},
     "output_type": "execute_result"
    }
   ],
   "source": [
    "df1.isna().sum()"
   ]
  },
  {
   "cell_type": "markdown",
   "id": "8985d9bd",
   "metadata": {},
   "source": [
    "## 2.5. Replace NA"
   ]
  },
  {
   "cell_type": "code",
   "execution_count": 14,
   "id": "461d945a",
   "metadata": {
    "ExecuteTime": {
     "end_time": "2023-06-14T11:50:42.281467Z",
     "start_time": "2023-06-14T11:50:42.013086Z"
    }
   },
   "outputs": [
    {
     "name": "stdout",
     "output_type": "stream",
     "text": [
      "24.93 % dos dados foram removidos\n"
     ]
    }
   ],
   "source": [
    "df1 = df1.dropna(subset=['description', 'customer_id'])\n",
    "\n",
    "print(f'{ (1 -df1.shape[0]/ df_raw.shape[0]) * 100:.2f} % dos dados foram removidos')"
   ]
  },
  {
   "cell_type": "code",
   "execution_count": 15,
   "id": "41189e05",
   "metadata": {
    "ExecuteTime": {
     "end_time": "2023-06-14T11:50:42.839036Z",
     "start_time": "2023-06-14T11:50:42.288046Z"
    }
   },
   "outputs": [
    {
     "data": {
      "text/plain": [
       "invoice_no      0\n",
       "stock_code      0\n",
       "description     0\n",
       "quantity        0\n",
       "invoice_date    0\n",
       "unit_price      0\n",
       "customer_id     0\n",
       "country         0\n",
       "dtype: int64"
      ]
     },
     "execution_count": 15,
     "metadata": {},
     "output_type": "execute_result"
    }
   ],
   "source": [
    "df1.isna().sum()"
   ]
  },
  {
   "cell_type": "markdown",
   "id": "c7e5b10e",
   "metadata": {},
   "source": [
    "## 2.6. Change dtypes"
   ]
  },
  {
   "cell_type": "code",
   "execution_count": 16,
   "id": "a0e7f14e",
   "metadata": {
    "ExecuteTime": {
     "end_time": "2023-06-14T11:50:43.005881Z",
     "start_time": "2023-06-14T11:50:42.846835Z"
    }
   },
   "outputs": [
    {
     "data": {
      "text/html": [
       "<div>\n",
       "<style scoped>\n",
       "    .dataframe tbody tr th:only-of-type {\n",
       "        vertical-align: middle;\n",
       "    }\n",
       "\n",
       "    .dataframe tbody tr th {\n",
       "        vertical-align: top;\n",
       "    }\n",
       "\n",
       "    .dataframe thead th {\n",
       "        text-align: right;\n",
       "    }\n",
       "</style>\n",
       "<table border=\"1\" class=\"dataframe\">\n",
       "  <thead>\n",
       "    <tr style=\"text-align: right;\">\n",
       "      <th></th>\n",
       "      <th>invoice_no</th>\n",
       "      <th>stock_code</th>\n",
       "      <th>description</th>\n",
       "      <th>quantity</th>\n",
       "      <th>invoice_date</th>\n",
       "      <th>unit_price</th>\n",
       "      <th>customer_id</th>\n",
       "      <th>country</th>\n",
       "    </tr>\n",
       "  </thead>\n",
       "  <tbody>\n",
       "    <tr>\n",
       "      <th>0</th>\n",
       "      <td>536365</td>\n",
       "      <td>85123A</td>\n",
       "      <td>WHITE HANGING HEART T-LIGHT HOLDER</td>\n",
       "      <td>6</td>\n",
       "      <td>2016-11-29</td>\n",
       "      <td>2.55</td>\n",
       "      <td>17850.0</td>\n",
       "      <td>United Kingdom</td>\n",
       "    </tr>\n",
       "    <tr>\n",
       "      <th>1</th>\n",
       "      <td>536365</td>\n",
       "      <td>71053</td>\n",
       "      <td>WHITE METAL LANTERN</td>\n",
       "      <td>6</td>\n",
       "      <td>2016-11-29</td>\n",
       "      <td>3.39</td>\n",
       "      <td>17850.0</td>\n",
       "      <td>United Kingdom</td>\n",
       "    </tr>\n",
       "    <tr>\n",
       "      <th>2</th>\n",
       "      <td>536365</td>\n",
       "      <td>84406B</td>\n",
       "      <td>CREAM CUPID HEARTS COAT HANGER</td>\n",
       "      <td>8</td>\n",
       "      <td>2016-11-29</td>\n",
       "      <td>2.75</td>\n",
       "      <td>17850.0</td>\n",
       "      <td>United Kingdom</td>\n",
       "    </tr>\n",
       "    <tr>\n",
       "      <th>3</th>\n",
       "      <td>536365</td>\n",
       "      <td>84029G</td>\n",
       "      <td>KNITTED UNION FLAG HOT WATER BOTTLE</td>\n",
       "      <td>6</td>\n",
       "      <td>2016-11-29</td>\n",
       "      <td>3.39</td>\n",
       "      <td>17850.0</td>\n",
       "      <td>United Kingdom</td>\n",
       "    </tr>\n",
       "    <tr>\n",
       "      <th>4</th>\n",
       "      <td>536365</td>\n",
       "      <td>84029E</td>\n",
       "      <td>RED WOOLLY HOTTIE WHITE HEART.</td>\n",
       "      <td>6</td>\n",
       "      <td>2016-11-29</td>\n",
       "      <td>3.39</td>\n",
       "      <td>17850.0</td>\n",
       "      <td>United Kingdom</td>\n",
       "    </tr>\n",
       "  </tbody>\n",
       "</table>\n",
       "</div>"
      ],
      "text/plain": [
       "  invoice_no stock_code                          description  quantity  \\\n",
       "0     536365     85123A   WHITE HANGING HEART T-LIGHT HOLDER         6   \n",
       "1     536365      71053                  WHITE METAL LANTERN         6   \n",
       "2     536365     84406B       CREAM CUPID HEARTS COAT HANGER         8   \n",
       "3     536365     84029G  KNITTED UNION FLAG HOT WATER BOTTLE         6   \n",
       "4     536365     84029E       RED WOOLLY HOTTIE WHITE HEART.         6   \n",
       "\n",
       "  invoice_date  unit_price  customer_id         country  \n",
       "0   2016-11-29        2.55      17850.0  United Kingdom  \n",
       "1   2016-11-29        3.39      17850.0  United Kingdom  \n",
       "2   2016-11-29        2.75      17850.0  United Kingdom  \n",
       "3   2016-11-29        3.39      17850.0  United Kingdom  \n",
       "4   2016-11-29        3.39      17850.0  United Kingdom  "
      ]
     },
     "execution_count": 16,
     "metadata": {},
     "output_type": "execute_result"
    }
   ],
   "source": [
    "#invoice_date\n",
    "df1['invoice_date'] = pd.to_datetime(df1['invoice_date'], format='%d-%b-%y')\n",
    "df1.head()"
   ]
  },
  {
   "cell_type": "code",
   "execution_count": 17,
   "id": "a7b715bf",
   "metadata": {
    "ExecuteTime": {
     "end_time": "2023-06-14T11:50:43.066116Z",
     "start_time": "2023-06-14T11:50:43.016283Z"
    }
   },
   "outputs": [
    {
     "data": {
      "text/html": [
       "<div>\n",
       "<style scoped>\n",
       "    .dataframe tbody tr th:only-of-type {\n",
       "        vertical-align: middle;\n",
       "    }\n",
       "\n",
       "    .dataframe tbody tr th {\n",
       "        vertical-align: top;\n",
       "    }\n",
       "\n",
       "    .dataframe thead th {\n",
       "        text-align: right;\n",
       "    }\n",
       "</style>\n",
       "<table border=\"1\" class=\"dataframe\">\n",
       "  <thead>\n",
       "    <tr style=\"text-align: right;\">\n",
       "      <th></th>\n",
       "      <th>invoice_no</th>\n",
       "      <th>stock_code</th>\n",
       "      <th>description</th>\n",
       "      <th>quantity</th>\n",
       "      <th>invoice_date</th>\n",
       "      <th>unit_price</th>\n",
       "      <th>customer_id</th>\n",
       "      <th>country</th>\n",
       "    </tr>\n",
       "  </thead>\n",
       "  <tbody>\n",
       "    <tr>\n",
       "      <th>0</th>\n",
       "      <td>536365</td>\n",
       "      <td>85123A</td>\n",
       "      <td>WHITE HANGING HEART T-LIGHT HOLDER</td>\n",
       "      <td>6</td>\n",
       "      <td>2016-11-29</td>\n",
       "      <td>2.55</td>\n",
       "      <td>17850</td>\n",
       "      <td>United Kingdom</td>\n",
       "    </tr>\n",
       "    <tr>\n",
       "      <th>1</th>\n",
       "      <td>536365</td>\n",
       "      <td>71053</td>\n",
       "      <td>WHITE METAL LANTERN</td>\n",
       "      <td>6</td>\n",
       "      <td>2016-11-29</td>\n",
       "      <td>3.39</td>\n",
       "      <td>17850</td>\n",
       "      <td>United Kingdom</td>\n",
       "    </tr>\n",
       "    <tr>\n",
       "      <th>2</th>\n",
       "      <td>536365</td>\n",
       "      <td>84406B</td>\n",
       "      <td>CREAM CUPID HEARTS COAT HANGER</td>\n",
       "      <td>8</td>\n",
       "      <td>2016-11-29</td>\n",
       "      <td>2.75</td>\n",
       "      <td>17850</td>\n",
       "      <td>United Kingdom</td>\n",
       "    </tr>\n",
       "    <tr>\n",
       "      <th>3</th>\n",
       "      <td>536365</td>\n",
       "      <td>84029G</td>\n",
       "      <td>KNITTED UNION FLAG HOT WATER BOTTLE</td>\n",
       "      <td>6</td>\n",
       "      <td>2016-11-29</td>\n",
       "      <td>3.39</td>\n",
       "      <td>17850</td>\n",
       "      <td>United Kingdom</td>\n",
       "    </tr>\n",
       "    <tr>\n",
       "      <th>4</th>\n",
       "      <td>536365</td>\n",
       "      <td>84029E</td>\n",
       "      <td>RED WOOLLY HOTTIE WHITE HEART.</td>\n",
       "      <td>6</td>\n",
       "      <td>2016-11-29</td>\n",
       "      <td>3.39</td>\n",
       "      <td>17850</td>\n",
       "      <td>United Kingdom</td>\n",
       "    </tr>\n",
       "  </tbody>\n",
       "</table>\n",
       "</div>"
      ],
      "text/plain": [
       "  invoice_no stock_code                          description  quantity  \\\n",
       "0     536365     85123A   WHITE HANGING HEART T-LIGHT HOLDER         6   \n",
       "1     536365      71053                  WHITE METAL LANTERN         6   \n",
       "2     536365     84406B       CREAM CUPID HEARTS COAT HANGER         8   \n",
       "3     536365     84029G  KNITTED UNION FLAG HOT WATER BOTTLE         6   \n",
       "4     536365     84029E       RED WOOLLY HOTTIE WHITE HEART.         6   \n",
       "\n",
       "  invoice_date  unit_price  customer_id         country  \n",
       "0   2016-11-29        2.55        17850  United Kingdom  \n",
       "1   2016-11-29        3.39        17850  United Kingdom  \n",
       "2   2016-11-29        2.75        17850  United Kingdom  \n",
       "3   2016-11-29        3.39        17850  United Kingdom  \n",
       "4   2016-11-29        3.39        17850  United Kingdom  "
      ]
     },
     "execution_count": 17,
     "metadata": {},
     "output_type": "execute_result"
    }
   ],
   "source": [
    "#customer_id\n",
    "df1['customer_id'] = df1['customer_id'].astype(int)\n",
    "df1.head()"
   ]
  },
  {
   "cell_type": "code",
   "execution_count": 18,
   "id": "a6b37a62",
   "metadata": {
    "ExecuteTime": {
     "end_time": "2023-06-14T11:50:43.097173Z",
     "start_time": "2023-06-14T11:50:43.072077Z"
    }
   },
   "outputs": [
    {
     "data": {
      "text/plain": [
       "invoice_no              object\n",
       "stock_code              object\n",
       "description             object\n",
       "quantity                 int64\n",
       "invoice_date    datetime64[ns]\n",
       "unit_price             float64\n",
       "customer_id              int32\n",
       "country                 object\n",
       "dtype: object"
      ]
     },
     "execution_count": 18,
     "metadata": {},
     "output_type": "execute_result"
    }
   ],
   "source": [
    "df1.dtypes"
   ]
  },
  {
   "cell_type": "markdown",
   "id": "975c1392",
   "metadata": {},
   "source": [
    "## 2.7. Descriptive Statistics"
   ]
  },
  {
   "cell_type": "markdown",
   "id": "a418066e",
   "metadata": {},
   "source": [
    "### 2.7.1 Numerical attributs"
   ]
  },
  {
   "cell_type": "code",
   "execution_count": 52,
   "id": "f8aa45c4",
   "metadata": {
    "ExecuteTime": {
     "end_time": "2023-06-14T15:11:48.023861Z",
     "start_time": "2023-06-14T15:11:48.008652Z"
    }
   },
   "outputs": [],
   "source": [
    "num_atributes = df1.select_dtypes(include=['int64', 'float64'])\n",
    "\n",
    "cat_atributes = df1.select_dtypes(exclude=['int64', 'float64', 'datetime64[ns]'])"
   ]
  },
  {
   "cell_type": "code",
   "execution_count": 53,
   "id": "e90bd6e3",
   "metadata": {
    "ExecuteTime": {
     "end_time": "2023-06-14T15:11:50.989646Z",
     "start_time": "2023-06-14T15:11:50.710394Z"
    }
   },
   "outputs": [],
   "source": [
    "# central tendency - mean, median\n",
    "ct1 = pd.DataFrame(num_atributes.apply(np.mean)).T\n",
    "ct2 = pd.DataFrame(num_atributes.apply(np.median)).T\n",
    "\n",
    "#dispersion - desvio padrão, minimo, range, skew, kurtosis\n",
    "d1 = pd.DataFrame(num_atributes.apply(np.std)).T\n",
    "d2 = pd.DataFrame(num_atributes.apply(np.min)).T\n",
    "d3 = pd.DataFrame(num_atributes.apply(np.max)).T\n",
    "d4 = pd.DataFrame(num_atributes.apply(lambda x: x.max() - x.min())).T\n",
    "d5 = pd.DataFrame(num_atributes.apply(lambda x: x.skew())).T\n",
    "d6 = pd.DataFrame(num_atributes.apply(lambda x: x.kurtosis())).T\n",
    "\n",
    "\n",
    "#concatenate\n",
    "m = pd.concat([d2, d3, d4, ct1, ct2, d2, d5, d6]).T.reset_index()\n",
    "m.columns = ['attributes', 'min', 'max', 'range', 'mean', 'median', 'std', 'skew', 'kurtosis']"
   ]
  },
  {
   "cell_type": "code",
   "execution_count": 54,
   "id": "f8a50b21",
   "metadata": {
    "ExecuteTime": {
     "end_time": "2023-06-14T15:11:53.820414Z",
     "start_time": "2023-06-14T15:11:53.791201Z"
    }
   },
   "outputs": [
    {
     "data": {
      "text/html": [
       "<div>\n",
       "<style scoped>\n",
       "    .dataframe tbody tr th:only-of-type {\n",
       "        vertical-align: middle;\n",
       "    }\n",
       "\n",
       "    .dataframe tbody tr th {\n",
       "        vertical-align: top;\n",
       "    }\n",
       "\n",
       "    .dataframe thead th {\n",
       "        text-align: right;\n",
       "    }\n",
       "</style>\n",
       "<table border=\"1\" class=\"dataframe\">\n",
       "  <thead>\n",
       "    <tr style=\"text-align: right;\">\n",
       "      <th></th>\n",
       "      <th>attributes</th>\n",
       "      <th>min</th>\n",
       "      <th>max</th>\n",
       "      <th>range</th>\n",
       "      <th>mean</th>\n",
       "      <th>median</th>\n",
       "      <th>std</th>\n",
       "      <th>skew</th>\n",
       "      <th>kurtosis</th>\n",
       "    </tr>\n",
       "  </thead>\n",
       "  <tbody>\n",
       "    <tr>\n",
       "      <th>0</th>\n",
       "      <td>quantity</td>\n",
       "      <td>-80995.0</td>\n",
       "      <td>80995.0</td>\n",
       "      <td>161990.0</td>\n",
       "      <td>12.061303</td>\n",
       "      <td>5.00</td>\n",
       "      <td>-80995.0</td>\n",
       "      <td>0.182663</td>\n",
       "      <td>94317.563673</td>\n",
       "    </tr>\n",
       "    <tr>\n",
       "      <th>1</th>\n",
       "      <td>unit_price</td>\n",
       "      <td>0.0</td>\n",
       "      <td>38970.0</td>\n",
       "      <td>38970.0</td>\n",
       "      <td>3.460471</td>\n",
       "      <td>1.95</td>\n",
       "      <td>0.0</td>\n",
       "      <td>452.219019</td>\n",
       "      <td>246924.542988</td>\n",
       "    </tr>\n",
       "  </tbody>\n",
       "</table>\n",
       "</div>"
      ],
      "text/plain": [
       "   attributes      min      max     range       mean  median      std  \\\n",
       "0    quantity -80995.0  80995.0  161990.0  12.061303    5.00 -80995.0   \n",
       "1  unit_price      0.0  38970.0   38970.0   3.460471    1.95      0.0   \n",
       "\n",
       "         skew       kurtosis  \n",
       "0    0.182663   94317.563673  \n",
       "1  452.219019  246924.542988  "
      ]
     },
     "execution_count": 54,
     "metadata": {},
     "output_type": "execute_result"
    }
   ],
   "source": [
    "m"
   ]
  },
  {
   "cell_type": "markdown",
   "id": "965517b6",
   "metadata": {},
   "source": [
    "#### 2.7.1.1 Numerical attributs investigating"
   ]
  },
  {
   "cell_type": "markdown",
   "id": "6a3b0013",
   "metadata": {},
   "source": [
    "- Podemos ver que na quantida temos um valor negativo (**pode ser devolução**)\n",
    "- Quantidade máxima, temos uma pessoa que comprou 80995 produtos\n",
    "- Valor unitário, temos o valor de 0"
   ]
  },
  {
   "cell_type": "code",
   "execution_count": 26,
   "id": "ae9c489e",
   "metadata": {
    "ExecuteTime": {
     "end_time": "2023-06-14T12:09:11.437762Z",
     "start_time": "2023-06-14T12:09:11.398582Z"
    }
   },
   "outputs": [
    {
     "data": {
      "text/html": [
       "<div>\n",
       "<style scoped>\n",
       "    .dataframe tbody tr th:only-of-type {\n",
       "        vertical-align: middle;\n",
       "    }\n",
       "\n",
       "    .dataframe tbody tr th {\n",
       "        vertical-align: top;\n",
       "    }\n",
       "\n",
       "    .dataframe thead th {\n",
       "        text-align: right;\n",
       "    }\n",
       "</style>\n",
       "<table border=\"1\" class=\"dataframe\">\n",
       "  <thead>\n",
       "    <tr style=\"text-align: right;\">\n",
       "      <th></th>\n",
       "      <th>quantity</th>\n",
       "      <th>invoice_date</th>\n",
       "      <th>unit_price</th>\n",
       "    </tr>\n",
       "  </thead>\n",
       "  <tbody>\n",
       "    <tr>\n",
       "      <th>0</th>\n",
       "      <td>6</td>\n",
       "      <td>2016-11-29</td>\n",
       "      <td>2.55</td>\n",
       "    </tr>\n",
       "    <tr>\n",
       "      <th>1</th>\n",
       "      <td>6</td>\n",
       "      <td>2016-11-29</td>\n",
       "      <td>3.39</td>\n",
       "    </tr>\n",
       "    <tr>\n",
       "      <th>2</th>\n",
       "      <td>8</td>\n",
       "      <td>2016-11-29</td>\n",
       "      <td>2.75</td>\n",
       "    </tr>\n",
       "    <tr>\n",
       "      <th>3</th>\n",
       "      <td>6</td>\n",
       "      <td>2016-11-29</td>\n",
       "      <td>3.39</td>\n",
       "    </tr>\n",
       "    <tr>\n",
       "      <th>4</th>\n",
       "      <td>6</td>\n",
       "      <td>2016-11-29</td>\n",
       "      <td>3.39</td>\n",
       "    </tr>\n",
       "  </tbody>\n",
       "</table>\n",
       "</div>"
      ],
      "text/plain": [
       "   quantity invoice_date  unit_price\n",
       "0         6   2016-11-29        2.55\n",
       "1         6   2016-11-29        3.39\n",
       "2         8   2016-11-29        2.75\n",
       "3         6   2016-11-29        3.39\n",
       "4         6   2016-11-29        3.39"
      ]
     },
     "execution_count": 26,
     "metadata": {},
     "output_type": "execute_result"
    }
   ],
   "source": [
    "cat_atributes.head()"
   ]
  },
  {
   "cell_type": "code",
   "execution_count": 33,
   "id": "89be04d1",
   "metadata": {
    "ExecuteTime": {
     "end_time": "2023-06-14T12:16:31.689493Z",
     "start_time": "2023-06-14T12:16:26.774165Z"
    }
   },
   "outputs": [
    {
     "data": {
      "text/plain": [
       "3654"
      ]
     },
     "execution_count": 33,
     "metadata": {},
     "output_type": "execute_result"
    }
   ],
   "source": [
    "#invoice number\n",
    "\n",
    "len(df1.loc[df1['invoice_no'].apply(lambda x: bool(re.search('[^0-9]+', x))), 'invoice_no'].drop_duplicates())"
   ]
  },
  {
   "cell_type": "code",
   "execution_count": 37,
   "id": "458f4735",
   "metadata": {
    "ExecuteTime": {
     "end_time": "2023-06-14T12:37:21.898553Z",
     "start_time": "2023-06-14T12:37:12.396621Z"
    }
   },
   "outputs": [
    {
     "name": "stdout",
     "output_type": "stream",
     "text": [
      "['POST' 'D' 'M' 'PADS' 'DOT' 'CRUK']\n"
     ]
    },
    {
     "data": {
      "text/html": [
       "<div>\n",
       "<style scoped>\n",
       "    .dataframe tbody tr th:only-of-type {\n",
       "        vertical-align: middle;\n",
       "    }\n",
       "\n",
       "    .dataframe tbody tr th {\n",
       "        vertical-align: top;\n",
       "    }\n",
       "\n",
       "    .dataframe thead th {\n",
       "        text-align: right;\n",
       "    }\n",
       "</style>\n",
       "<table border=\"1\" class=\"dataframe\">\n",
       "  <thead>\n",
       "    <tr style=\"text-align: right;\">\n",
       "      <th></th>\n",
       "      <th>invoice_no</th>\n",
       "      <th>stock_code</th>\n",
       "      <th>description</th>\n",
       "      <th>quantity</th>\n",
       "      <th>invoice_date</th>\n",
       "      <th>unit_price</th>\n",
       "      <th>customer_id</th>\n",
       "      <th>country</th>\n",
       "    </tr>\n",
       "  </thead>\n",
       "  <tbody>\n",
       "    <tr>\n",
       "      <th>45</th>\n",
       "      <td>536370</td>\n",
       "      <td>POST</td>\n",
       "      <td>POSTAGE</td>\n",
       "      <td>3</td>\n",
       "      <td>2016-11-29</td>\n",
       "      <td>18.00</td>\n",
       "      <td>12583</td>\n",
       "      <td>France</td>\n",
       "    </tr>\n",
       "    <tr>\n",
       "      <th>141</th>\n",
       "      <td>C536379</td>\n",
       "      <td>D</td>\n",
       "      <td>Discount</td>\n",
       "      <td>-1</td>\n",
       "      <td>2016-11-29</td>\n",
       "      <td>27.50</td>\n",
       "      <td>14527</td>\n",
       "      <td>United Kingdom</td>\n",
       "    </tr>\n",
       "    <tr>\n",
       "      <th>386</th>\n",
       "      <td>536403</td>\n",
       "      <td>POST</td>\n",
       "      <td>POSTAGE</td>\n",
       "      <td>1</td>\n",
       "      <td>2016-11-29</td>\n",
       "      <td>15.00</td>\n",
       "      <td>12791</td>\n",
       "      <td>Netherlands</td>\n",
       "    </tr>\n",
       "    <tr>\n",
       "      <th>1123</th>\n",
       "      <td>536527</td>\n",
       "      <td>POST</td>\n",
       "      <td>POSTAGE</td>\n",
       "      <td>1</td>\n",
       "      <td>2016-11-29</td>\n",
       "      <td>18.00</td>\n",
       "      <td>12662</td>\n",
       "      <td>Germany</td>\n",
       "    </tr>\n",
       "    <tr>\n",
       "      <th>2239</th>\n",
       "      <td>536569</td>\n",
       "      <td>M</td>\n",
       "      <td>Manual</td>\n",
       "      <td>1</td>\n",
       "      <td>2016-11-29</td>\n",
       "      <td>1.25</td>\n",
       "      <td>16274</td>\n",
       "      <td>United Kingdom</td>\n",
       "    </tr>\n",
       "    <tr>\n",
       "      <th>2250</th>\n",
       "      <td>536569</td>\n",
       "      <td>M</td>\n",
       "      <td>Manual</td>\n",
       "      <td>1</td>\n",
       "      <td>2016-11-29</td>\n",
       "      <td>18.95</td>\n",
       "      <td>16274</td>\n",
       "      <td>United Kingdom</td>\n",
       "    </tr>\n",
       "    <tr>\n",
       "      <th>5073</th>\n",
       "      <td>536840</td>\n",
       "      <td>POST</td>\n",
       "      <td>POSTAGE</td>\n",
       "      <td>1</td>\n",
       "      <td>2016-11-30</td>\n",
       "      <td>18.00</td>\n",
       "      <td>12738</td>\n",
       "      <td>Germany</td>\n",
       "    </tr>\n",
       "    <tr>\n",
       "      <th>5258</th>\n",
       "      <td>536852</td>\n",
       "      <td>POST</td>\n",
       "      <td>POSTAGE</td>\n",
       "      <td>1</td>\n",
       "      <td>2016-12-01</td>\n",
       "      <td>18.00</td>\n",
       "      <td>12686</td>\n",
       "      <td>France</td>\n",
       "    </tr>\n",
       "    <tr>\n",
       "      <th>5325</th>\n",
       "      <td>536858</td>\n",
       "      <td>POST</td>\n",
       "      <td>POSTAGE</td>\n",
       "      <td>2</td>\n",
       "      <td>2016-12-01</td>\n",
       "      <td>40.00</td>\n",
       "      <td>13520</td>\n",
       "      <td>Switzerland</td>\n",
       "    </tr>\n",
       "    <tr>\n",
       "      <th>5369</th>\n",
       "      <td>536861</td>\n",
       "      <td>POST</td>\n",
       "      <td>POSTAGE</td>\n",
       "      <td>3</td>\n",
       "      <td>2016-12-01</td>\n",
       "      <td>18.00</td>\n",
       "      <td>12427</td>\n",
       "      <td>Germany</td>\n",
       "    </tr>\n",
       "    <tr>\n",
       "      <th>6602</th>\n",
       "      <td>536967</td>\n",
       "      <td>POST</td>\n",
       "      <td>POSTAGE</td>\n",
       "      <td>1</td>\n",
       "      <td>2016-12-01</td>\n",
       "      <td>18.00</td>\n",
       "      <td>12600</td>\n",
       "      <td>Germany</td>\n",
       "    </tr>\n",
       "    <tr>\n",
       "      <th>6676</th>\n",
       "      <td>536974</td>\n",
       "      <td>POST</td>\n",
       "      <td>POSTAGE</td>\n",
       "      <td>2</td>\n",
       "      <td>2016-12-01</td>\n",
       "      <td>18.00</td>\n",
       "      <td>12682</td>\n",
       "      <td>France</td>\n",
       "    </tr>\n",
       "    <tr>\n",
       "      <th>6798</th>\n",
       "      <td>536981</td>\n",
       "      <td>M</td>\n",
       "      <td>Manual</td>\n",
       "      <td>2</td>\n",
       "      <td>2016-12-01</td>\n",
       "      <td>0.85</td>\n",
       "      <td>14723</td>\n",
       "      <td>United Kingdom</td>\n",
       "    </tr>\n",
       "    <tr>\n",
       "      <th>6973</th>\n",
       "      <td>536983</td>\n",
       "      <td>POST</td>\n",
       "      <td>POSTAGE</td>\n",
       "      <td>1</td>\n",
       "      <td>2016-12-01</td>\n",
       "      <td>18.00</td>\n",
       "      <td>12712</td>\n",
       "      <td>Germany</td>\n",
       "    </tr>\n",
       "    <tr>\n",
       "      <th>7139</th>\n",
       "      <td>536990</td>\n",
       "      <td>POST</td>\n",
       "      <td>POSTAGE</td>\n",
       "      <td>1</td>\n",
       "      <td>2016-12-01</td>\n",
       "      <td>28.00</td>\n",
       "      <td>12793</td>\n",
       "      <td>Portugal</td>\n",
       "    </tr>\n",
       "    <tr>\n",
       "      <th>7237</th>\n",
       "      <td>537022</td>\n",
       "      <td>POST</td>\n",
       "      <td>POSTAGE</td>\n",
       "      <td>2</td>\n",
       "      <td>2016-12-01</td>\n",
       "      <td>28.00</td>\n",
       "      <td>12725</td>\n",
       "      <td>Italy</td>\n",
       "    </tr>\n",
       "    <tr>\n",
       "      <th>7290</th>\n",
       "      <td>537026</td>\n",
       "      <td>POST</td>\n",
       "      <td>POSTAGE</td>\n",
       "      <td>2</td>\n",
       "      <td>2016-12-01</td>\n",
       "      <td>18.00</td>\n",
       "      <td>12395</td>\n",
       "      <td>Belgium</td>\n",
       "    </tr>\n",
       "    <tr>\n",
       "      <th>7953</th>\n",
       "      <td>537065</td>\n",
       "      <td>POST</td>\n",
       "      <td>POSTAGE</td>\n",
       "      <td>9</td>\n",
       "      <td>2016-12-03</td>\n",
       "      <td>18.00</td>\n",
       "      <td>12567</td>\n",
       "      <td>France</td>\n",
       "    </tr>\n",
       "    <tr>\n",
       "      <th>7976</th>\n",
       "      <td>537077</td>\n",
       "      <td>M</td>\n",
       "      <td>Manual</td>\n",
       "      <td>12</td>\n",
       "      <td>2016-12-03</td>\n",
       "      <td>0.42</td>\n",
       "      <td>17062</td>\n",
       "      <td>United Kingdom</td>\n",
       "    </tr>\n",
       "    <tr>\n",
       "      <th>8530</th>\n",
       "      <td>537137</td>\n",
       "      <td>M</td>\n",
       "      <td>Manual</td>\n",
       "      <td>36</td>\n",
       "      <td>2016-12-03</td>\n",
       "      <td>0.85</td>\n",
       "      <td>16327</td>\n",
       "      <td>United Kingdom</td>\n",
       "    </tr>\n",
       "  </tbody>\n",
       "</table>\n",
       "</div>"
      ],
      "text/plain": [
       "     invoice_no stock_code description  quantity invoice_date  unit_price  \\\n",
       "45       536370       POST     POSTAGE         3   2016-11-29       18.00   \n",
       "141     C536379          D    Discount        -1   2016-11-29       27.50   \n",
       "386      536403       POST     POSTAGE         1   2016-11-29       15.00   \n",
       "1123     536527       POST     POSTAGE         1   2016-11-29       18.00   \n",
       "2239     536569          M      Manual         1   2016-11-29        1.25   \n",
       "2250     536569          M      Manual         1   2016-11-29       18.95   \n",
       "5073     536840       POST     POSTAGE         1   2016-11-30       18.00   \n",
       "5258     536852       POST     POSTAGE         1   2016-12-01       18.00   \n",
       "5325     536858       POST     POSTAGE         2   2016-12-01       40.00   \n",
       "5369     536861       POST     POSTAGE         3   2016-12-01       18.00   \n",
       "6602     536967       POST     POSTAGE         1   2016-12-01       18.00   \n",
       "6676     536974       POST     POSTAGE         2   2016-12-01       18.00   \n",
       "6798     536981          M      Manual         2   2016-12-01        0.85   \n",
       "6973     536983       POST     POSTAGE         1   2016-12-01       18.00   \n",
       "7139     536990       POST     POSTAGE         1   2016-12-01       28.00   \n",
       "7237     537022       POST     POSTAGE         2   2016-12-01       28.00   \n",
       "7290     537026       POST     POSTAGE         2   2016-12-01       18.00   \n",
       "7953     537065       POST     POSTAGE         9   2016-12-03       18.00   \n",
       "7976     537077          M      Manual        12   2016-12-03        0.42   \n",
       "8530     537137          M      Manual        36   2016-12-03        0.85   \n",
       "\n",
       "      customer_id         country  \n",
       "45          12583          France  \n",
       "141         14527  United Kingdom  \n",
       "386         12791     Netherlands  \n",
       "1123        12662         Germany  \n",
       "2239        16274  United Kingdom  \n",
       "2250        16274  United Kingdom  \n",
       "5073        12738         Germany  \n",
       "5258        12686          France  \n",
       "5325        13520     Switzerland  \n",
       "5369        12427         Germany  \n",
       "6602        12600         Germany  \n",
       "6676        12682          France  \n",
       "6798        14723  United Kingdom  \n",
       "6973        12712         Germany  \n",
       "7139        12793        Portugal  \n",
       "7237        12725           Italy  \n",
       "7290        12395         Belgium  \n",
       "7953        12567          France  \n",
       "7976        17062  United Kingdom  \n",
       "8530        16327  United Kingdom  "
      ]
     },
     "execution_count": 37,
     "metadata": {},
     "output_type": "execute_result"
    }
   ],
   "source": [
    "#stock Code\n",
    "#len(df1.loc[df1['stock_code'].apply(lambda x: bool(re.search('[^0-9]+', x))), 'stock_code'].drop_duplicates())\n",
    "\n",
    "df1.loc[df1['stock_code'].apply(lambda x: bool(re.search('^[a-zA-Z]+$', x))), :].head(20)"
   ]
  },
  {
   "cell_type": "markdown",
   "id": "3a537116",
   "metadata": {},
   "source": [
    "### 2.7.2. Categorical Attributes"
   ]
  },
  {
   "cell_type": "markdown",
   "id": "7a112abe",
   "metadata": {},
   "source": [
    "##### invoice_no"
   ]
  },
  {
   "cell_type": "code",
   "execution_count": 51,
   "id": "b84641c8",
   "metadata": {
    "ExecuteTime": {
     "end_time": "2023-06-14T15:02:36.606822Z",
     "start_time": "2023-06-14T15:02:29.898424Z"
    }
   },
   "outputs": [
    {
     "name": "stdout",
     "output_type": "stream",
     "text": [
      "Total number of invoices: 8905\n",
      "Total number of negative quantity: 8905\n"
     ]
    }
   ],
   "source": [
    "# problema: Temos invoice_no com letras e numeros\n",
    "\n",
    "df_letter_invoice = df1.loc[df1['invoice_no'].apply(lambda x: bool(re.search('[^0-9]+', x))), :]\n",
    "df_letter_invoice.head()\n",
    "\n",
    "print(f'Total number of invoices: {len(df_letter_invoice)}')\n",
    "print(f'Total number of negative quantity: {len(df_letter_invoice.query(\"quantity < 0\"))}')"
   ]
  },
  {
   "cell_type": "markdown",
   "id": "2cf9cc9c",
   "metadata": {
    "ExecuteTime": {
     "end_time": "2023-06-14T14:59:48.456786Z",
     "start_time": "2023-06-14T14:59:48.367389Z"
    }
   },
   "source": [
    "##### stock_code"
   ]
  },
  {
   "cell_type": "code",
   "execution_count": 55,
   "id": "dae272af",
   "metadata": {
    "ExecuteTime": {
     "end_time": "2023-06-14T15:13:37.754794Z",
     "start_time": "2023-06-14T15:13:32.573885Z"
    }
   },
   "outputs": [
    {
     "name": "stdout",
     "output_type": "stream",
     "text": [
      "['POST' 'D' 'M' 'PADS' 'DOT' 'CRUK']\n"
     ]
    }
   ],
   "source": [
    "# check stock code only characters\n",
    "\n",
    "print(df1.loc[df1['stock_code'].apply(lambda x: bool(re.search('^[a-zA-Z]+$', x))), 'stock_code'].unique())\n",
    "#sotck_code != [post, D, M, DOT, CRUK]\n"
   ]
  },
  {
   "cell_type": "markdown",
   "id": "15f0fc0a",
   "metadata": {},
   "source": [
    "##### Descripition"
   ]
  },
  {
   "cell_type": "code",
   "execution_count": null,
   "id": "751cb45f",
   "metadata": {},
   "outputs": [],
   "source": []
  },
  {
   "cell_type": "markdown",
   "id": "cf76a3cb",
   "metadata": {
    "ExecuteTime": {
     "end_time": "2023-06-14T15:21:28.382163Z",
     "start_time": "2023-06-14T15:21:28.355659Z"
    }
   },
   "source": [
    "##### Country"
   ]
  },
  {
   "cell_type": "code",
   "execution_count": 57,
   "id": "9b62a11e",
   "metadata": {
    "ExecuteTime": {
     "end_time": "2023-06-14T15:22:54.634549Z",
     "start_time": "2023-06-14T15:22:54.396567Z"
    }
   },
   "outputs": [
    {
     "data": {
      "text/plain": [
       "United Kingdom          0.889509\n",
       "Germany                 0.023339\n",
       "France                  0.020871\n",
       "EIRE                    0.018398\n",
       "Spain                   0.006226\n",
       "Netherlands             0.005828\n",
       "Belgium                 0.005086\n",
       "Switzerland             0.004614\n",
       "Portugal                0.003638\n",
       "Australia               0.003095\n",
       "Norway                  0.002669\n",
       "Italy                   0.001974\n",
       "Channel Islands         0.001863\n",
       "Finland                 0.001708\n",
       "Cyprus                  0.001529\n",
       "Sweden                  0.001136\n",
       "Austria                 0.000986\n",
       "Denmark                 0.000956\n",
       "Japan                   0.000880\n",
       "Poland                  0.000838\n",
       "USA                     0.000715\n",
       "Israel                  0.000615\n",
       "Unspecified             0.000600\n",
       "Singapore               0.000563\n",
       "Iceland                 0.000447\n",
       "Canada                  0.000371\n",
       "Greece                  0.000359\n",
       "Malta                   0.000312\n",
       "United Arab Emirates    0.000167\n",
       "European Community      0.000150\n",
       "RSA                     0.000143\n",
       "Lebanon                 0.000111\n",
       "Lithuania               0.000086\n",
       "Brazil                  0.000079\n",
       "Czech Republic          0.000074\n",
       "Bahrain                 0.000042\n",
       "Saudi Arabia            0.000025\n",
       "Name: country, dtype: float64"
      ]
     },
     "execution_count": 57,
     "metadata": {},
     "output_type": "execute_result"
    }
   ],
   "source": [
    "df1['country'].value_counts(normalize=True)"
   ]
  },
  {
   "cell_type": "markdown",
   "id": "816e314b",
   "metadata": {},
   "source": [
    "# <font color='red'> 3.0. Filtragem de Variáveis </font>"
   ]
  },
  {
   "cell_type": "code",
   "execution_count": 66,
   "id": "4ae754f8",
   "metadata": {
    "ExecuteTime": {
     "end_time": "2023-06-14T18:51:16.834092Z",
     "start_time": "2023-06-14T18:51:16.781438Z"
    }
   },
   "outputs": [],
   "source": [
    "df2 = df1.copy()"
   ]
  },
  {
   "cell_type": "markdown",
   "id": "1d88a757",
   "metadata": {},
   "source": [
    "#### Numerical Attributes"
   ]
  },
  {
   "cell_type": "code",
   "execution_count": 67,
   "id": "d7f5026c",
   "metadata": {
    "ExecuteTime": {
     "end_time": "2023-06-14T18:51:20.351049Z",
     "start_time": "2023-06-14T18:51:20.257432Z"
    }
   },
   "outputs": [],
   "source": [
    "df2 = df2.loc[df2['unit_price'] >= 0.04, :]\n",
    "\n",
    "\n",
    "\n"
   ]
  },
  {
   "cell_type": "markdown",
   "id": "fea094a9",
   "metadata": {},
   "source": [
    "#### Categorical Attributes"
   ]
  },
  {
   "cell_type": "code",
   "execution_count": 68,
   "id": "5021d042",
   "metadata": {
    "ExecuteTime": {
     "end_time": "2023-06-14T18:51:23.016709Z",
     "start_time": "2023-06-14T18:51:22.913442Z"
    }
   },
   "outputs": [],
   "source": [
    "#sotck_code != [post, D, M, DOT, CRUK]\n",
    "\n",
    "df2 = df2[~df2['stock_code'].isin(['POST','M', 'D', 'DOT', 'CRUK', 'C2'])]"
   ]
  },
  {
   "cell_type": "code",
   "execution_count": 69,
   "id": "303bf1d4",
   "metadata": {
    "ExecuteTime": {
     "end_time": "2023-06-14T18:51:24.848758Z",
     "start_time": "2023-06-14T18:51:24.794826Z"
    }
   },
   "outputs": [],
   "source": [
    "#Descripition\n",
    "df2= df2.drop(columns='description', axis=1)"
   ]
  },
  {
   "cell_type": "code",
   "execution_count": 70,
   "id": "d8ef4744",
   "metadata": {
    "ExecuteTime": {
     "end_time": "2023-06-14T18:51:27.220788Z",
     "start_time": "2023-06-14T18:51:27.113678Z"
    }
   },
   "outputs": [],
   "source": [
    "#Country\n",
    "df2 = df2[~df2['country'].isin(['European Community', 'Unspecified'])]"
   ]
  },
  {
   "cell_type": "code",
   "execution_count": 71,
   "id": "d700ea32",
   "metadata": {
    "ExecuteTime": {
     "end_time": "2023-06-14T18:51:28.257118Z",
     "start_time": "2023-06-14T18:51:28.179466Z"
    }
   },
   "outputs": [],
   "source": [
    "df2_returns = df2.loc[df2['quantity'] < 0, :]\n",
    "df2_purchases = df2.loc[df2['quantity'] >= 0, :]"
   ]
  },
  {
   "cell_type": "markdown",
   "id": "c59d454b",
   "metadata": {
    "ExecuteTime": {
     "end_time": "2023-06-06T12:29:37.003644Z",
     "start_time": "2023-06-06T12:29:36.989929Z"
    }
   },
   "source": [
    "# <font color='red'> 4.0. Feature Enginering </font>"
   ]
  },
  {
   "cell_type": "markdown",
   "id": "2926b8c3",
   "metadata": {},
   "source": [
    "## 4.1. Feature Creation"
   ]
  },
  {
   "cell_type": "code",
   "execution_count": 72,
   "id": "5ef8c57e",
   "metadata": {
    "ExecuteTime": {
     "end_time": "2023-06-14T18:51:35.031253Z",
     "start_time": "2023-06-14T18:51:34.978526Z"
    }
   },
   "outputs": [
    {
     "data": {
      "text/html": [
       "<div>\n",
       "<style scoped>\n",
       "    .dataframe tbody tr th:only-of-type {\n",
       "        vertical-align: middle;\n",
       "    }\n",
       "\n",
       "    .dataframe tbody tr th {\n",
       "        vertical-align: top;\n",
       "    }\n",
       "\n",
       "    .dataframe thead th {\n",
       "        text-align: right;\n",
       "    }\n",
       "</style>\n",
       "<table border=\"1\" class=\"dataframe\">\n",
       "  <thead>\n",
       "    <tr style=\"text-align: right;\">\n",
       "      <th></th>\n",
       "      <th>invoice_no</th>\n",
       "      <th>stock_code</th>\n",
       "      <th>quantity</th>\n",
       "      <th>invoice_date</th>\n",
       "      <th>unit_price</th>\n",
       "      <th>customer_id</th>\n",
       "      <th>country</th>\n",
       "    </tr>\n",
       "  </thead>\n",
       "  <tbody>\n",
       "    <tr>\n",
       "      <th>0</th>\n",
       "      <td>536365</td>\n",
       "      <td>85123A</td>\n",
       "      <td>6</td>\n",
       "      <td>2016-11-29</td>\n",
       "      <td>2.55</td>\n",
       "      <td>17850</td>\n",
       "      <td>United Kingdom</td>\n",
       "    </tr>\n",
       "    <tr>\n",
       "      <th>1</th>\n",
       "      <td>536365</td>\n",
       "      <td>71053</td>\n",
       "      <td>6</td>\n",
       "      <td>2016-11-29</td>\n",
       "      <td>3.39</td>\n",
       "      <td>17850</td>\n",
       "      <td>United Kingdom</td>\n",
       "    </tr>\n",
       "    <tr>\n",
       "      <th>2</th>\n",
       "      <td>536365</td>\n",
       "      <td>84406B</td>\n",
       "      <td>8</td>\n",
       "      <td>2016-11-29</td>\n",
       "      <td>2.75</td>\n",
       "      <td>17850</td>\n",
       "      <td>United Kingdom</td>\n",
       "    </tr>\n",
       "    <tr>\n",
       "      <th>3</th>\n",
       "      <td>536365</td>\n",
       "      <td>84029G</td>\n",
       "      <td>6</td>\n",
       "      <td>2016-11-29</td>\n",
       "      <td>3.39</td>\n",
       "      <td>17850</td>\n",
       "      <td>United Kingdom</td>\n",
       "    </tr>\n",
       "    <tr>\n",
       "      <th>4</th>\n",
       "      <td>536365</td>\n",
       "      <td>84029E</td>\n",
       "      <td>6</td>\n",
       "      <td>2016-11-29</td>\n",
       "      <td>3.39</td>\n",
       "      <td>17850</td>\n",
       "      <td>United Kingdom</td>\n",
       "    </tr>\n",
       "    <tr>\n",
       "      <th>...</th>\n",
       "      <td>...</td>\n",
       "      <td>...</td>\n",
       "      <td>...</td>\n",
       "      <td>...</td>\n",
       "      <td>...</td>\n",
       "      <td>...</td>\n",
       "      <td>...</td>\n",
       "    </tr>\n",
       "    <tr>\n",
       "      <th>541904</th>\n",
       "      <td>581587</td>\n",
       "      <td>22613</td>\n",
       "      <td>12</td>\n",
       "      <td>2017-12-07</td>\n",
       "      <td>0.85</td>\n",
       "      <td>12680</td>\n",
       "      <td>France</td>\n",
       "    </tr>\n",
       "    <tr>\n",
       "      <th>541905</th>\n",
       "      <td>581587</td>\n",
       "      <td>22899</td>\n",
       "      <td>6</td>\n",
       "      <td>2017-12-07</td>\n",
       "      <td>2.10</td>\n",
       "      <td>12680</td>\n",
       "      <td>France</td>\n",
       "    </tr>\n",
       "    <tr>\n",
       "      <th>541906</th>\n",
       "      <td>581587</td>\n",
       "      <td>23254</td>\n",
       "      <td>4</td>\n",
       "      <td>2017-12-07</td>\n",
       "      <td>4.15</td>\n",
       "      <td>12680</td>\n",
       "      <td>France</td>\n",
       "    </tr>\n",
       "    <tr>\n",
       "      <th>541907</th>\n",
       "      <td>581587</td>\n",
       "      <td>23255</td>\n",
       "      <td>4</td>\n",
       "      <td>2017-12-07</td>\n",
       "      <td>4.15</td>\n",
       "      <td>12680</td>\n",
       "      <td>France</td>\n",
       "    </tr>\n",
       "    <tr>\n",
       "      <th>541908</th>\n",
       "      <td>581587</td>\n",
       "      <td>22138</td>\n",
       "      <td>3</td>\n",
       "      <td>2017-12-07</td>\n",
       "      <td>4.95</td>\n",
       "      <td>12680</td>\n",
       "      <td>France</td>\n",
       "    </tr>\n",
       "  </tbody>\n",
       "</table>\n",
       "<p>404584 rows × 7 columns</p>\n",
       "</div>"
      ],
      "text/plain": [
       "       invoice_no stock_code  quantity invoice_date  unit_price  customer_id  \\\n",
       "0          536365     85123A         6   2016-11-29        2.55        17850   \n",
       "1          536365      71053         6   2016-11-29        3.39        17850   \n",
       "2          536365     84406B         8   2016-11-29        2.75        17850   \n",
       "3          536365     84029G         6   2016-11-29        3.39        17850   \n",
       "4          536365     84029E         6   2016-11-29        3.39        17850   \n",
       "...           ...        ...       ...          ...         ...          ...   \n",
       "541904     581587      22613        12   2017-12-07        0.85        12680   \n",
       "541905     581587      22899         6   2017-12-07        2.10        12680   \n",
       "541906     581587      23254         4   2017-12-07        4.15        12680   \n",
       "541907     581587      23255         4   2017-12-07        4.15        12680   \n",
       "541908     581587      22138         3   2017-12-07        4.95        12680   \n",
       "\n",
       "               country  \n",
       "0       United Kingdom  \n",
       "1       United Kingdom  \n",
       "2       United Kingdom  \n",
       "3       United Kingdom  \n",
       "4       United Kingdom  \n",
       "...                ...  \n",
       "541904          France  \n",
       "541905          France  \n",
       "541906          France  \n",
       "541907          France  \n",
       "541908          France  \n",
       "\n",
       "[404584 rows x 7 columns]"
      ]
     },
     "execution_count": 72,
     "metadata": {},
     "output_type": "execute_result"
    }
   ],
   "source": [
    "df2"
   ]
  },
  {
   "cell_type": "code",
   "execution_count": 73,
   "id": "48b029c7",
   "metadata": {
    "ExecuteTime": {
     "end_time": "2023-06-14T18:51:46.473143Z",
     "start_time": "2023-06-14T18:51:46.386481Z"
    }
   },
   "outputs": [
    {
     "data": {
      "text/html": [
       "<div>\n",
       "<style scoped>\n",
       "    .dataframe tbody tr th:only-of-type {\n",
       "        vertical-align: middle;\n",
       "    }\n",
       "\n",
       "    .dataframe tbody tr th {\n",
       "        vertical-align: top;\n",
       "    }\n",
       "\n",
       "    .dataframe thead th {\n",
       "        text-align: right;\n",
       "    }\n",
       "</style>\n",
       "<table border=\"1\" class=\"dataframe\">\n",
       "  <thead>\n",
       "    <tr style=\"text-align: right;\">\n",
       "      <th></th>\n",
       "      <th>customer_id</th>\n",
       "    </tr>\n",
       "  </thead>\n",
       "  <tbody>\n",
       "    <tr>\n",
       "      <th>0</th>\n",
       "      <td>17850</td>\n",
       "    </tr>\n",
       "    <tr>\n",
       "      <th>1</th>\n",
       "      <td>13047</td>\n",
       "    </tr>\n",
       "    <tr>\n",
       "      <th>2</th>\n",
       "      <td>12583</td>\n",
       "    </tr>\n",
       "    <tr>\n",
       "      <th>3</th>\n",
       "      <td>13748</td>\n",
       "    </tr>\n",
       "    <tr>\n",
       "      <th>4</th>\n",
       "      <td>15100</td>\n",
       "    </tr>\n",
       "  </tbody>\n",
       "</table>\n",
       "</div>"
      ],
      "text/plain": [
       "   customer_id\n",
       "0        17850\n",
       "1        13047\n",
       "2        12583\n",
       "3        13748\n",
       "4        15100"
      ]
     },
     "execution_count": 73,
     "metadata": {},
     "output_type": "execute_result"
    }
   ],
   "source": [
    "df_ref = df2[['customer_id']].drop_duplicates(ignore_index=True)\n",
    "df_ref.head()"
   ]
  },
  {
   "cell_type": "markdown",
   "id": "a075b7dc-f032-4062-9669-5330a01488b2",
   "metadata": {},
   "source": [
    "##### Faturamento"
   ]
  },
  {
   "cell_type": "code",
   "execution_count": 74,
   "id": "837b4872",
   "metadata": {
    "ExecuteTime": {
     "end_time": "2023-06-14T18:52:08.874892Z",
     "start_time": "2023-06-14T18:52:07.026011Z"
    }
   },
   "outputs": [
    {
     "data": {
      "text/html": [
       "<div>\n",
       "<style scoped>\n",
       "    .dataframe tbody tr th:only-of-type {\n",
       "        vertical-align: middle;\n",
       "    }\n",
       "\n",
       "    .dataframe tbody tr th {\n",
       "        vertical-align: top;\n",
       "    }\n",
       "\n",
       "    .dataframe thead th {\n",
       "        text-align: right;\n",
       "    }\n",
       "</style>\n",
       "<table border=\"1\" class=\"dataframe\">\n",
       "  <thead>\n",
       "    <tr style=\"text-align: right;\">\n",
       "      <th></th>\n",
       "      <th>customer_id</th>\n",
       "      <th>gross_revenue</th>\n",
       "    </tr>\n",
       "  </thead>\n",
       "  <tbody>\n",
       "    <tr>\n",
       "      <th>0</th>\n",
       "      <td>17850</td>\n",
       "      <td>5391.21</td>\n",
       "    </tr>\n",
       "    <tr>\n",
       "      <th>1</th>\n",
       "      <td>13047</td>\n",
       "      <td>3232.59</td>\n",
       "    </tr>\n",
       "    <tr>\n",
       "      <th>2</th>\n",
       "      <td>12583</td>\n",
       "      <td>6705.38</td>\n",
       "    </tr>\n",
       "    <tr>\n",
       "      <th>3</th>\n",
       "      <td>13748</td>\n",
       "      <td>948.25</td>\n",
       "    </tr>\n",
       "    <tr>\n",
       "      <th>4</th>\n",
       "      <td>15100</td>\n",
       "      <td>876.00</td>\n",
       "    </tr>\n",
       "  </tbody>\n",
       "</table>\n",
       "</div>"
      ],
      "text/plain": [
       "   customer_id  gross_revenue\n",
       "0        17850        5391.21\n",
       "1        13047        3232.59\n",
       "2        12583        6705.38\n",
       "3        13748         948.25\n",
       "4        15100         876.00"
      ]
     },
     "execution_count": 74,
     "metadata": {},
     "output_type": "execute_result"
    }
   ],
   "source": [
    "#Faturamento = Quantity * price\n",
    "df2_purchases['gross_revenue'] = df2_purchases['quantity'] * df2_purchases['unit_price']\n",
    "\n",
    "\n",
    "#Monetary\n",
    "df2_purchases[['customer_id', 'gross_revenue']].head()\n",
    "\n",
    "\n",
    "df_monetary = df2_purchases[['customer_id', 'gross_revenue']].groupby('customer_id').sum().reset_index()\n",
    "\n",
    "#merge com o df_ref\n",
    "\n",
    "df_ref = pd.merge(df_ref, df_monetary, on='customer_id', how='left')\n",
    "df_ref.head()"
   ]
  },
  {
   "cell_type": "markdown",
   "id": "5dfcf8a6-7c24-4446-bd42-ac7bf941c0d5",
   "metadata": {},
   "source": [
    "### Recency"
   ]
  },
  {
   "cell_type": "code",
   "execution_count": null,
   "id": "317bdca9",
   "metadata": {
    "ExecuteTime": {
     "end_time": "2023-06-14T11:50:44.635775Z",
     "start_time": "2023-06-14T11:50:44.635775Z"
    }
   },
   "outputs": [],
   "source": [
    "#Recency\n",
    "df_recency = df2[['customer_id', 'invoice_date']].groupby('customer_id').max().reset_index()\n",
    "df_recency['recency_days'] = (df2['invoice_date'].max() - df_recency['invoice_date']).dt.days\n",
    "df_recency = df_recency[['customer_id', 'recency_days']].copy()\n",
    "\n",
    "\n",
    "df_ref = pd.merge(df_ref, df_recency, on='customer_id', how='left')\n",
    "df_ref.head()\n"
   ]
  },
  {
   "cell_type": "markdown",
   "id": "fab76445-ad99-4556-8faf-832e432e42f7",
   "metadata": {},
   "source": [
    "### Frequency\n"
   ]
  },
  {
   "cell_type": "code",
   "execution_count": null,
   "id": "8745bee9",
   "metadata": {
    "ExecuteTime": {
     "end_time": "2023-06-14T11:50:44.642945Z",
     "start_time": "2023-06-14T11:50:44.642945Z"
    }
   },
   "outputs": [],
   "source": [
    "#Frequency\n",
    "\n",
    "df2[['customer_id', 'invoice_no']].head()"
   ]
  },
  {
   "cell_type": "code",
   "execution_count": null,
   "id": "ad59f679",
   "metadata": {
    "ExecuteTime": {
     "end_time": "2023-06-14T11:50:44.649883Z",
     "start_time": "2023-06-14T11:50:44.649264Z"
    }
   },
   "outputs": [],
   "source": [
    "df2[['customer_id', 'invoice_no']].drop_duplicates().head()"
   ]
  },
  {
   "cell_type": "code",
   "execution_count": null,
   "id": "c97875f0",
   "metadata": {
    "ExecuteTime": {
     "end_time": "2023-06-14T11:50:44.656538Z",
     "start_time": "2023-06-14T11:50:44.656538Z"
    }
   },
   "outputs": [],
   "source": [
    "df_frequency = df2[['customer_id', 'invoice_no']].drop_duplicates().groupby('customer_id').count().reset_index()\n",
    "df_frequency.head()"
   ]
  },
  {
   "cell_type": "code",
   "execution_count": null,
   "id": "f4f2d83d",
   "metadata": {
    "ExecuteTime": {
     "end_time": "2023-06-14T11:50:44.661881Z",
     "start_time": "2023-06-14T11:50:44.661881Z"
    }
   },
   "outputs": [],
   "source": [
    "df_ref = pd.merge(df_ref, df_frequency, on='customer_id', how='left')\n",
    "df_ref.head()"
   ]
  },
  {
   "cell_type": "markdown",
   "id": "0618a2ec-762b-4fdc-aaec-59d2ce890749",
   "metadata": {},
   "source": [
    "### AVG Ticket"
   ]
  },
  {
   "cell_type": "code",
   "execution_count": null,
   "id": "f2fb5775-2865-4a2d-8931-be3ef6bdb854",
   "metadata": {
    "ExecuteTime": {
     "end_time": "2023-06-14T11:50:44.664394Z",
     "start_time": "2023-06-14T11:50:44.664394Z"
    }
   },
   "outputs": [],
   "source": [
    "df_avg_ticket = df2[['customer_id', 'gross_revenue']].groupby('customer_id').mean().reset_index().rename(columns={'gross_revenue' : 'avg_ticket'})\n",
    "df_avg_ticket.head()\n"
   ]
  },
  {
   "cell_type": "code",
   "execution_count": null,
   "id": "14b0a558-e898-447b-b194-345c2ca5f2b8",
   "metadata": {
    "ExecuteTime": {
     "end_time": "2023-06-14T11:50:44.668685Z",
     "start_time": "2023-06-14T11:50:44.668685Z"
    }
   },
   "outputs": [],
   "source": [
    "df_ref = pd.merge(df_ref, df_avg_ticket, on='customer_id', how='left')\n",
    "df_ref.head()"
   ]
  },
  {
   "cell_type": "code",
   "execution_count": null,
   "id": "b20b59e3",
   "metadata": {
    "ExecuteTime": {
     "end_time": "2023-06-14T11:50:44.672781Z",
     "start_time": "2023-06-14T11:50:44.672781Z"
    }
   },
   "outputs": [],
   "source": [
    "df3 = df_ref.copy()"
   ]
  },
  {
   "cell_type": "markdown",
   "id": "1ef972df",
   "metadata": {},
   "source": [
    "# <font color='red'> 5.0. EDA </font>"
   ]
  },
  {
   "cell_type": "code",
   "execution_count": null,
   "id": "8d6fb193",
   "metadata": {
    "ExecuteTime": {
     "end_time": "2023-06-14T11:50:44.679512Z",
     "start_time": "2023-06-14T11:50:44.679512Z"
    }
   },
   "outputs": [],
   "source": [
    "df4 = df3.copy()"
   ]
  },
  {
   "cell_type": "markdown",
   "id": "b93a8cab",
   "metadata": {},
   "source": [
    "# <font color='red'> 6.0. Data Preparation </font>"
   ]
  },
  {
   "cell_type": "code",
   "execution_count": null,
   "id": "922d7351",
   "metadata": {
    "ExecuteTime": {
     "end_time": "2023-06-14T11:50:44.686288Z",
     "start_time": "2023-06-14T11:50:44.685784Z"
    }
   },
   "outputs": [],
   "source": [
    "df5 = df4.copy()"
   ]
  },
  {
   "cell_type": "markdown",
   "id": "d36b9fb5",
   "metadata": {},
   "source": [
    "# <font color='red'> 7.0. Feature Selection </font>"
   ]
  },
  {
   "cell_type": "code",
   "execution_count": null,
   "id": "d15a92dc",
   "metadata": {
    "ExecuteTime": {
     "end_time": "2023-06-14T11:50:44.692646Z",
     "start_time": "2023-06-14T11:50:44.692646Z"
    }
   },
   "outputs": [],
   "source": [
    "df6 = df5.copy()"
   ]
  },
  {
   "cell_type": "markdown",
   "id": "7a104c71",
   "metadata": {},
   "source": [
    "# <font color='red'> 8.0. Hyperparameter Fine-Tunning </font>"
   ]
  },
  {
   "cell_type": "code",
   "execution_count": null,
   "id": "aa75cc2a",
   "metadata": {
    "ExecuteTime": {
     "end_time": "2023-06-14T11:50:44.697378Z",
     "start_time": "2023-06-14T11:50:44.697378Z"
    }
   },
   "outputs": [],
   "source": [
    "X = df6.drop(columns = ['customer_id'])"
   ]
  },
  {
   "cell_type": "code",
   "execution_count": null,
   "id": "8bff2ebb",
   "metadata": {
    "ExecuteTime": {
     "end_time": "2023-06-14T11:50:44.702046Z",
     "start_time": "2023-06-14T11:50:44.701597Z"
    }
   },
   "outputs": [],
   "source": [
    "clusters = [2, 3, 4, 5, 6, 7]"
   ]
  },
  {
   "cell_type": "markdown",
   "id": "4860be9d",
   "metadata": {},
   "source": [
    "## 8.1. Within-Cluster Sum of Square (WSS)"
   ]
  },
  {
   "cell_type": "code",
   "execution_count": null,
   "id": "1b52fad2",
   "metadata": {
    "ExecuteTime": {
     "end_time": "2023-06-14T11:50:44.704756Z",
     "start_time": "2023-06-14T11:50:44.704756Z"
    }
   },
   "outputs": [],
   "source": [
    "wss = []\n",
    "for k in clusters:\n",
    "    #model definition\n",
    "    kmeans = c.KMeans( init='random', n_clusters=k, n_init=10, max_iter=300, random_state=42)\n",
    "    \n",
    "    #model training\n",
    "    kmeans.fit(X)\n",
    "    \n",
    "    #validation\n",
    "    wss.append(kmeans.inertia_)\n",
    "    \n",
    "#plot wss\n",
    "plt.plot(clusters, wss, linestyle='--', marker='o', color='b')\n",
    "plt.xlabel('k')\n",
    "plt.ylabel('Within-Cluster Sum of Square')\n",
    "plt.title('WSS vs K')"
   ]
  },
  {
   "cell_type": "code",
   "execution_count": null,
   "id": "703fded0",
   "metadata": {
    "ExecuteTime": {
     "end_time": "2023-06-14T11:50:44.707784Z",
     "start_time": "2023-06-14T11:50:44.707784Z"
    }
   },
   "outputs": [],
   "source": [
    "kmeans = KElbowVisualizer(c.KMeans(), k=clusters, timings=False)\n",
    "kmeans.fit(X)\n",
    "kmeans.show();"
   ]
  },
  {
   "cell_type": "markdown",
   "id": "40f93ed1-18a5-4b48-bee0-5a83d396e1de",
   "metadata": {},
   "source": [
    "## 8.2. Silhouette Analysis"
   ]
  },
  {
   "cell_type": "code",
   "execution_count": null,
   "id": "235fb9ba-dfc0-460c-9fff-ba39cd2378cb",
   "metadata": {
    "ExecuteTime": {
     "end_time": "2023-06-14T11:50:44.710112Z",
     "start_time": "2023-06-14T11:50:44.710112Z"
    }
   },
   "outputs": [],
   "source": [
    "fig, ax = plt.subplots(3,2, figsize=(25, 18))\n",
    "for k in clusters:\n",
    "    km = c.KMeans(n_clusters=k, init='random', n_init=10, max_iter=100, random_state=42)\n",
    "    q, mod = divmod(k, 2)\n",
    "    \n",
    "    visualizer = SilhouetteVisualizer(km, color= 'yellowbrick', ax=ax[q-1][mod])\n",
    "    visualizer.fit(X)\n",
    "    visualizer.finalize()"
   ]
  },
  {
   "cell_type": "markdown",
   "id": "9a42521a",
   "metadata": {},
   "source": [
    "# <font color='red'> 9.0. Model Training </font>"
   ]
  },
  {
   "cell_type": "markdown",
   "id": "6e1d9232",
   "metadata": {},
   "source": [
    "## 9.1. K-Means"
   ]
  },
  {
   "cell_type": "code",
   "execution_count": null,
   "id": "1c71b2ac",
   "metadata": {
    "ExecuteTime": {
     "end_time": "2023-06-14T11:50:44.712983Z",
     "start_time": "2023-06-14T11:50:44.712983Z"
    }
   },
   "outputs": [],
   "source": [
    "# Model Definition\n",
    "k = 4\n",
    "kmeans = c.KMeans(init='random',n_clusters=k, n_init=10, max_iter=300, random_state=42)\n",
    "\n",
    "#model training\n",
    "kmeans.fit(X)\n",
    "\n",
    "#clustering\n",
    "labels = kmeans.labels_"
   ]
  },
  {
   "cell_type": "markdown",
   "id": "565e60ab",
   "metadata": {},
   "source": [
    "## 9.2. Cluster Validation"
   ]
  },
  {
   "cell_type": "code",
   "execution_count": null,
   "id": "ae6d9488",
   "metadata": {
    "ExecuteTime": {
     "end_time": "2023-06-14T11:50:44.716149Z",
     "start_time": "2023-06-14T11:50:44.716149Z"
    }
   },
   "outputs": [],
   "source": [
    "# WSS\n",
    "print(f'WSS values: {kmeans.inertia_}')\n",
    "print(f\"SS value: {m.silhouette_score(X, labels, metric='euclidean')}\")"
   ]
  },
  {
   "cell_type": "markdown",
   "id": "c0d890be",
   "metadata": {
    "ExecuteTime": {
     "end_time": "2023-06-07T14:18:18.774399Z",
     "start_time": "2023-06-07T14:18:18.774399Z"
    }
   },
   "source": [
    "# <font color='red'> 10.0. Cluster Analysis </font>"
   ]
  },
  {
   "cell_type": "code",
   "execution_count": null,
   "id": "69dad1aa",
   "metadata": {
    "ExecuteTime": {
     "end_time": "2023-06-14T11:50:44.718975Z",
     "start_time": "2023-06-14T11:50:44.718975Z"
    }
   },
   "outputs": [],
   "source": [
    "df10 = df6.copy()\n",
    "df10['cluster'] = labels\n",
    "df10.head()"
   ]
  },
  {
   "cell_type": "markdown",
   "id": "76b78415",
   "metadata": {},
   "source": [
    "## 10.1. Visualization Inspection"
   ]
  },
  {
   "cell_type": "code",
   "execution_count": null,
   "id": "b8d98b66",
   "metadata": {
    "ExecuteTime": {
     "end_time": "2023-06-14T11:50:44.725054Z",
     "start_time": "2023-06-14T11:50:44.725054Z"
    }
   },
   "outputs": [],
   "source": [
    "#fig = px.scatter_3d(df10, x= 'recency_days', y='invoice_no', z='gross_revenue', color='cluster')\n",
    "#fig.show()"
   ]
  },
  {
   "cell_type": "markdown",
   "id": "abe4618a-b750-476c-93cc-ebd40b84d676",
   "metadata": {},
   "source": [
    "## 10.1. Visualization Inspection"
   ]
  },
  {
   "cell_type": "code",
   "execution_count": null,
   "id": "8126fbed-5a94-4aa1-856a-a1fbd32a139a",
   "metadata": {
    "ExecuteTime": {
     "end_time": "2023-06-14T11:50:44.732906Z",
     "start_time": "2023-06-14T11:50:44.732906Z"
    }
   },
   "outputs": [],
   "source": [
    "visualizer = SilhouetteVisualizer(kmeans, colors='yellowbrick')\n",
    "visualizer.fit(X)\n",
    "visualizer.finalize()"
   ]
  },
  {
   "cell_type": "markdown",
   "id": "872d3ab7-ee86-4b1a-a2e9-314376be7803",
   "metadata": {},
   "source": [
    "## 10.2. 2d plot"
   ]
  },
  {
   "cell_type": "code",
   "execution_count": null,
   "id": "b527f2e4-06be-46a0-adc1-993daa6d6c4e",
   "metadata": {
    "ExecuteTime": {
     "end_time": "2023-06-14T11:50:44.740822Z",
     "start_time": "2023-06-14T11:50:44.740822Z"
    }
   },
   "outputs": [],
   "source": [
    "df_viz = df10.drop (columns='customer_id')\n",
    "sns.pairplot(df_viz, hue='cluster')"
   ]
  },
  {
   "cell_type": "markdown",
   "id": "aae2f5e7-3534-4d03-b7b0-4029f050ad56",
   "metadata": {},
   "source": [
    "## 10.3. UMAP - t-SNE"
   ]
  },
  {
   "cell_type": "code",
   "execution_count": null,
   "id": "88dce314",
   "metadata": {
    "ExecuteTime": {
     "end_time": "2023-06-14T11:50:44.745419Z",
     "start_time": "2023-06-14T11:50:44.745419Z"
    }
   },
   "outputs": [],
   "source": [
    "from sklearn.decomposition import PCA\n"
   ]
  },
  {
   "cell_type": "code",
   "execution_count": null,
   "id": "90f629f4",
   "metadata": {
    "ExecuteTime": {
     "end_time": "2023-06-14T11:50:44.748895Z",
     "start_time": "2023-06-14T11:50:44.748895Z"
    }
   },
   "outputs": [],
   "source": [
    "pca = PCA(n_components=2)\n",
    "pca.fit(X)"
   ]
  },
  {
   "cell_type": "code",
   "execution_count": null,
   "id": "dbe7ce31",
   "metadata": {
    "ExecuteTime": {
     "end_time": "2023-06-14T11:50:44.752410Z",
     "start_time": "2023-06-14T11:50:44.752410Z"
    }
   },
   "outputs": [],
   "source": [
    "embedding=pca.fit_transform(X)\n",
    "df_viz['embedding_x'] = embedding[:,0]\n",
    "df_viz['embedding_y'] = embedding[:,1]"
   ]
  },
  {
   "cell_type": "code",
   "execution_count": null,
   "id": "8f65272d",
   "metadata": {
    "ExecuteTime": {
     "end_time": "2023-06-14T11:50:44.755378Z",
     "start_time": "2023-06-14T11:50:44.755378Z"
    }
   },
   "outputs": [],
   "source": [
    "df_viz"
   ]
  },
  {
   "cell_type": "code",
   "execution_count": null,
   "id": "3e1cd42a-7d12-41d3-8e10-e6b397aec69f",
   "metadata": {
    "ExecuteTime": {
     "end_time": "2023-06-14T11:50:44.762809Z",
     "start_time": "2023-06-14T11:50:44.762809Z"
    }
   },
   "outputs": [],
   "source": [
    "#reducer = UMAP(random_state=42)\n",
    "#embedding = reducer.fit_transform(x)\n",
    "\n",
    "#embedding\n",
    "#df_viz['embedding_x'] = embedding[:,0]\n",
    "#df_viz['embedding_y'] = embedding[:,1]\n",
    "\n",
    "#plot UMAP\n",
    "\n",
    "sns.scatterplot(x='embedding_x', y='embedding_y', \n",
    "                hue='cluster', \n",
    "                palette=sns.color_palette('hls', n_colors=len(df_viz['cluster'].unique())), \n",
    "                data = df_viz)"
   ]
  },
  {
   "cell_type": "code",
   "execution_count": null,
   "id": "0f136a0d-a61d-4430-ad41-56916a4d0d21",
   "metadata": {
    "ExecuteTime": {
     "end_time": "2023-06-14T11:50:44.768678Z",
     "start_time": "2023-06-14T11:50:44.768678Z"
    }
   },
   "outputs": [],
   "source": [
    "from sklearn.manifold import TSNE\n",
    "\n",
    "\n",
    "\n",
    "tsne = TSNE(n_components=2, random_state=42)\n",
    "embedding = tsne.fit_transform(X )\n",
    "df_viz['embedding_x2'] = embedding[:,0]\n",
    "df_viz['embedding_y2'] = embedding[:,1]\n",
    "sns.scatterplot(x='embedding_x2', y='embedding_y2', \n",
    "                hue='cluster', \n",
    "                palette=sns.color_palette('hls', n_colors=len(df_viz['cluster'].unique())), \n",
    "                data = df_viz)"
   ]
  },
  {
   "cell_type": "markdown",
   "id": "491d2e19",
   "metadata": {},
   "source": [
    "## 10.2. Cluster Profile"
   ]
  },
  {
   "cell_type": "code",
   "execution_count": null,
   "id": "0504cfc8",
   "metadata": {
    "ExecuteTime": {
     "end_time": "2023-06-14T11:50:44.773097Z",
     "start_time": "2023-06-14T11:50:44.773097Z"
    }
   },
   "outputs": [],
   "source": [
    "# Number of Cluster\n",
    "df_cluster = df10[['customer_id', 'cluster']].groupby('cluster').count().reset_index()\n",
    "df_cluster['perc_customer'] = 100* (df_cluster['customer_id'] / df_cluster['customer_id'].sum()).round(4)\n",
    "\n",
    "# AVG Gross Revenue\n",
    "df_avg_gross = df10[['gross_revenue', 'cluster']].groupby('cluster').mean().reset_index().round(4)\n",
    "df_cluster = pd.merge(df_cluster, df_avg_gross, how='inner', on='cluster')\n",
    "\n",
    "#AVG recency days\n",
    "df_recency = df10[['recency_days', 'cluster']].groupby('cluster').mean().reset_index().round(4)\n",
    "df_cluster = pd.merge(df_cluster, df_recency, how='inner', on='cluster')\n",
    "\n",
    "#invoice\n",
    "df_invoice = df10[['invoice_no', 'cluster']].groupby('cluster').mean().reset_index().round(4)\n",
    "df_cluster = pd.merge(df_cluster, df_invoice, how='inner', on='cluster')\n",
    "\n",
    "#AVG_ticket\n",
    "df_ticket = df10[['avg_ticket', 'cluster']].groupby('cluster').mean().reset_index()\n",
    "df_cluster = pd.merge(df_cluster, df_ticket, how='inner', on='cluster')\n"
   ]
  },
  {
   "cell_type": "code",
   "execution_count": null,
   "id": "054aa4a9",
   "metadata": {
    "ExecuteTime": {
     "end_time": "2023-06-14T11:50:44.776960Z",
     "start_time": "2023-06-14T11:50:44.776960Z"
    }
   },
   "outputs": [],
   "source": [
    "df_cluster.head()"
   ]
  },
  {
   "cell_type": "markdown",
   "id": "af2ce3fd",
   "metadata": {},
   "source": [
    "## Cluster 01 : (Candidato a Insider)\n",
    "    - Número de customers :6 (0.14% do customers)\n",
    "    - Recência em média :  7 dias\n",
    "    - Compras em média :  89 compras\n",
    "    - Receita em média : $182.182,00 dolares\n",
    "\n",
    "## Cluster 01 : (Candidato a Insider)\n",
    "    - Número de customers : 31 (0.7% do customers)\n",
    "    - Recência em média : 14 dias\n",
    "    - Compras em média : 53 compras\n",
    "    - Receita em média : $40.543,52 dolares\n",
    "    \n",
    "## Cluster 01 : (Candidato a Insider)\n",
    "    - Número de customers : 4.335 (99% do customers)\n",
    "    - Recência em média : 92 dias\n",
    "    - Compras em média : 5 compras\n",
    "    - Receita em média : $ 1.372,57 dolares"
   ]
  },
  {
   "cell_type": "code",
   "execution_count": null,
   "id": "54271c48",
   "metadata": {},
   "outputs": [],
   "source": []
  },
  {
   "cell_type": "code",
   "execution_count": null,
   "id": "4751a8dd",
   "metadata": {},
   "outputs": [],
   "source": []
  }
 ],
 "metadata": {
  "kernelspec": {
   "display_name": "Python 3 (ipykernel)",
   "language": "python",
   "name": "python3"
  },
  "language_info": {
   "codemirror_mode": {
    "name": "ipython",
    "version": 3
   },
   "file_extension": ".py",
   "mimetype": "text/x-python",
   "name": "python",
   "nbconvert_exporter": "python",
   "pygments_lexer": "ipython3",
   "version": "3.9.12"
  },
  "varInspector": {
   "cols": {
    "lenName": 16,
    "lenType": 16,
    "lenVar": 40
   },
   "kernels_config": {
    "python": {
     "delete_cmd_postfix": "",
     "delete_cmd_prefix": "del ",
     "library": "var_list.py",
     "varRefreshCmd": "print(var_dic_list())"
    },
    "r": {
     "delete_cmd_postfix": ") ",
     "delete_cmd_prefix": "rm(",
     "library": "var_list.r",
     "varRefreshCmd": "cat(var_dic_list()) "
    }
   },
   "types_to_exclude": [
    "module",
    "function",
    "builtin_function_or_method",
    "instance",
    "_Feature"
   ],
   "window_display": false
  }
 },
 "nbformat": 4,
 "nbformat_minor": 5
}
