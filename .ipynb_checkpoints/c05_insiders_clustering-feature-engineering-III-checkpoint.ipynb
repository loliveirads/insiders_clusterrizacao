{
 "cells": [
  {
   "cell_type": "markdown",
   "id": "b5e59fe8",
   "metadata": {},
   "source": [
    "## <font color= 'red'> Ciclo 00 - Planejamento - Metodo IOT"
   ]
  },
  {
   "cell_type": "markdown",
   "id": "ea7dd2d4",
   "metadata": {
    "heading_collapsed": true
   },
   "source": [
    "## <font color= 'red'> Ciclo 01 - Métricas de Validação de Clusters"
   ]
  },
  {
   "cell_type": "markdown",
   "id": "89f79f38",
   "metadata": {
    "ExecuteTime": {
     "end_time": "2023-06-14T13:34:37.195003Z",
     "start_time": "2023-06-14T13:34:37.145726Z"
    },
    "hidden": true
   },
   "source": [
    "1. Feature Engineering\n",
    "    - Recencia\n",
    "    - Frequencia\n",
    "    - Monetização\n",
    "    \n",
    "    \n",
    "2. Métricas de validação de Clustering\n",
    "    - WSS (Within - Cluster Sum od Squate)\n",
    "    - SS (Silhouette Score)\n",
    "    \n",
    "    \n",
    "3. Cluster Analysis\n",
    "    - Plot 3d\n",
    "    - Cluster Profile"
   ]
  },
  {
   "cell_type": "markdown",
   "id": "01b7d7e1",
   "metadata": {
    "heading_collapsed": true
   },
   "source": [
    "## <font color= 'red'> Ciclo 02 - Analise de Silhouette"
   ]
  },
  {
   "cell_type": "markdown",
   "id": "606e5537",
   "metadata": {
    "hidden": true
   },
   "source": [
    "1. Feature Engineering\n",
    "    - Average Ticket\n",
    "    \n",
    "    \n",
    "2. Análise de Silhouette\n",
    "    - Silhouette Analysis\n",
    "    \n",
    "    \n",
    "3. Cluster Visualization\n",
    "    - UMAP\n",
    "    \n",
    "    \n",
    "4. Cluster Analise de Perfil\n",
    "    - Descrição dos Centróides"
   ]
  },
  {
   "cell_type": "markdown",
   "id": "d6bb8ca2",
   "metadata": {
    "heading_collapsed": true
   },
   "source": [
    "## <font color= 'red'> Ciclo 03 - Statistical Descriptive"
   ]
  },
  {
   "cell_type": "markdown",
   "id": "725f750c",
   "metadata": {
    "hidden": true
   },
   "source": [
    "1. Análise Descritiva\n",
    "    - Atributos numéricos\n",
    "    - Atributos categóricos\n",
    "    \n",
    "    \n",
    "2. Feature Engineering\n",
    "    - Avarege Recency\n",
    "    - Number of Returns\n",
    "    \n",
    "    \n",
    "3. Data Preparation\n",
    "    - Standard Scaler"
   ]
  },
  {
   "cell_type": "markdown",
   "id": "93010fa5-90d5-40fb-8380-fbc9e6f358e6",
   "metadata": {},
   "source": [
    "# Planejamento da Solução (IOT)\n",
    "\n",
    "###### - Input (Entrada).\n",
    "    a - Problema de Negocio\n",
    "    b - Questões que serão respondidas\n",
    "    c - Dados de entrada / Fonte  de Dados\n",
    "    \n",
    "###### - Output( Saída ).\n",
    "    a - Anásile de dados\n",
    "    b - Algoritmo de Machine Learning treinado\n",
    "    c - Dashboard\n",
    "    \n",
    "###### - Tasks (Tarefas).\n",
    "    a - Plano de Execução\n",
    "    b - Ferramentas\n",
    "    "
   ]
  },
  {
   "cell_type": "markdown",
   "id": "041cb983-b21b-4dba-9596-7a015b4ff4e7",
   "metadata": {},
   "source": [
    "# PA005 : High Value Customer Identification (Insiders)"
   ]
  },
  {
   "cell_type": "markdown",
   "id": "ef8ce2a9-af46-4d46-b02b-3593e9c2cdd1",
   "metadata": {},
   "source": [
    "## 0.0. Planejamento da solução (IOT)"
   ]
  },
  {
   "cell_type": "markdown",
   "id": "f5c4ecfb-ba8e-4cd1-a915-08483ac245c7",
   "metadata": {},
   "source": [
    "### Input - Entrada"
   ]
  },
  {
   "cell_type": "markdown",
   "id": "89f1d647-5e62-4421-9a61-3bf8e099981d",
   "metadata": {},
   "source": [
    "1. Problema de Negócio\n",
    "    - Selecionar os clientes mais valiosos para integrar um programa de Fidelização\n",
    "    \n",
    "2. Conjunto de dados\n",
    "    - Vendas de um e-commerce online, durante o periodo de um ano."
   ]
  },
  {
   "cell_type": "markdown",
   "id": "1d077b17-4873-46d8-96ce-6a652c240b50",
   "metadata": {},
   "source": [
    "### Output - Saída"
   ]
  },
  {
   "cell_type": "markdown",
   "id": "e8dfbdb5-90d9-4bef-a69c-508dfa46005f",
   "metadata": {},
   "source": [
    "1. A indicação das pessoas que farão parte do programa de Insiders\n",
    " - Lista:   client_id | is_insider|\n",
    "    \n",
    "               10323 | yes/1\n",
    "               32413 | no/0"
   ]
  },
  {
   "cell_type": "markdown",
   "id": "08e87952-b8cf-4be1-8876-8b6c47071107",
   "metadata": {},
   "source": [
    "### Tasks - Tarefas"
   ]
  },
  {
   "cell_type": "markdown",
   "id": "81084cce-a8e7-4e25-80b2-fd66b84d84b6",
   "metadata": {},
   "source": [
    "1. Quem são as pessoas elegíveis para participar do programa de Insiders ?\n",
    "    - O que é ser elegivel? O que são clientes de maior \"Valor\".\n",
    "        \n",
    "        - Faturamento\n",
    "        \n",
    "            - Alto Ticket Médio\n",
    "            - Alto LTV ( Life time value )\n",
    "            - Baixa Recência\n",
    "            - Alto basket size\n",
    "            - Baixa probabilidade de churn.\n",
    "            - Previsão de LTV\n",
    "            - Alta propensão de compra.\n",
    "            \n",
    "        - Custo\n",
    "        \n",
    "            - Baixo taxa de devolução\n",
    "            \n",
    "        - Experiência de compra\n",
    "        \n",
    "            - Média alta das avaliações\n",
    "    \n",
    "2. Quantos Clientes farão parte do grupo ?\n",
    "    - Número total de clientes\n",
    "    - % de Insiders\n",
    "    \n",
    "3. Quais as principais caracteristicas desses clientes ?\n",
    "    - Escrever caracteristivas do cliente\n",
    "    \n",
    "        - Idade\n",
    "        - Localização\n",
    "        \n",
    "    - Escrever caracteristicas de consumo\n",
    "    \n",
    "        - Atributos da clusterização\n",
    "        \n",
    "4. Qual a porcentagem de contribuição do faturamento desse grupo para os proximos mese ?\n",
    "    - Faturamento total do ano\n",
    "    - Faturamento do grupo Insiders\n",
    "    \n",
    "5. Qual a expectativa de faturamento desse grupo para os proximos meses ?\n",
    "    - LTV do grupo Insiders\n",
    "    - Analise de Cohort\n",
    "    \n",
    "6. Quais as condições para uma pessoa ser elegivel ao Insiders ?\n",
    "    - Definir a periodicidade (1 mes, 3 meses)\n",
    "    - A pessoa precisa ser similar ou pareceido com uma pessoa do grupo.\n",
    "    \n",
    "7. Quais as condições para uma pessoa ser removida do Insiders ?\n",
    "    - Definir a periodicidade (1 mes, 3 meses)\n",
    "    - A pessoa precisa ser desimilar ou não pareceido com uma pessoa do grupo.\n",
    "    \n",
    "8. Qual a garantia que o programa Insiders é melhor que o restante da base?\n",
    "    - Teste A/B\n",
    "    - Teste A/B Bayesiano\n",
    "    - Teste de hipóteses.\n",
    "    \n",
    "9. Quais ações o time de marketing pode realizar para aumentar o faturamento?\n",
    "    - Desconto\n",
    "    - Preferencia de compra\n",
    "    - Frete\n",
    "    - Visista a empresa"
   ]
  },
  {
   "cell_type": "markdown",
   "id": "25ca2c07",
   "metadata": {},
   "source": [
    "# <font color='red'> 1.0. Imports </font>"
   ]
  },
  {
   "cell_type": "code",
   "execution_count": 66,
   "id": "6d3cfa90",
   "metadata": {
    "ExecuteTime": {
     "end_time": "2023-06-21T13:00:14.765344Z",
     "start_time": "2023-06-21T13:00:14.751392Z"
    }
   },
   "outputs": [],
   "source": [
    "import pandas as pd\n",
    "import seaborn as sns\n",
    "import inflection\n",
    "import warnings\n",
    "import regex as re\n",
    "\n",
    "\n",
    "#import umap.umap_ as umap\n",
    "from sklearn import cluster as c\n",
    "from sklearn import preprocessing as pp\n",
    "from matplotlib import pyplot as plt\n",
    "from yellowbrick.cluster import KElbowVisualizer, SilhouetteVisualizer\n",
    "from IPython.display import HTML\n",
    "from sklearn import metrics as m\n",
    "from ydata_profiling import ProfileReport\n",
    "\n",
    "from plotly import express as px"
   ]
  },
  {
   "cell_type": "markdown",
   "id": "80937746",
   "metadata": {},
   "source": [
    "## 0.1. Help Functions"
   ]
  },
  {
   "cell_type": "code",
   "execution_count": 67,
   "id": "44b9d76d",
   "metadata": {
    "ExecuteTime": {
     "end_time": "2023-06-21T13:00:14.796967Z",
     "start_time": "2023-06-21T13:00:14.769373Z"
    }
   },
   "outputs": [],
   "source": [
    "def jupyter_settings():\n",
    "    %matplotlib inline\n",
    "    %pylab inline\n",
    "    \n",
    "    plt.style.use( 'bmh' )\n",
    "    plt.rcParams['figure.figsize'] = [25, 12]\n",
    "    plt.rcParams['font.size'] = 24\n",
    "    \n",
    "    display( HTML( '<style>.container { width:100% !important; }</style>') )\n",
    "    pd.options.display.max_columns = None\n",
    "    pd.options.display.max_rows = None\n",
    "    pd.set_option( 'display.expand_frame_repr', False )\n",
    "    \n",
    "    sns.set()\n",
    "warnings.filterwarnings( 'ignore' )    "
   ]
  },
  {
   "cell_type": "markdown",
   "id": "1d033f53",
   "metadata": {},
   "source": [
    "## 0.2 Load Dataset"
   ]
  },
  {
   "cell_type": "code",
   "execution_count": 68,
   "id": "f7e3af6c",
   "metadata": {
    "ExecuteTime": {
     "end_time": "2023-06-21T13:00:16.210428Z",
     "start_time": "2023-06-21T13:00:14.799820Z"
    }
   },
   "outputs": [],
   "source": [
    "df_raw = pd.read_csv('Ecommerce.csv',encoding='unicode_escape')"
   ]
  },
  {
   "cell_type": "code",
   "execution_count": 69,
   "id": "a1667865",
   "metadata": {
    "ExecuteTime": {
     "end_time": "2023-06-21T13:00:16.286914Z",
     "start_time": "2023-06-21T13:00:16.220513Z"
    }
   },
   "outputs": [
    {
     "data": {
      "text/html": [
       "<div>\n",
       "<style scoped>\n",
       "    .dataframe tbody tr th:only-of-type {\n",
       "        vertical-align: middle;\n",
       "    }\n",
       "\n",
       "    .dataframe tbody tr th {\n",
       "        vertical-align: top;\n",
       "    }\n",
       "\n",
       "    .dataframe thead th {\n",
       "        text-align: right;\n",
       "    }\n",
       "</style>\n",
       "<table border=\"1\" class=\"dataframe\">\n",
       "  <thead>\n",
       "    <tr style=\"text-align: right;\">\n",
       "      <th></th>\n",
       "      <th>InvoiceNo</th>\n",
       "      <th>StockCode</th>\n",
       "      <th>Description</th>\n",
       "      <th>Quantity</th>\n",
       "      <th>InvoiceDate</th>\n",
       "      <th>UnitPrice</th>\n",
       "      <th>CustomerID</th>\n",
       "      <th>Country</th>\n",
       "      <th>Unnamed: 8</th>\n",
       "    </tr>\n",
       "  </thead>\n",
       "  <tbody>\n",
       "    <tr>\n",
       "      <th>0</th>\n",
       "      <td>536365</td>\n",
       "      <td>85123A</td>\n",
       "      <td>WHITE HANGING HEART T-LIGHT HOLDER</td>\n",
       "      <td>6</td>\n",
       "      <td>29-Nov-16</td>\n",
       "      <td>2.55</td>\n",
       "      <td>17850.0</td>\n",
       "      <td>United Kingdom</td>\n",
       "      <td>NaN</td>\n",
       "    </tr>\n",
       "    <tr>\n",
       "      <th>1</th>\n",
       "      <td>536365</td>\n",
       "      <td>71053</td>\n",
       "      <td>WHITE METAL LANTERN</td>\n",
       "      <td>6</td>\n",
       "      <td>29-Nov-16</td>\n",
       "      <td>3.39</td>\n",
       "      <td>17850.0</td>\n",
       "      <td>United Kingdom</td>\n",
       "      <td>NaN</td>\n",
       "    </tr>\n",
       "    <tr>\n",
       "      <th>2</th>\n",
       "      <td>536365</td>\n",
       "      <td>84406B</td>\n",
       "      <td>CREAM CUPID HEARTS COAT HANGER</td>\n",
       "      <td>8</td>\n",
       "      <td>29-Nov-16</td>\n",
       "      <td>2.75</td>\n",
       "      <td>17850.0</td>\n",
       "      <td>United Kingdom</td>\n",
       "      <td>NaN</td>\n",
       "    </tr>\n",
       "    <tr>\n",
       "      <th>3</th>\n",
       "      <td>536365</td>\n",
       "      <td>84029G</td>\n",
       "      <td>KNITTED UNION FLAG HOT WATER BOTTLE</td>\n",
       "      <td>6</td>\n",
       "      <td>29-Nov-16</td>\n",
       "      <td>3.39</td>\n",
       "      <td>17850.0</td>\n",
       "      <td>United Kingdom</td>\n",
       "      <td>NaN</td>\n",
       "    </tr>\n",
       "    <tr>\n",
       "      <th>4</th>\n",
       "      <td>536365</td>\n",
       "      <td>84029E</td>\n",
       "      <td>RED WOOLLY HOTTIE WHITE HEART.</td>\n",
       "      <td>6</td>\n",
       "      <td>29-Nov-16</td>\n",
       "      <td>3.39</td>\n",
       "      <td>17850.0</td>\n",
       "      <td>United Kingdom</td>\n",
       "      <td>NaN</td>\n",
       "    </tr>\n",
       "    <tr>\n",
       "      <th>...</th>\n",
       "      <td>...</td>\n",
       "      <td>...</td>\n",
       "      <td>...</td>\n",
       "      <td>...</td>\n",
       "      <td>...</td>\n",
       "      <td>...</td>\n",
       "      <td>...</td>\n",
       "      <td>...</td>\n",
       "      <td>...</td>\n",
       "    </tr>\n",
       "    <tr>\n",
       "      <th>541904</th>\n",
       "      <td>581587</td>\n",
       "      <td>22613</td>\n",
       "      <td>PACK OF 20 SPACEBOY NAPKINS</td>\n",
       "      <td>12</td>\n",
       "      <td>7-Dec-17</td>\n",
       "      <td>0.85</td>\n",
       "      <td>12680.0</td>\n",
       "      <td>France</td>\n",
       "      <td>NaN</td>\n",
       "    </tr>\n",
       "    <tr>\n",
       "      <th>541905</th>\n",
       "      <td>581587</td>\n",
       "      <td>22899</td>\n",
       "      <td>CHILDREN'S APRON DOLLY GIRL</td>\n",
       "      <td>6</td>\n",
       "      <td>7-Dec-17</td>\n",
       "      <td>2.10</td>\n",
       "      <td>12680.0</td>\n",
       "      <td>France</td>\n",
       "      <td>NaN</td>\n",
       "    </tr>\n",
       "    <tr>\n",
       "      <th>541906</th>\n",
       "      <td>581587</td>\n",
       "      <td>23254</td>\n",
       "      <td>CHILDRENS CUTLERY DOLLY GIRL</td>\n",
       "      <td>4</td>\n",
       "      <td>7-Dec-17</td>\n",
       "      <td>4.15</td>\n",
       "      <td>12680.0</td>\n",
       "      <td>France</td>\n",
       "      <td>NaN</td>\n",
       "    </tr>\n",
       "    <tr>\n",
       "      <th>541907</th>\n",
       "      <td>581587</td>\n",
       "      <td>23255</td>\n",
       "      <td>CHILDRENS CUTLERY CIRCUS PARADE</td>\n",
       "      <td>4</td>\n",
       "      <td>7-Dec-17</td>\n",
       "      <td>4.15</td>\n",
       "      <td>12680.0</td>\n",
       "      <td>France</td>\n",
       "      <td>NaN</td>\n",
       "    </tr>\n",
       "    <tr>\n",
       "      <th>541908</th>\n",
       "      <td>581587</td>\n",
       "      <td>22138</td>\n",
       "      <td>BAKING SET 9 PIECE RETROSPOT</td>\n",
       "      <td>3</td>\n",
       "      <td>7-Dec-17</td>\n",
       "      <td>4.95</td>\n",
       "      <td>12680.0</td>\n",
       "      <td>France</td>\n",
       "      <td>NaN</td>\n",
       "    </tr>\n",
       "  </tbody>\n",
       "</table>\n",
       "<p>541909 rows × 9 columns</p>\n",
       "</div>"
      ],
      "text/plain": [
       "       InvoiceNo StockCode                          Description  Quantity  \\\n",
       "0         536365    85123A   WHITE HANGING HEART T-LIGHT HOLDER         6   \n",
       "1         536365     71053                  WHITE METAL LANTERN         6   \n",
       "2         536365    84406B       CREAM CUPID HEARTS COAT HANGER         8   \n",
       "3         536365    84029G  KNITTED UNION FLAG HOT WATER BOTTLE         6   \n",
       "4         536365    84029E       RED WOOLLY HOTTIE WHITE HEART.         6   \n",
       "...          ...       ...                                  ...       ...   \n",
       "541904    581587     22613          PACK OF 20 SPACEBOY NAPKINS        12   \n",
       "541905    581587     22899         CHILDREN'S APRON DOLLY GIRL          6   \n",
       "541906    581587     23254        CHILDRENS CUTLERY DOLLY GIRL          4   \n",
       "541907    581587     23255      CHILDRENS CUTLERY CIRCUS PARADE         4   \n",
       "541908    581587     22138        BAKING SET 9 PIECE RETROSPOT          3   \n",
       "\n",
       "       InvoiceDate  UnitPrice  CustomerID         Country  Unnamed: 8  \n",
       "0        29-Nov-16       2.55     17850.0  United Kingdom         NaN  \n",
       "1        29-Nov-16       3.39     17850.0  United Kingdom         NaN  \n",
       "2        29-Nov-16       2.75     17850.0  United Kingdom         NaN  \n",
       "3        29-Nov-16       3.39     17850.0  United Kingdom         NaN  \n",
       "4        29-Nov-16       3.39     17850.0  United Kingdom         NaN  \n",
       "...            ...        ...         ...             ...         ...  \n",
       "541904    7-Dec-17       0.85     12680.0          France         NaN  \n",
       "541905    7-Dec-17       2.10     12680.0          France         NaN  \n",
       "541906    7-Dec-17       4.15     12680.0          France         NaN  \n",
       "541907    7-Dec-17       4.15     12680.0          France         NaN  \n",
       "541908    7-Dec-17       4.95     12680.0          France         NaN  \n",
       "\n",
       "[541909 rows x 9 columns]"
      ]
     },
     "execution_count": 69,
     "metadata": {},
     "output_type": "execute_result"
    }
   ],
   "source": [
    "df_raw"
   ]
  },
  {
   "cell_type": "code",
   "execution_count": 70,
   "id": "20bbb7e1",
   "metadata": {
    "ExecuteTime": {
     "end_time": "2023-06-21T13:00:16.394038Z",
     "start_time": "2023-06-21T13:00:16.290371Z"
    }
   },
   "outputs": [],
   "source": [
    "#Excluindo a coluna unnamed\n",
    "df_raw.drop(columns=['Unnamed: 8'], axis=1, inplace=True)"
   ]
  },
  {
   "cell_type": "markdown",
   "id": "0f22b808",
   "metadata": {},
   "source": [
    "# <font color='red'> 2.0. Descrição dos dados. </font>"
   ]
  },
  {
   "cell_type": "code",
   "execution_count": 71,
   "id": "b9319c82",
   "metadata": {
    "ExecuteTime": {
     "end_time": "2023-06-21T13:00:16.456751Z",
     "start_time": "2023-06-21T13:00:16.399589Z"
    }
   },
   "outputs": [],
   "source": [
    "df1 = df_raw.copy()"
   ]
  },
  {
   "cell_type": "markdown",
   "id": "9392cd72",
   "metadata": {},
   "source": [
    "## 2.1. Rename Columns"
   ]
  },
  {
   "cell_type": "code",
   "execution_count": 72,
   "id": "5eefb925",
   "metadata": {
    "ExecuteTime": {
     "end_time": "2023-06-21T13:00:16.471956Z",
     "start_time": "2023-06-21T13:00:16.461796Z"
    }
   },
   "outputs": [
    {
     "data": {
      "text/plain": [
       "Index(['InvoiceNo', 'StockCode', 'Description', 'Quantity', 'InvoiceDate',\n",
       "       'UnitPrice', 'CustomerID', 'Country'],\n",
       "      dtype='object')"
      ]
     },
     "execution_count": 72,
     "metadata": {},
     "output_type": "execute_result"
    }
   ],
   "source": [
    "df_raw.columns"
   ]
  },
  {
   "cell_type": "code",
   "execution_count": 73,
   "id": "9b4499a4",
   "metadata": {
    "ExecuteTime": {
     "end_time": "2023-06-21T13:00:16.502694Z",
     "start_time": "2023-06-21T13:00:16.475948Z"
    }
   },
   "outputs": [],
   "source": [
    "cols_old = ['InvoiceNo', 'StockCode', 'Description', 'Quantity', 'InvoiceDate','UnitPrice', 'CustomerID', 'Country']\n",
    "\n",
    "snakecase = lambda x: inflection.underscore( x )\n",
    "\n",
    "cols_new = list( map( snakecase, cols_old ) )\n",
    "\n",
    "# rename\n",
    "df1.columns = cols_new"
   ]
  },
  {
   "cell_type": "code",
   "execution_count": 74,
   "id": "bb3b1326",
   "metadata": {
    "ExecuteTime": {
     "end_time": "2023-06-21T13:00:16.595386Z",
     "start_time": "2023-06-21T13:00:16.514132Z"
    }
   },
   "outputs": [
    {
     "data": {
      "text/html": [
       "<div>\n",
       "<style scoped>\n",
       "    .dataframe tbody tr th:only-of-type {\n",
       "        vertical-align: middle;\n",
       "    }\n",
       "\n",
       "    .dataframe tbody tr th {\n",
       "        vertical-align: top;\n",
       "    }\n",
       "\n",
       "    .dataframe thead th {\n",
       "        text-align: right;\n",
       "    }\n",
       "</style>\n",
       "<table border=\"1\" class=\"dataframe\">\n",
       "  <thead>\n",
       "    <tr style=\"text-align: right;\">\n",
       "      <th></th>\n",
       "      <th>invoice_no</th>\n",
       "      <th>stock_code</th>\n",
       "      <th>description</th>\n",
       "      <th>quantity</th>\n",
       "      <th>invoice_date</th>\n",
       "      <th>unit_price</th>\n",
       "      <th>customer_id</th>\n",
       "      <th>country</th>\n",
       "    </tr>\n",
       "  </thead>\n",
       "  <tbody>\n",
       "    <tr>\n",
       "      <th>335559</th>\n",
       "      <td>566290</td>\n",
       "      <td>21829</td>\n",
       "      <td>DINOSAUR KEYRINGS ASSORTED</td>\n",
       "      <td>36</td>\n",
       "      <td>9-Sep-17</td>\n",
       "      <td>0.21</td>\n",
       "      <td>14456.0</td>\n",
       "      <td>United Kingdom</td>\n",
       "    </tr>\n",
       "  </tbody>\n",
       "</table>\n",
       "</div>"
      ],
      "text/plain": [
       "       invoice_no stock_code                 description  quantity  \\\n",
       "335559     566290      21829  DINOSAUR KEYRINGS ASSORTED        36   \n",
       "\n",
       "       invoice_date  unit_price  customer_id         country  \n",
       "335559     9-Sep-17        0.21      14456.0  United Kingdom  "
      ]
     },
     "execution_count": 74,
     "metadata": {},
     "output_type": "execute_result"
    }
   ],
   "source": [
    "df1.sample()"
   ]
  },
  {
   "cell_type": "markdown",
   "id": "005d433f",
   "metadata": {},
   "source": [
    "## 2.2. Data Dimensions"
   ]
  },
  {
   "cell_type": "code",
   "execution_count": 75,
   "id": "fa0a32e8",
   "metadata": {
    "ExecuteTime": {
     "end_time": "2023-06-21T13:00:16.626781Z",
     "start_time": "2023-06-21T13:00:16.605216Z"
    }
   },
   "outputs": [
    {
     "name": "stdout",
     "output_type": "stream",
     "text": [
      "Numero de linhas: 541909\n",
      "Numero de colunas: 8\n"
     ]
    }
   ],
   "source": [
    "print(f'Numero de linhas: {df1.shape[0]}')\n",
    "print(f'Numero de colunas: {df1.shape[1]}')"
   ]
  },
  {
   "cell_type": "markdown",
   "id": "08cfef54",
   "metadata": {},
   "source": [
    "## 2.3. Data types"
   ]
  },
  {
   "cell_type": "code",
   "execution_count": 76,
   "id": "56d9c059",
   "metadata": {
    "ExecuteTime": {
     "end_time": "2023-06-21T13:00:16.656673Z",
     "start_time": "2023-06-21T13:00:16.635847Z"
    }
   },
   "outputs": [
    {
     "data": {
      "text/plain": [
       "invoice_no       object\n",
       "stock_code       object\n",
       "description      object\n",
       "quantity          int64\n",
       "invoice_date     object\n",
       "unit_price      float64\n",
       "customer_id     float64\n",
       "country          object\n",
       "dtype: object"
      ]
     },
     "execution_count": 76,
     "metadata": {},
     "output_type": "execute_result"
    }
   ],
   "source": [
    "df1.dtypes"
   ]
  },
  {
   "cell_type": "code",
   "execution_count": 77,
   "id": "494dc786",
   "metadata": {
    "ExecuteTime": {
     "end_time": "2023-06-21T13:00:16.702468Z",
     "start_time": "2023-06-21T13:00:16.665599Z"
    }
   },
   "outputs": [
    {
     "data": {
      "text/html": [
       "<div>\n",
       "<style scoped>\n",
       "    .dataframe tbody tr th:only-of-type {\n",
       "        vertical-align: middle;\n",
       "    }\n",
       "\n",
       "    .dataframe tbody tr th {\n",
       "        vertical-align: top;\n",
       "    }\n",
       "\n",
       "    .dataframe thead th {\n",
       "        text-align: right;\n",
       "    }\n",
       "</style>\n",
       "<table border=\"1\" class=\"dataframe\">\n",
       "  <thead>\n",
       "    <tr style=\"text-align: right;\">\n",
       "      <th></th>\n",
       "      <th>invoice_no</th>\n",
       "      <th>stock_code</th>\n",
       "      <th>description</th>\n",
       "      <th>quantity</th>\n",
       "      <th>invoice_date</th>\n",
       "      <th>unit_price</th>\n",
       "      <th>customer_id</th>\n",
       "      <th>country</th>\n",
       "    </tr>\n",
       "  </thead>\n",
       "  <tbody>\n",
       "    <tr>\n",
       "      <th>0</th>\n",
       "      <td>536365</td>\n",
       "      <td>85123A</td>\n",
       "      <td>WHITE HANGING HEART T-LIGHT HOLDER</td>\n",
       "      <td>6</td>\n",
       "      <td>29-Nov-16</td>\n",
       "      <td>2.55</td>\n",
       "      <td>17850.0</td>\n",
       "      <td>United Kingdom</td>\n",
       "    </tr>\n",
       "    <tr>\n",
       "      <th>1</th>\n",
       "      <td>536365</td>\n",
       "      <td>71053</td>\n",
       "      <td>WHITE METAL LANTERN</td>\n",
       "      <td>6</td>\n",
       "      <td>29-Nov-16</td>\n",
       "      <td>3.39</td>\n",
       "      <td>17850.0</td>\n",
       "      <td>United Kingdom</td>\n",
       "    </tr>\n",
       "    <tr>\n",
       "      <th>2</th>\n",
       "      <td>536365</td>\n",
       "      <td>84406B</td>\n",
       "      <td>CREAM CUPID HEARTS COAT HANGER</td>\n",
       "      <td>8</td>\n",
       "      <td>29-Nov-16</td>\n",
       "      <td>2.75</td>\n",
       "      <td>17850.0</td>\n",
       "      <td>United Kingdom</td>\n",
       "    </tr>\n",
       "    <tr>\n",
       "      <th>3</th>\n",
       "      <td>536365</td>\n",
       "      <td>84029G</td>\n",
       "      <td>KNITTED UNION FLAG HOT WATER BOTTLE</td>\n",
       "      <td>6</td>\n",
       "      <td>29-Nov-16</td>\n",
       "      <td>3.39</td>\n",
       "      <td>17850.0</td>\n",
       "      <td>United Kingdom</td>\n",
       "    </tr>\n",
       "    <tr>\n",
       "      <th>4</th>\n",
       "      <td>536365</td>\n",
       "      <td>84029E</td>\n",
       "      <td>RED WOOLLY HOTTIE WHITE HEART.</td>\n",
       "      <td>6</td>\n",
       "      <td>29-Nov-16</td>\n",
       "      <td>3.39</td>\n",
       "      <td>17850.0</td>\n",
       "      <td>United Kingdom</td>\n",
       "    </tr>\n",
       "  </tbody>\n",
       "</table>\n",
       "</div>"
      ],
      "text/plain": [
       "  invoice_no stock_code                          description  quantity  \\\n",
       "0     536365     85123A   WHITE HANGING HEART T-LIGHT HOLDER         6   \n",
       "1     536365      71053                  WHITE METAL LANTERN         6   \n",
       "2     536365     84406B       CREAM CUPID HEARTS COAT HANGER         8   \n",
       "3     536365     84029G  KNITTED UNION FLAG HOT WATER BOTTLE         6   \n",
       "4     536365     84029E       RED WOOLLY HOTTIE WHITE HEART.         6   \n",
       "\n",
       "  invoice_date  unit_price  customer_id         country  \n",
       "0    29-Nov-16        2.55      17850.0  United Kingdom  \n",
       "1    29-Nov-16        3.39      17850.0  United Kingdom  \n",
       "2    29-Nov-16        2.75      17850.0  United Kingdom  \n",
       "3    29-Nov-16        3.39      17850.0  United Kingdom  \n",
       "4    29-Nov-16        3.39      17850.0  United Kingdom  "
      ]
     },
     "execution_count": 77,
     "metadata": {},
     "output_type": "execute_result"
    }
   ],
   "source": [
    "df1.head()"
   ]
  },
  {
   "cell_type": "markdown",
   "id": "ae0f52ab",
   "metadata": {
    "ExecuteTime": {
     "end_time": "2023-06-06T13:20:14.131263Z",
     "start_time": "2023-06-06T13:20:14.119750Z"
    }
   },
   "source": [
    "## 2.4. Check NA"
   ]
  },
  {
   "cell_type": "code",
   "execution_count": 78,
   "id": "51dd20ec",
   "metadata": {
    "ExecuteTime": {
     "end_time": "2023-06-21T13:00:17.478812Z",
     "start_time": "2023-06-21T13:00:16.710827Z"
    }
   },
   "outputs": [
    {
     "data": {
      "text/plain": [
       "invoice_no           0\n",
       "stock_code           0\n",
       "description       1454\n",
       "quantity             0\n",
       "invoice_date         0\n",
       "unit_price           0\n",
       "customer_id     135080\n",
       "country              0\n",
       "dtype: int64"
      ]
     },
     "execution_count": 78,
     "metadata": {},
     "output_type": "execute_result"
    }
   ],
   "source": [
    "df1.isna().sum()"
   ]
  },
  {
   "cell_type": "markdown",
   "id": "8985d9bd",
   "metadata": {},
   "source": [
    "## 2.5. Replace NA"
   ]
  },
  {
   "cell_type": "code",
   "execution_count": 79,
   "id": "d75f8ddd",
   "metadata": {
    "ExecuteTime": {
     "end_time": "2023-06-21T13:00:17.634463Z",
     "start_time": "2023-06-21T13:00:17.484095Z"
    }
   },
   "outputs": [],
   "source": [
    "df_missing = df1.loc[df1['customer_id'].isna(), :]\n",
    "df_not_missing = df1.loc[~df1['customer_id'].isna(), :]"
   ]
  },
  {
   "cell_type": "markdown",
   "id": "3415f788",
   "metadata": {
    "ExecuteTime": {
     "end_time": "2023-06-15T13:17:35.679046Z",
     "start_time": "2023-06-15T13:17:35.663008Z"
    }
   },
   "source": [
    "##### Verificando se existe algum invoice_no repetido entre as bases"
   ]
  },
  {
   "cell_type": "code",
   "execution_count": 80,
   "id": "3cc74395",
   "metadata": {
    "ExecuteTime": {
     "end_time": "2023-06-21T13:00:17.665152Z",
     "start_time": "2023-06-21T13:00:17.641409Z"
    }
   },
   "outputs": [
    {
     "data": {
      "text/plain": [
       "['536414',\n",
       " '536544',\n",
       " '536545',\n",
       " '536546',\n",
       " '536547',\n",
       " '536549',\n",
       " '536550',\n",
       " '536552',\n",
       " '536553',\n",
       " '536554']"
      ]
     },
     "execution_count": 80,
     "metadata": {},
     "output_type": "execute_result"
    }
   ],
   "source": [
    "missing_invoice = df_missing['invoice_no'].drop_duplicates().tolist()\n",
    "missing_invoice[:10]"
   ]
  },
  {
   "cell_type": "code",
   "execution_count": 81,
   "id": "7ae51750",
   "metadata": {
    "ExecuteTime": {
     "end_time": "2023-06-21T13:00:17.727760Z",
     "start_time": "2023-06-21T13:00:17.668152Z"
    }
   },
   "outputs": [
    {
     "data": {
      "text/html": [
       "<div>\n",
       "<style scoped>\n",
       "    .dataframe tbody tr th:only-of-type {\n",
       "        vertical-align: middle;\n",
       "    }\n",
       "\n",
       "    .dataframe tbody tr th {\n",
       "        vertical-align: top;\n",
       "    }\n",
       "\n",
       "    .dataframe thead th {\n",
       "        text-align: right;\n",
       "    }\n",
       "</style>\n",
       "<table border=\"1\" class=\"dataframe\">\n",
       "  <thead>\n",
       "    <tr style=\"text-align: right;\">\n",
       "      <th></th>\n",
       "      <th>invoice_no</th>\n",
       "      <th>stock_code</th>\n",
       "      <th>description</th>\n",
       "      <th>quantity</th>\n",
       "      <th>invoice_date</th>\n",
       "      <th>unit_price</th>\n",
       "      <th>customer_id</th>\n",
       "      <th>country</th>\n",
       "    </tr>\n",
       "  </thead>\n",
       "  <tbody>\n",
       "  </tbody>\n",
       "</table>\n",
       "</div>"
      ],
      "text/plain": [
       "Empty DataFrame\n",
       "Columns: [invoice_no, stock_code, description, quantity, invoice_date, unit_price, customer_id, country]\n",
       "Index: []"
      ]
     },
     "execution_count": 81,
     "metadata": {},
     "output_type": "execute_result"
    }
   ],
   "source": [
    "df_not_missing.loc[df_not_missing['invoice_no'].isin(missing_invoice), :].head()"
   ]
  },
  {
   "cell_type": "markdown",
   "id": "5a5f2976",
   "metadata": {},
   "source": [
    "- Não existe invoice_no correspondente"
   ]
  },
  {
   "cell_type": "markdown",
   "id": "a4dd778d",
   "metadata": {},
   "source": [
    "##### Create Reference"
   ]
  },
  {
   "cell_type": "code",
   "execution_count": 82,
   "id": "316e4cb3",
   "metadata": {
    "ExecuteTime": {
     "end_time": "2023-06-21T13:00:17.758586Z",
     "start_time": "2023-06-21T13:00:17.732759Z"
    }
   },
   "outputs": [],
   "source": [
    "df_backup = pd.DataFrame(df_missing['invoice_no'].drop_duplicates())\n",
    "df_backup['customer_id'] = np.arange(19000, 19000+len(df_backup), 1)"
   ]
  },
  {
   "cell_type": "code",
   "execution_count": 83,
   "id": "87038caa",
   "metadata": {
    "ExecuteTime": {
     "end_time": "2023-06-21T13:00:17.789637Z",
     "start_time": "2023-06-21T13:00:17.765929Z"
    }
   },
   "outputs": [
    {
     "data": {
      "text/html": [
       "<div>\n",
       "<style scoped>\n",
       "    .dataframe tbody tr th:only-of-type {\n",
       "        vertical-align: middle;\n",
       "    }\n",
       "\n",
       "    .dataframe tbody tr th {\n",
       "        vertical-align: top;\n",
       "    }\n",
       "\n",
       "    .dataframe thead th {\n",
       "        text-align: right;\n",
       "    }\n",
       "</style>\n",
       "<table border=\"1\" class=\"dataframe\">\n",
       "  <thead>\n",
       "    <tr style=\"text-align: right;\">\n",
       "      <th></th>\n",
       "      <th>invoice_no</th>\n",
       "      <th>customer_id</th>\n",
       "    </tr>\n",
       "  </thead>\n",
       "  <tbody>\n",
       "    <tr>\n",
       "      <th>622</th>\n",
       "      <td>536414</td>\n",
       "      <td>19000</td>\n",
       "    </tr>\n",
       "    <tr>\n",
       "      <th>1443</th>\n",
       "      <td>536544</td>\n",
       "      <td>19001</td>\n",
       "    </tr>\n",
       "    <tr>\n",
       "      <th>1970</th>\n",
       "      <td>536545</td>\n",
       "      <td>19002</td>\n",
       "    </tr>\n",
       "    <tr>\n",
       "      <th>1971</th>\n",
       "      <td>536546</td>\n",
       "      <td>19003</td>\n",
       "    </tr>\n",
       "    <tr>\n",
       "      <th>1972</th>\n",
       "      <td>536547</td>\n",
       "      <td>19004</td>\n",
       "    </tr>\n",
       "  </tbody>\n",
       "</table>\n",
       "</div>"
      ],
      "text/plain": [
       "     invoice_no  customer_id\n",
       "622      536414        19000\n",
       "1443     536544        19001\n",
       "1970     536545        19002\n",
       "1971     536546        19003\n",
       "1972     536547        19004"
      ]
     },
     "execution_count": 83,
     "metadata": {},
     "output_type": "execute_result"
    }
   ],
   "source": [
    "df_backup.head()"
   ]
  },
  {
   "cell_type": "markdown",
   "id": "7a6898e1",
   "metadata": {},
   "source": [
    "##### Merge original with reference dataframe"
   ]
  },
  {
   "cell_type": "code",
   "execution_count": 84,
   "id": "16d79286",
   "metadata": {
    "ExecuteTime": {
     "end_time": "2023-06-21T13:00:18.069778Z",
     "start_time": "2023-06-21T13:00:17.792637Z"
    }
   },
   "outputs": [
    {
     "data": {
      "text/html": [
       "<div>\n",
       "<style scoped>\n",
       "    .dataframe tbody tr th:only-of-type {\n",
       "        vertical-align: middle;\n",
       "    }\n",
       "\n",
       "    .dataframe tbody tr th {\n",
       "        vertical-align: top;\n",
       "    }\n",
       "\n",
       "    .dataframe thead th {\n",
       "        text-align: right;\n",
       "    }\n",
       "</style>\n",
       "<table border=\"1\" class=\"dataframe\">\n",
       "  <thead>\n",
       "    <tr style=\"text-align: right;\">\n",
       "      <th></th>\n",
       "      <th>invoice_no</th>\n",
       "      <th>stock_code</th>\n",
       "      <th>description</th>\n",
       "      <th>quantity</th>\n",
       "      <th>invoice_date</th>\n",
       "      <th>unit_price</th>\n",
       "      <th>customer_id_x</th>\n",
       "      <th>country</th>\n",
       "      <th>customer_id_y</th>\n",
       "    </tr>\n",
       "  </thead>\n",
       "  <tbody>\n",
       "    <tr>\n",
       "      <th>0</th>\n",
       "      <td>536365</td>\n",
       "      <td>85123A</td>\n",
       "      <td>WHITE HANGING HEART T-LIGHT HOLDER</td>\n",
       "      <td>6</td>\n",
       "      <td>29-Nov-16</td>\n",
       "      <td>2.55</td>\n",
       "      <td>17850.0</td>\n",
       "      <td>United Kingdom</td>\n",
       "      <td>NaN</td>\n",
       "    </tr>\n",
       "    <tr>\n",
       "      <th>1</th>\n",
       "      <td>536365</td>\n",
       "      <td>71053</td>\n",
       "      <td>WHITE METAL LANTERN</td>\n",
       "      <td>6</td>\n",
       "      <td>29-Nov-16</td>\n",
       "      <td>3.39</td>\n",
       "      <td>17850.0</td>\n",
       "      <td>United Kingdom</td>\n",
       "      <td>NaN</td>\n",
       "    </tr>\n",
       "    <tr>\n",
       "      <th>2</th>\n",
       "      <td>536365</td>\n",
       "      <td>84406B</td>\n",
       "      <td>CREAM CUPID HEARTS COAT HANGER</td>\n",
       "      <td>8</td>\n",
       "      <td>29-Nov-16</td>\n",
       "      <td>2.75</td>\n",
       "      <td>17850.0</td>\n",
       "      <td>United Kingdom</td>\n",
       "      <td>NaN</td>\n",
       "    </tr>\n",
       "    <tr>\n",
       "      <th>3</th>\n",
       "      <td>536365</td>\n",
       "      <td>84029G</td>\n",
       "      <td>KNITTED UNION FLAG HOT WATER BOTTLE</td>\n",
       "      <td>6</td>\n",
       "      <td>29-Nov-16</td>\n",
       "      <td>3.39</td>\n",
       "      <td>17850.0</td>\n",
       "      <td>United Kingdom</td>\n",
       "      <td>NaN</td>\n",
       "    </tr>\n",
       "    <tr>\n",
       "      <th>4</th>\n",
       "      <td>536365</td>\n",
       "      <td>84029E</td>\n",
       "      <td>RED WOOLLY HOTTIE WHITE HEART.</td>\n",
       "      <td>6</td>\n",
       "      <td>29-Nov-16</td>\n",
       "      <td>3.39</td>\n",
       "      <td>17850.0</td>\n",
       "      <td>United Kingdom</td>\n",
       "      <td>NaN</td>\n",
       "    </tr>\n",
       "  </tbody>\n",
       "</table>\n",
       "</div>"
      ],
      "text/plain": [
       "  invoice_no stock_code                          description  quantity  \\\n",
       "0     536365     85123A   WHITE HANGING HEART T-LIGHT HOLDER         6   \n",
       "1     536365      71053                  WHITE METAL LANTERN         6   \n",
       "2     536365     84406B       CREAM CUPID HEARTS COAT HANGER         8   \n",
       "3     536365     84029G  KNITTED UNION FLAG HOT WATER BOTTLE         6   \n",
       "4     536365     84029E       RED WOOLLY HOTTIE WHITE HEART.         6   \n",
       "\n",
       "  invoice_date  unit_price  customer_id_x         country  customer_id_y  \n",
       "0    29-Nov-16        2.55        17850.0  United Kingdom            NaN  \n",
       "1    29-Nov-16        3.39        17850.0  United Kingdom            NaN  \n",
       "2    29-Nov-16        2.75        17850.0  United Kingdom            NaN  \n",
       "3    29-Nov-16        3.39        17850.0  United Kingdom            NaN  \n",
       "4    29-Nov-16        3.39        17850.0  United Kingdom            NaN  "
      ]
     },
     "execution_count": 84,
     "metadata": {},
     "output_type": "execute_result"
    }
   ],
   "source": [
    "df1 = pd.merge(df1, df_backup,  on= 'invoice_no', how='left')\n",
    "df1.head()"
   ]
  },
  {
   "cell_type": "markdown",
   "id": "a4006eb6",
   "metadata": {},
   "source": [
    "##### Coalesce"
   ]
  },
  {
   "cell_type": "code",
   "execution_count": 85,
   "id": "379b1b44",
   "metadata": {
    "ExecuteTime": {
     "end_time": "2023-06-21T13:00:18.130535Z",
     "start_time": "2023-06-21T13:00:18.079212Z"
    }
   },
   "outputs": [
    {
     "data": {
      "text/html": [
       "<div>\n",
       "<style scoped>\n",
       "    .dataframe tbody tr th:only-of-type {\n",
       "        vertical-align: middle;\n",
       "    }\n",
       "\n",
       "    .dataframe tbody tr th {\n",
       "        vertical-align: top;\n",
       "    }\n",
       "\n",
       "    .dataframe thead th {\n",
       "        text-align: right;\n",
       "    }\n",
       "</style>\n",
       "<table border=\"1\" class=\"dataframe\">\n",
       "  <thead>\n",
       "    <tr style=\"text-align: right;\">\n",
       "      <th></th>\n",
       "      <th>invoice_no</th>\n",
       "      <th>stock_code</th>\n",
       "      <th>description</th>\n",
       "      <th>quantity</th>\n",
       "      <th>invoice_date</th>\n",
       "      <th>unit_price</th>\n",
       "      <th>customer_id_x</th>\n",
       "      <th>country</th>\n",
       "      <th>customer_id_y</th>\n",
       "      <th>customer_id</th>\n",
       "    </tr>\n",
       "  </thead>\n",
       "  <tbody>\n",
       "    <tr>\n",
       "      <th>0</th>\n",
       "      <td>536365</td>\n",
       "      <td>85123A</td>\n",
       "      <td>WHITE HANGING HEART T-LIGHT HOLDER</td>\n",
       "      <td>6</td>\n",
       "      <td>29-Nov-16</td>\n",
       "      <td>2.55</td>\n",
       "      <td>17850.0</td>\n",
       "      <td>United Kingdom</td>\n",
       "      <td>NaN</td>\n",
       "      <td>17850.0</td>\n",
       "    </tr>\n",
       "    <tr>\n",
       "      <th>1</th>\n",
       "      <td>536365</td>\n",
       "      <td>71053</td>\n",
       "      <td>WHITE METAL LANTERN</td>\n",
       "      <td>6</td>\n",
       "      <td>29-Nov-16</td>\n",
       "      <td>3.39</td>\n",
       "      <td>17850.0</td>\n",
       "      <td>United Kingdom</td>\n",
       "      <td>NaN</td>\n",
       "      <td>17850.0</td>\n",
       "    </tr>\n",
       "    <tr>\n",
       "      <th>2</th>\n",
       "      <td>536365</td>\n",
       "      <td>84406B</td>\n",
       "      <td>CREAM CUPID HEARTS COAT HANGER</td>\n",
       "      <td>8</td>\n",
       "      <td>29-Nov-16</td>\n",
       "      <td>2.75</td>\n",
       "      <td>17850.0</td>\n",
       "      <td>United Kingdom</td>\n",
       "      <td>NaN</td>\n",
       "      <td>17850.0</td>\n",
       "    </tr>\n",
       "    <tr>\n",
       "      <th>3</th>\n",
       "      <td>536365</td>\n",
       "      <td>84029G</td>\n",
       "      <td>KNITTED UNION FLAG HOT WATER BOTTLE</td>\n",
       "      <td>6</td>\n",
       "      <td>29-Nov-16</td>\n",
       "      <td>3.39</td>\n",
       "      <td>17850.0</td>\n",
       "      <td>United Kingdom</td>\n",
       "      <td>NaN</td>\n",
       "      <td>17850.0</td>\n",
       "    </tr>\n",
       "    <tr>\n",
       "      <th>4</th>\n",
       "      <td>536365</td>\n",
       "      <td>84029E</td>\n",
       "      <td>RED WOOLLY HOTTIE WHITE HEART.</td>\n",
       "      <td>6</td>\n",
       "      <td>29-Nov-16</td>\n",
       "      <td>3.39</td>\n",
       "      <td>17850.0</td>\n",
       "      <td>United Kingdom</td>\n",
       "      <td>NaN</td>\n",
       "      <td>17850.0</td>\n",
       "    </tr>\n",
       "  </tbody>\n",
       "</table>\n",
       "</div>"
      ],
      "text/plain": [
       "  invoice_no stock_code                          description  quantity  \\\n",
       "0     536365     85123A   WHITE HANGING HEART T-LIGHT HOLDER         6   \n",
       "1     536365      71053                  WHITE METAL LANTERN         6   \n",
       "2     536365     84406B       CREAM CUPID HEARTS COAT HANGER         8   \n",
       "3     536365     84029G  KNITTED UNION FLAG HOT WATER BOTTLE         6   \n",
       "4     536365     84029E       RED WOOLLY HOTTIE WHITE HEART.         6   \n",
       "\n",
       "  invoice_date  unit_price  customer_id_x         country  customer_id_y  \\\n",
       "0    29-Nov-16        2.55        17850.0  United Kingdom            NaN   \n",
       "1    29-Nov-16        3.39        17850.0  United Kingdom            NaN   \n",
       "2    29-Nov-16        2.75        17850.0  United Kingdom            NaN   \n",
       "3    29-Nov-16        3.39        17850.0  United Kingdom            NaN   \n",
       "4    29-Nov-16        3.39        17850.0  United Kingdom            NaN   \n",
       "\n",
       "   customer_id  \n",
       "0      17850.0  \n",
       "1      17850.0  \n",
       "2      17850.0  \n",
       "3      17850.0  \n",
       "4      17850.0  "
      ]
     },
     "execution_count": 85,
     "metadata": {},
     "output_type": "execute_result"
    }
   ],
   "source": [
    "df1['customer_id'] = df1['customer_id_x'].combine_first(df1['customer_id_y'])\n",
    "df1.head()"
   ]
  },
  {
   "cell_type": "markdown",
   "id": "d852d979",
   "metadata": {},
   "source": [
    "##### Drop Extra Columns"
   ]
  },
  {
   "cell_type": "code",
   "execution_count": 86,
   "id": "59adec94",
   "metadata": {
    "ExecuteTime": {
     "end_time": "2023-06-21T13:00:18.285927Z",
     "start_time": "2023-06-21T13:00:18.137043Z"
    }
   },
   "outputs": [
    {
     "data": {
      "text/html": [
       "<div>\n",
       "<style scoped>\n",
       "    .dataframe tbody tr th:only-of-type {\n",
       "        vertical-align: middle;\n",
       "    }\n",
       "\n",
       "    .dataframe tbody tr th {\n",
       "        vertical-align: top;\n",
       "    }\n",
       "\n",
       "    .dataframe thead th {\n",
       "        text-align: right;\n",
       "    }\n",
       "</style>\n",
       "<table border=\"1\" class=\"dataframe\">\n",
       "  <thead>\n",
       "    <tr style=\"text-align: right;\">\n",
       "      <th></th>\n",
       "      <th>invoice_no</th>\n",
       "      <th>stock_code</th>\n",
       "      <th>description</th>\n",
       "      <th>quantity</th>\n",
       "      <th>invoice_date</th>\n",
       "      <th>unit_price</th>\n",
       "      <th>country</th>\n",
       "      <th>customer_id</th>\n",
       "    </tr>\n",
       "  </thead>\n",
       "  <tbody>\n",
       "    <tr>\n",
       "      <th>0</th>\n",
       "      <td>536365</td>\n",
       "      <td>85123A</td>\n",
       "      <td>WHITE HANGING HEART T-LIGHT HOLDER</td>\n",
       "      <td>6</td>\n",
       "      <td>29-Nov-16</td>\n",
       "      <td>2.55</td>\n",
       "      <td>United Kingdom</td>\n",
       "      <td>17850.0</td>\n",
       "    </tr>\n",
       "    <tr>\n",
       "      <th>1</th>\n",
       "      <td>536365</td>\n",
       "      <td>71053</td>\n",
       "      <td>WHITE METAL LANTERN</td>\n",
       "      <td>6</td>\n",
       "      <td>29-Nov-16</td>\n",
       "      <td>3.39</td>\n",
       "      <td>United Kingdom</td>\n",
       "      <td>17850.0</td>\n",
       "    </tr>\n",
       "    <tr>\n",
       "      <th>2</th>\n",
       "      <td>536365</td>\n",
       "      <td>84406B</td>\n",
       "      <td>CREAM CUPID HEARTS COAT HANGER</td>\n",
       "      <td>8</td>\n",
       "      <td>29-Nov-16</td>\n",
       "      <td>2.75</td>\n",
       "      <td>United Kingdom</td>\n",
       "      <td>17850.0</td>\n",
       "    </tr>\n",
       "    <tr>\n",
       "      <th>3</th>\n",
       "      <td>536365</td>\n",
       "      <td>84029G</td>\n",
       "      <td>KNITTED UNION FLAG HOT WATER BOTTLE</td>\n",
       "      <td>6</td>\n",
       "      <td>29-Nov-16</td>\n",
       "      <td>3.39</td>\n",
       "      <td>United Kingdom</td>\n",
       "      <td>17850.0</td>\n",
       "    </tr>\n",
       "    <tr>\n",
       "      <th>4</th>\n",
       "      <td>536365</td>\n",
       "      <td>84029E</td>\n",
       "      <td>RED WOOLLY HOTTIE WHITE HEART.</td>\n",
       "      <td>6</td>\n",
       "      <td>29-Nov-16</td>\n",
       "      <td>3.39</td>\n",
       "      <td>United Kingdom</td>\n",
       "      <td>17850.0</td>\n",
       "    </tr>\n",
       "  </tbody>\n",
       "</table>\n",
       "</div>"
      ],
      "text/plain": [
       "  invoice_no stock_code                          description  quantity  \\\n",
       "0     536365     85123A   WHITE HANGING HEART T-LIGHT HOLDER         6   \n",
       "1     536365      71053                  WHITE METAL LANTERN         6   \n",
       "2     536365     84406B       CREAM CUPID HEARTS COAT HANGER         8   \n",
       "3     536365     84029G  KNITTED UNION FLAG HOT WATER BOTTLE         6   \n",
       "4     536365     84029E       RED WOOLLY HOTTIE WHITE HEART.         6   \n",
       "\n",
       "  invoice_date  unit_price         country  customer_id  \n",
       "0    29-Nov-16        2.55  United Kingdom      17850.0  \n",
       "1    29-Nov-16        3.39  United Kingdom      17850.0  \n",
       "2    29-Nov-16        2.75  United Kingdom      17850.0  \n",
       "3    29-Nov-16        3.39  United Kingdom      17850.0  \n",
       "4    29-Nov-16        3.39  United Kingdom      17850.0  "
      ]
     },
     "execution_count": 86,
     "metadata": {},
     "output_type": "execute_result"
    }
   ],
   "source": [
    "df1 = df1.drop(columns = ['customer_id_x', 'customer_id_y'], axis=1)\n",
    "df1.head()"
   ]
  },
  {
   "cell_type": "code",
   "execution_count": 87,
   "id": "41189e05",
   "metadata": {
    "ExecuteTime": {
     "end_time": "2023-06-21T13:00:19.029436Z",
     "start_time": "2023-06-21T13:00:18.293665Z"
    }
   },
   "outputs": [
    {
     "data": {
      "text/plain": [
       "invoice_no         0\n",
       "stock_code         0\n",
       "description     1454\n",
       "quantity           0\n",
       "invoice_date       0\n",
       "unit_price         0\n",
       "country            0\n",
       "customer_id        0\n",
       "dtype: int64"
      ]
     },
     "execution_count": 87,
     "metadata": {},
     "output_type": "execute_result"
    }
   ],
   "source": [
    "df1.isna().sum()"
   ]
  },
  {
   "cell_type": "code",
   "execution_count": 88,
   "id": "461d945a",
   "metadata": {
    "ExecuteTime": {
     "end_time": "2023-06-21T13:00:19.059720Z",
     "start_time": "2023-06-21T13:00:19.036390Z"
    }
   },
   "outputs": [],
   "source": [
    "#df1 = df1.dropna(subset=['description', 'customer_id'])\n",
    "\n",
    "#print(f'{ (1 -df1.shape[0]/ df_raw.shape[0]) * 100:.2f} % dos dados foram removidos')"
   ]
  },
  {
   "cell_type": "markdown",
   "id": "c7e5b10e",
   "metadata": {},
   "source": [
    "## 2.6. Change dtypes"
   ]
  },
  {
   "cell_type": "code",
   "execution_count": 89,
   "id": "a0e7f14e",
   "metadata": {
    "ExecuteTime": {
     "end_time": "2023-06-21T13:00:19.277248Z",
     "start_time": "2023-06-21T13:00:19.064361Z"
    }
   },
   "outputs": [
    {
     "data": {
      "text/html": [
       "<div>\n",
       "<style scoped>\n",
       "    .dataframe tbody tr th:only-of-type {\n",
       "        vertical-align: middle;\n",
       "    }\n",
       "\n",
       "    .dataframe tbody tr th {\n",
       "        vertical-align: top;\n",
       "    }\n",
       "\n",
       "    .dataframe thead th {\n",
       "        text-align: right;\n",
       "    }\n",
       "</style>\n",
       "<table border=\"1\" class=\"dataframe\">\n",
       "  <thead>\n",
       "    <tr style=\"text-align: right;\">\n",
       "      <th></th>\n",
       "      <th>invoice_no</th>\n",
       "      <th>stock_code</th>\n",
       "      <th>description</th>\n",
       "      <th>quantity</th>\n",
       "      <th>invoice_date</th>\n",
       "      <th>unit_price</th>\n",
       "      <th>country</th>\n",
       "      <th>customer_id</th>\n",
       "    </tr>\n",
       "  </thead>\n",
       "  <tbody>\n",
       "    <tr>\n",
       "      <th>0</th>\n",
       "      <td>536365</td>\n",
       "      <td>85123A</td>\n",
       "      <td>WHITE HANGING HEART T-LIGHT HOLDER</td>\n",
       "      <td>6</td>\n",
       "      <td>2016-11-29</td>\n",
       "      <td>2.55</td>\n",
       "      <td>United Kingdom</td>\n",
       "      <td>17850.0</td>\n",
       "    </tr>\n",
       "    <tr>\n",
       "      <th>1</th>\n",
       "      <td>536365</td>\n",
       "      <td>71053</td>\n",
       "      <td>WHITE METAL LANTERN</td>\n",
       "      <td>6</td>\n",
       "      <td>2016-11-29</td>\n",
       "      <td>3.39</td>\n",
       "      <td>United Kingdom</td>\n",
       "      <td>17850.0</td>\n",
       "    </tr>\n",
       "    <tr>\n",
       "      <th>2</th>\n",
       "      <td>536365</td>\n",
       "      <td>84406B</td>\n",
       "      <td>CREAM CUPID HEARTS COAT HANGER</td>\n",
       "      <td>8</td>\n",
       "      <td>2016-11-29</td>\n",
       "      <td>2.75</td>\n",
       "      <td>United Kingdom</td>\n",
       "      <td>17850.0</td>\n",
       "    </tr>\n",
       "    <tr>\n",
       "      <th>3</th>\n",
       "      <td>536365</td>\n",
       "      <td>84029G</td>\n",
       "      <td>KNITTED UNION FLAG HOT WATER BOTTLE</td>\n",
       "      <td>6</td>\n",
       "      <td>2016-11-29</td>\n",
       "      <td>3.39</td>\n",
       "      <td>United Kingdom</td>\n",
       "      <td>17850.0</td>\n",
       "    </tr>\n",
       "    <tr>\n",
       "      <th>4</th>\n",
       "      <td>536365</td>\n",
       "      <td>84029E</td>\n",
       "      <td>RED WOOLLY HOTTIE WHITE HEART.</td>\n",
       "      <td>6</td>\n",
       "      <td>2016-11-29</td>\n",
       "      <td>3.39</td>\n",
       "      <td>United Kingdom</td>\n",
       "      <td>17850.0</td>\n",
       "    </tr>\n",
       "  </tbody>\n",
       "</table>\n",
       "</div>"
      ],
      "text/plain": [
       "  invoice_no stock_code                          description  quantity  \\\n",
       "0     536365     85123A   WHITE HANGING HEART T-LIGHT HOLDER         6   \n",
       "1     536365      71053                  WHITE METAL LANTERN         6   \n",
       "2     536365     84406B       CREAM CUPID HEARTS COAT HANGER         8   \n",
       "3     536365     84029G  KNITTED UNION FLAG HOT WATER BOTTLE         6   \n",
       "4     536365     84029E       RED WOOLLY HOTTIE WHITE HEART.         6   \n",
       "\n",
       "  invoice_date  unit_price         country  customer_id  \n",
       "0   2016-11-29        2.55  United Kingdom      17850.0  \n",
       "1   2016-11-29        3.39  United Kingdom      17850.0  \n",
       "2   2016-11-29        2.75  United Kingdom      17850.0  \n",
       "3   2016-11-29        3.39  United Kingdom      17850.0  \n",
       "4   2016-11-29        3.39  United Kingdom      17850.0  "
      ]
     },
     "execution_count": 89,
     "metadata": {},
     "output_type": "execute_result"
    }
   ],
   "source": [
    "#invoice_date\n",
    "df1['invoice_date'] = pd.to_datetime(df1['invoice_date'], format='%d-%b-%y')\n",
    "df1.head()"
   ]
  },
  {
   "cell_type": "code",
   "execution_count": 90,
   "id": "a7b715bf",
   "metadata": {
    "ExecuteTime": {
     "end_time": "2023-06-21T13:00:19.339451Z",
     "start_time": "2023-06-21T13:00:19.282651Z"
    }
   },
   "outputs": [
    {
     "data": {
      "text/html": [
       "<div>\n",
       "<style scoped>\n",
       "    .dataframe tbody tr th:only-of-type {\n",
       "        vertical-align: middle;\n",
       "    }\n",
       "\n",
       "    .dataframe tbody tr th {\n",
       "        vertical-align: top;\n",
       "    }\n",
       "\n",
       "    .dataframe thead th {\n",
       "        text-align: right;\n",
       "    }\n",
       "</style>\n",
       "<table border=\"1\" class=\"dataframe\">\n",
       "  <thead>\n",
       "    <tr style=\"text-align: right;\">\n",
       "      <th></th>\n",
       "      <th>invoice_no</th>\n",
       "      <th>stock_code</th>\n",
       "      <th>description</th>\n",
       "      <th>quantity</th>\n",
       "      <th>invoice_date</th>\n",
       "      <th>unit_price</th>\n",
       "      <th>country</th>\n",
       "      <th>customer_id</th>\n",
       "    </tr>\n",
       "  </thead>\n",
       "  <tbody>\n",
       "    <tr>\n",
       "      <th>0</th>\n",
       "      <td>536365</td>\n",
       "      <td>85123A</td>\n",
       "      <td>WHITE HANGING HEART T-LIGHT HOLDER</td>\n",
       "      <td>6</td>\n",
       "      <td>2016-11-29</td>\n",
       "      <td>2.55</td>\n",
       "      <td>United Kingdom</td>\n",
       "      <td>17850</td>\n",
       "    </tr>\n",
       "    <tr>\n",
       "      <th>1</th>\n",
       "      <td>536365</td>\n",
       "      <td>71053</td>\n",
       "      <td>WHITE METAL LANTERN</td>\n",
       "      <td>6</td>\n",
       "      <td>2016-11-29</td>\n",
       "      <td>3.39</td>\n",
       "      <td>United Kingdom</td>\n",
       "      <td>17850</td>\n",
       "    </tr>\n",
       "    <tr>\n",
       "      <th>2</th>\n",
       "      <td>536365</td>\n",
       "      <td>84406B</td>\n",
       "      <td>CREAM CUPID HEARTS COAT HANGER</td>\n",
       "      <td>8</td>\n",
       "      <td>2016-11-29</td>\n",
       "      <td>2.75</td>\n",
       "      <td>United Kingdom</td>\n",
       "      <td>17850</td>\n",
       "    </tr>\n",
       "    <tr>\n",
       "      <th>3</th>\n",
       "      <td>536365</td>\n",
       "      <td>84029G</td>\n",
       "      <td>KNITTED UNION FLAG HOT WATER BOTTLE</td>\n",
       "      <td>6</td>\n",
       "      <td>2016-11-29</td>\n",
       "      <td>3.39</td>\n",
       "      <td>United Kingdom</td>\n",
       "      <td>17850</td>\n",
       "    </tr>\n",
       "    <tr>\n",
       "      <th>4</th>\n",
       "      <td>536365</td>\n",
       "      <td>84029E</td>\n",
       "      <td>RED WOOLLY HOTTIE WHITE HEART.</td>\n",
       "      <td>6</td>\n",
       "      <td>2016-11-29</td>\n",
       "      <td>3.39</td>\n",
       "      <td>United Kingdom</td>\n",
       "      <td>17850</td>\n",
       "    </tr>\n",
       "  </tbody>\n",
       "</table>\n",
       "</div>"
      ],
      "text/plain": [
       "  invoice_no stock_code                          description  quantity  \\\n",
       "0     536365     85123A   WHITE HANGING HEART T-LIGHT HOLDER         6   \n",
       "1     536365      71053                  WHITE METAL LANTERN         6   \n",
       "2     536365     84406B       CREAM CUPID HEARTS COAT HANGER         8   \n",
       "3     536365     84029G  KNITTED UNION FLAG HOT WATER BOTTLE         6   \n",
       "4     536365     84029E       RED WOOLLY HOTTIE WHITE HEART.         6   \n",
       "\n",
       "  invoice_date  unit_price         country  customer_id  \n",
       "0   2016-11-29        2.55  United Kingdom        17850  \n",
       "1   2016-11-29        3.39  United Kingdom        17850  \n",
       "2   2016-11-29        2.75  United Kingdom        17850  \n",
       "3   2016-11-29        3.39  United Kingdom        17850  \n",
       "4   2016-11-29        3.39  United Kingdom        17850  "
      ]
     },
     "execution_count": 90,
     "metadata": {},
     "output_type": "execute_result"
    }
   ],
   "source": [
    "#customer_id\n",
    "df1['customer_id'] = df1['customer_id'].astype(int)\n",
    "df1.head()"
   ]
  },
  {
   "cell_type": "code",
   "execution_count": 91,
   "id": "a6b37a62",
   "metadata": {
    "ExecuteTime": {
     "end_time": "2023-06-21T13:00:19.354691Z",
     "start_time": "2023-06-21T13:00:19.343374Z"
    }
   },
   "outputs": [
    {
     "data": {
      "text/plain": [
       "invoice_no              object\n",
       "stock_code              object\n",
       "description             object\n",
       "quantity                 int64\n",
       "invoice_date    datetime64[ns]\n",
       "unit_price             float64\n",
       "country                 object\n",
       "customer_id              int32\n",
       "dtype: object"
      ]
     },
     "execution_count": 91,
     "metadata": {},
     "output_type": "execute_result"
    }
   ],
   "source": [
    "df1.dtypes"
   ]
  },
  {
   "cell_type": "markdown",
   "id": "975c1392",
   "metadata": {},
   "source": [
    "## 2.7. Descriptive Statistics"
   ]
  },
  {
   "cell_type": "markdown",
   "id": "a418066e",
   "metadata": {},
   "source": [
    "### 2.7.1 Numerical attributs"
   ]
  },
  {
   "cell_type": "code",
   "execution_count": 92,
   "id": "f8aa45c4",
   "metadata": {
    "ExecuteTime": {
     "end_time": "2023-06-21T13:00:19.386000Z",
     "start_time": "2023-06-21T13:00:19.363442Z"
    }
   },
   "outputs": [],
   "source": [
    "num_atributes = df1.select_dtypes(include=['int64', 'float64'])\n",
    "\n",
    "cat_atributes = df1.select_dtypes(exclude=['int64', 'float64', 'datetime64[ns]'])"
   ]
  },
  {
   "cell_type": "code",
   "execution_count": 93,
   "id": "e90bd6e3",
   "metadata": {
    "ExecuteTime": {
     "end_time": "2023-06-21T13:00:19.614816Z",
     "start_time": "2023-06-21T13:00:19.400513Z"
    }
   },
   "outputs": [],
   "source": [
    "# central tendency - mean, median\n",
    "ct1 = pd.DataFrame(num_atributes.apply(np.mean)).T\n",
    "ct2 = pd.DataFrame(num_atributes.apply(np.median)).T\n",
    "\n",
    "#dispersion - desvio padrão, minimo, range, skew, kurtosis\n",
    "d1 = pd.DataFrame(num_atributes.apply(np.std)).T\n",
    "d2 = pd.DataFrame(num_atributes.apply(np.min)).T\n",
    "d3 = pd.DataFrame(num_atributes.apply(np.max)).T\n",
    "d4 = pd.DataFrame(num_atributes.apply(lambda x: x.max() - x.min())).T\n",
    "d5 = pd.DataFrame(num_atributes.apply(lambda x: x.skew())).T\n",
    "d6 = pd.DataFrame(num_atributes.apply(lambda x: x.kurtosis())).T\n",
    "\n",
    "\n",
    "#concatenate\n",
    "c = pd.concat([d2, d3, d4, ct1, ct2, d2, d5, d6]).T.reset_index()\n",
    "c.columns = ['attributes', 'min', 'max', 'range', 'mean', 'median', 'std', 'skew', 'kurtosis']"
   ]
  },
  {
   "cell_type": "code",
   "execution_count": 94,
   "id": "f8a50b21",
   "metadata": {
    "ExecuteTime": {
     "end_time": "2023-06-21T13:00:19.677748Z",
     "start_time": "2023-06-21T13:00:19.627758Z"
    }
   },
   "outputs": [
    {
     "data": {
      "text/html": [
       "<div>\n",
       "<style scoped>\n",
       "    .dataframe tbody tr th:only-of-type {\n",
       "        vertical-align: middle;\n",
       "    }\n",
       "\n",
       "    .dataframe tbody tr th {\n",
       "        vertical-align: top;\n",
       "    }\n",
       "\n",
       "    .dataframe thead th {\n",
       "        text-align: right;\n",
       "    }\n",
       "</style>\n",
       "<table border=\"1\" class=\"dataframe\">\n",
       "  <thead>\n",
       "    <tr style=\"text-align: right;\">\n",
       "      <th></th>\n",
       "      <th>attributes</th>\n",
       "      <th>min</th>\n",
       "      <th>max</th>\n",
       "      <th>range</th>\n",
       "      <th>mean</th>\n",
       "      <th>median</th>\n",
       "      <th>std</th>\n",
       "      <th>skew</th>\n",
       "      <th>kurtosis</th>\n",
       "    </tr>\n",
       "  </thead>\n",
       "  <tbody>\n",
       "    <tr>\n",
       "      <th>0</th>\n",
       "      <td>quantity</td>\n",
       "      <td>-80995.00</td>\n",
       "      <td>80995.0</td>\n",
       "      <td>161990.00</td>\n",
       "      <td>9.552250</td>\n",
       "      <td>3.00</td>\n",
       "      <td>-80995.00</td>\n",
       "      <td>-0.264076</td>\n",
       "      <td>119769.160031</td>\n",
       "    </tr>\n",
       "    <tr>\n",
       "      <th>1</th>\n",
       "      <td>unit_price</td>\n",
       "      <td>-11062.06</td>\n",
       "      <td>38970.0</td>\n",
       "      <td>50032.06</td>\n",
       "      <td>4.611114</td>\n",
       "      <td>2.08</td>\n",
       "      <td>-11062.06</td>\n",
       "      <td>186.506972</td>\n",
       "      <td>59005.719097</td>\n",
       "    </tr>\n",
       "  </tbody>\n",
       "</table>\n",
       "</div>"
      ],
      "text/plain": [
       "   attributes       min      max      range      mean  median       std  \\\n",
       "0    quantity -80995.00  80995.0  161990.00  9.552250    3.00 -80995.00   \n",
       "1  unit_price -11062.06  38970.0   50032.06  4.611114    2.08 -11062.06   \n",
       "\n",
       "         skew       kurtosis  \n",
       "0   -0.264076  119769.160031  \n",
       "1  186.506972   59005.719097  "
      ]
     },
     "execution_count": 94,
     "metadata": {},
     "output_type": "execute_result"
    }
   ],
   "source": [
    "c"
   ]
  },
  {
   "cell_type": "markdown",
   "id": "965517b6",
   "metadata": {},
   "source": [
    "#### 2.7.1.1 Numerical attributs investigating"
   ]
  },
  {
   "cell_type": "markdown",
   "id": "6a3b0013",
   "metadata": {},
   "source": [
    "- Podemos ver que na quantida temos um valor negativo (**pode ser devolução**)\n",
    "- Quantidade máxima, temos uma pessoa que comprou 80995 produtos\n",
    "- Valor unitário, temos o valor de 0"
   ]
  },
  {
   "cell_type": "code",
   "execution_count": 95,
   "id": "ae9c489e",
   "metadata": {
    "ExecuteTime": {
     "end_time": "2023-06-21T13:00:19.723763Z",
     "start_time": "2023-06-21T13:00:19.684047Z"
    }
   },
   "outputs": [
    {
     "data": {
      "text/html": [
       "<div>\n",
       "<style scoped>\n",
       "    .dataframe tbody tr th:only-of-type {\n",
       "        vertical-align: middle;\n",
       "    }\n",
       "\n",
       "    .dataframe tbody tr th {\n",
       "        vertical-align: top;\n",
       "    }\n",
       "\n",
       "    .dataframe thead th {\n",
       "        text-align: right;\n",
       "    }\n",
       "</style>\n",
       "<table border=\"1\" class=\"dataframe\">\n",
       "  <thead>\n",
       "    <tr style=\"text-align: right;\">\n",
       "      <th></th>\n",
       "      <th>invoice_no</th>\n",
       "      <th>stock_code</th>\n",
       "      <th>description</th>\n",
       "      <th>country</th>\n",
       "      <th>customer_id</th>\n",
       "    </tr>\n",
       "  </thead>\n",
       "  <tbody>\n",
       "    <tr>\n",
       "      <th>0</th>\n",
       "      <td>536365</td>\n",
       "      <td>85123A</td>\n",
       "      <td>WHITE HANGING HEART T-LIGHT HOLDER</td>\n",
       "      <td>United Kingdom</td>\n",
       "      <td>17850</td>\n",
       "    </tr>\n",
       "    <tr>\n",
       "      <th>1</th>\n",
       "      <td>536365</td>\n",
       "      <td>71053</td>\n",
       "      <td>WHITE METAL LANTERN</td>\n",
       "      <td>United Kingdom</td>\n",
       "      <td>17850</td>\n",
       "    </tr>\n",
       "    <tr>\n",
       "      <th>2</th>\n",
       "      <td>536365</td>\n",
       "      <td>84406B</td>\n",
       "      <td>CREAM CUPID HEARTS COAT HANGER</td>\n",
       "      <td>United Kingdom</td>\n",
       "      <td>17850</td>\n",
       "    </tr>\n",
       "    <tr>\n",
       "      <th>3</th>\n",
       "      <td>536365</td>\n",
       "      <td>84029G</td>\n",
       "      <td>KNITTED UNION FLAG HOT WATER BOTTLE</td>\n",
       "      <td>United Kingdom</td>\n",
       "      <td>17850</td>\n",
       "    </tr>\n",
       "    <tr>\n",
       "      <th>4</th>\n",
       "      <td>536365</td>\n",
       "      <td>84029E</td>\n",
       "      <td>RED WOOLLY HOTTIE WHITE HEART.</td>\n",
       "      <td>United Kingdom</td>\n",
       "      <td>17850</td>\n",
       "    </tr>\n",
       "  </tbody>\n",
       "</table>\n",
       "</div>"
      ],
      "text/plain": [
       "  invoice_no stock_code                          description         country  \\\n",
       "0     536365     85123A   WHITE HANGING HEART T-LIGHT HOLDER  United Kingdom   \n",
       "1     536365      71053                  WHITE METAL LANTERN  United Kingdom   \n",
       "2     536365     84406B       CREAM CUPID HEARTS COAT HANGER  United Kingdom   \n",
       "3     536365     84029G  KNITTED UNION FLAG HOT WATER BOTTLE  United Kingdom   \n",
       "4     536365     84029E       RED WOOLLY HOTTIE WHITE HEART.  United Kingdom   \n",
       "\n",
       "   customer_id  \n",
       "0        17850  \n",
       "1        17850  \n",
       "2        17850  \n",
       "3        17850  \n",
       "4        17850  "
      ]
     },
     "execution_count": 95,
     "metadata": {},
     "output_type": "execute_result"
    }
   ],
   "source": [
    "cat_atributes.head()"
   ]
  },
  {
   "cell_type": "code",
   "execution_count": 96,
   "id": "89be04d1",
   "metadata": {
    "ExecuteTime": {
     "end_time": "2023-06-21T13:00:27.067285Z",
     "start_time": "2023-06-21T13:00:19.730141Z"
    }
   },
   "outputs": [
    {
     "data": {
      "text/plain": [
       "3839"
      ]
     },
     "execution_count": 96,
     "metadata": {},
     "output_type": "execute_result"
    }
   ],
   "source": [
    "#invoice number\n",
    "\n",
    "len(df1.loc[df1['invoice_no'].apply(lambda x: bool(re.search('[^0-9]+', x))), 'invoice_no'].drop_duplicates())"
   ]
  },
  {
   "cell_type": "code",
   "execution_count": 97,
   "id": "458f4735",
   "metadata": {
    "ExecuteTime": {
     "end_time": "2023-06-21T13:00:33.582689Z",
     "start_time": "2023-06-21T13:00:27.070285Z"
    }
   },
   "outputs": [
    {
     "data": {
      "text/html": [
       "<div>\n",
       "<style scoped>\n",
       "    .dataframe tbody tr th:only-of-type {\n",
       "        vertical-align: middle;\n",
       "    }\n",
       "\n",
       "    .dataframe tbody tr th {\n",
       "        vertical-align: top;\n",
       "    }\n",
       "\n",
       "    .dataframe thead th {\n",
       "        text-align: right;\n",
       "    }\n",
       "</style>\n",
       "<table border=\"1\" class=\"dataframe\">\n",
       "  <thead>\n",
       "    <tr style=\"text-align: right;\">\n",
       "      <th></th>\n",
       "      <th>invoice_no</th>\n",
       "      <th>stock_code</th>\n",
       "      <th>description</th>\n",
       "      <th>quantity</th>\n",
       "      <th>invoice_date</th>\n",
       "      <th>unit_price</th>\n",
       "      <th>country</th>\n",
       "      <th>customer_id</th>\n",
       "    </tr>\n",
       "  </thead>\n",
       "  <tbody>\n",
       "    <tr>\n",
       "      <th>45</th>\n",
       "      <td>536370</td>\n",
       "      <td>POST</td>\n",
       "      <td>POSTAGE</td>\n",
       "      <td>3</td>\n",
       "      <td>2016-11-29</td>\n",
       "      <td>18.00</td>\n",
       "      <td>France</td>\n",
       "      <td>12583</td>\n",
       "    </tr>\n",
       "    <tr>\n",
       "      <th>141</th>\n",
       "      <td>C536379</td>\n",
       "      <td>D</td>\n",
       "      <td>Discount</td>\n",
       "      <td>-1</td>\n",
       "      <td>2016-11-29</td>\n",
       "      <td>27.50</td>\n",
       "      <td>United Kingdom</td>\n",
       "      <td>14527</td>\n",
       "    </tr>\n",
       "    <tr>\n",
       "      <th>386</th>\n",
       "      <td>536403</td>\n",
       "      <td>POST</td>\n",
       "      <td>POSTAGE</td>\n",
       "      <td>1</td>\n",
       "      <td>2016-11-29</td>\n",
       "      <td>15.00</td>\n",
       "      <td>Netherlands</td>\n",
       "      <td>12791</td>\n",
       "    </tr>\n",
       "    <tr>\n",
       "      <th>1123</th>\n",
       "      <td>536527</td>\n",
       "      <td>POST</td>\n",
       "      <td>POSTAGE</td>\n",
       "      <td>1</td>\n",
       "      <td>2016-11-29</td>\n",
       "      <td>18.00</td>\n",
       "      <td>Germany</td>\n",
       "      <td>12662</td>\n",
       "    </tr>\n",
       "    <tr>\n",
       "      <th>1814</th>\n",
       "      <td>536544</td>\n",
       "      <td>DOT</td>\n",
       "      <td>DOTCOM POSTAGE</td>\n",
       "      <td>1</td>\n",
       "      <td>2016-11-29</td>\n",
       "      <td>569.77</td>\n",
       "      <td>United Kingdom</td>\n",
       "      <td>19001</td>\n",
       "    </tr>\n",
       "    <tr>\n",
       "      <th>2239</th>\n",
       "      <td>536569</td>\n",
       "      <td>M</td>\n",
       "      <td>Manual</td>\n",
       "      <td>1</td>\n",
       "      <td>2016-11-29</td>\n",
       "      <td>1.25</td>\n",
       "      <td>United Kingdom</td>\n",
       "      <td>16274</td>\n",
       "    </tr>\n",
       "    <tr>\n",
       "      <th>2250</th>\n",
       "      <td>536569</td>\n",
       "      <td>M</td>\n",
       "      <td>Manual</td>\n",
       "      <td>1</td>\n",
       "      <td>2016-11-29</td>\n",
       "      <td>18.95</td>\n",
       "      <td>United Kingdom</td>\n",
       "      <td>16274</td>\n",
       "    </tr>\n",
       "    <tr>\n",
       "      <th>3041</th>\n",
       "      <td>536592</td>\n",
       "      <td>DOT</td>\n",
       "      <td>DOTCOM POSTAGE</td>\n",
       "      <td>1</td>\n",
       "      <td>2016-11-29</td>\n",
       "      <td>607.49</td>\n",
       "      <td>United Kingdom</td>\n",
       "      <td>19014</td>\n",
       "    </tr>\n",
       "    <tr>\n",
       "      <th>5073</th>\n",
       "      <td>536840</td>\n",
       "      <td>POST</td>\n",
       "      <td>POSTAGE</td>\n",
       "      <td>1</td>\n",
       "      <td>2016-11-30</td>\n",
       "      <td>18.00</td>\n",
       "      <td>Germany</td>\n",
       "      <td>12738</td>\n",
       "    </tr>\n",
       "    <tr>\n",
       "      <th>5258</th>\n",
       "      <td>536852</td>\n",
       "      <td>POST</td>\n",
       "      <td>POSTAGE</td>\n",
       "      <td>1</td>\n",
       "      <td>2016-12-01</td>\n",
       "      <td>18.00</td>\n",
       "      <td>France</td>\n",
       "      <td>12686</td>\n",
       "    </tr>\n",
       "    <tr>\n",
       "      <th>5325</th>\n",
       "      <td>536858</td>\n",
       "      <td>POST</td>\n",
       "      <td>POSTAGE</td>\n",
       "      <td>2</td>\n",
       "      <td>2016-12-01</td>\n",
       "      <td>40.00</td>\n",
       "      <td>Switzerland</td>\n",
       "      <td>13520</td>\n",
       "    </tr>\n",
       "    <tr>\n",
       "      <th>5369</th>\n",
       "      <td>536861</td>\n",
       "      <td>POST</td>\n",
       "      <td>POSTAGE</td>\n",
       "      <td>3</td>\n",
       "      <td>2016-12-01</td>\n",
       "      <td>18.00</td>\n",
       "      <td>Germany</td>\n",
       "      <td>12427</td>\n",
       "    </tr>\n",
       "    <tr>\n",
       "      <th>5450</th>\n",
       "      <td>536862</td>\n",
       "      <td>DOT</td>\n",
       "      <td>DOTCOM POSTAGE</td>\n",
       "      <td>1</td>\n",
       "      <td>2016-12-01</td>\n",
       "      <td>254.43</td>\n",
       "      <td>United Kingdom</td>\n",
       "      <td>19023</td>\n",
       "    </tr>\n",
       "    <tr>\n",
       "      <th>5545</th>\n",
       "      <td>536864</td>\n",
       "      <td>DOT</td>\n",
       "      <td>DOTCOM POSTAGE</td>\n",
       "      <td>1</td>\n",
       "      <td>2016-12-01</td>\n",
       "      <td>121.06</td>\n",
       "      <td>United Kingdom</td>\n",
       "      <td>19024</td>\n",
       "    </tr>\n",
       "    <tr>\n",
       "      <th>5684</th>\n",
       "      <td>536865</td>\n",
       "      <td>M</td>\n",
       "      <td>Manual</td>\n",
       "      <td>1</td>\n",
       "      <td>2016-12-01</td>\n",
       "      <td>2.55</td>\n",
       "      <td>United Kingdom</td>\n",
       "      <td>19025</td>\n",
       "    </tr>\n",
       "    <tr>\n",
       "      <th>5685</th>\n",
       "      <td>536865</td>\n",
       "      <td>DOT</td>\n",
       "      <td>DOTCOM POSTAGE</td>\n",
       "      <td>1</td>\n",
       "      <td>2016-12-01</td>\n",
       "      <td>498.47</td>\n",
       "      <td>United Kingdom</td>\n",
       "      <td>19025</td>\n",
       "    </tr>\n",
       "    <tr>\n",
       "      <th>6165</th>\n",
       "      <td>536876</td>\n",
       "      <td>DOT</td>\n",
       "      <td>DOTCOM POSTAGE</td>\n",
       "      <td>1</td>\n",
       "      <td>2016-12-01</td>\n",
       "      <td>887.52</td>\n",
       "      <td>United Kingdom</td>\n",
       "      <td>19027</td>\n",
       "    </tr>\n",
       "    <tr>\n",
       "      <th>6602</th>\n",
       "      <td>536967</td>\n",
       "      <td>POST</td>\n",
       "      <td>POSTAGE</td>\n",
       "      <td>1</td>\n",
       "      <td>2016-12-01</td>\n",
       "      <td>18.00</td>\n",
       "      <td>Germany</td>\n",
       "      <td>12600</td>\n",
       "    </tr>\n",
       "    <tr>\n",
       "      <th>6676</th>\n",
       "      <td>536974</td>\n",
       "      <td>POST</td>\n",
       "      <td>POSTAGE</td>\n",
       "      <td>2</td>\n",
       "      <td>2016-12-01</td>\n",
       "      <td>18.00</td>\n",
       "      <td>France</td>\n",
       "      <td>12682</td>\n",
       "    </tr>\n",
       "    <tr>\n",
       "      <th>6798</th>\n",
       "      <td>536981</td>\n",
       "      <td>M</td>\n",
       "      <td>Manual</td>\n",
       "      <td>2</td>\n",
       "      <td>2016-12-01</td>\n",
       "      <td>0.85</td>\n",
       "      <td>United Kingdom</td>\n",
       "      <td>14723</td>\n",
       "    </tr>\n",
       "  </tbody>\n",
       "</table>\n",
       "</div>"
      ],
      "text/plain": [
       "     invoice_no stock_code     description  quantity invoice_date  unit_price  \\\n",
       "45       536370       POST         POSTAGE         3   2016-11-29       18.00   \n",
       "141     C536379          D        Discount        -1   2016-11-29       27.50   \n",
       "386      536403       POST         POSTAGE         1   2016-11-29       15.00   \n",
       "1123     536527       POST         POSTAGE         1   2016-11-29       18.00   \n",
       "1814     536544        DOT  DOTCOM POSTAGE         1   2016-11-29      569.77   \n",
       "2239     536569          M          Manual         1   2016-11-29        1.25   \n",
       "2250     536569          M          Manual         1   2016-11-29       18.95   \n",
       "3041     536592        DOT  DOTCOM POSTAGE         1   2016-11-29      607.49   \n",
       "5073     536840       POST         POSTAGE         1   2016-11-30       18.00   \n",
       "5258     536852       POST         POSTAGE         1   2016-12-01       18.00   \n",
       "5325     536858       POST         POSTAGE         2   2016-12-01       40.00   \n",
       "5369     536861       POST         POSTAGE         3   2016-12-01       18.00   \n",
       "5450     536862        DOT  DOTCOM POSTAGE         1   2016-12-01      254.43   \n",
       "5545     536864        DOT  DOTCOM POSTAGE         1   2016-12-01      121.06   \n",
       "5684     536865          M          Manual         1   2016-12-01        2.55   \n",
       "5685     536865        DOT  DOTCOM POSTAGE         1   2016-12-01      498.47   \n",
       "6165     536876        DOT  DOTCOM POSTAGE         1   2016-12-01      887.52   \n",
       "6602     536967       POST         POSTAGE         1   2016-12-01       18.00   \n",
       "6676     536974       POST         POSTAGE         2   2016-12-01       18.00   \n",
       "6798     536981          M          Manual         2   2016-12-01        0.85   \n",
       "\n",
       "             country  customer_id  \n",
       "45            France        12583  \n",
       "141   United Kingdom        14527  \n",
       "386      Netherlands        12791  \n",
       "1123         Germany        12662  \n",
       "1814  United Kingdom        19001  \n",
       "2239  United Kingdom        16274  \n",
       "2250  United Kingdom        16274  \n",
       "3041  United Kingdom        19014  \n",
       "5073         Germany        12738  \n",
       "5258          France        12686  \n",
       "5325     Switzerland        13520  \n",
       "5369         Germany        12427  \n",
       "5450  United Kingdom        19023  \n",
       "5545  United Kingdom        19024  \n",
       "5684  United Kingdom        19025  \n",
       "5685  United Kingdom        19025  \n",
       "6165  United Kingdom        19027  \n",
       "6602         Germany        12600  \n",
       "6676          France        12682  \n",
       "6798  United Kingdom        14723  "
      ]
     },
     "execution_count": 97,
     "metadata": {},
     "output_type": "execute_result"
    }
   ],
   "source": [
    "#stock Code\n",
    "#len(df1.loc[df1['stock_code'].apply(lambda x: bool(re.search('[^0-9]+', x))), 'stock_code'].drop_duplicates())\n",
    "\n",
    "df1.loc[df1['stock_code'].apply(lambda x: bool(re.search('^[a-zA-Z]+$', x))), :].head(20)"
   ]
  },
  {
   "cell_type": "markdown",
   "id": "3a537116",
   "metadata": {},
   "source": [
    "### 2.7.2. Categorical Attributes"
   ]
  },
  {
   "cell_type": "markdown",
   "id": "7a112abe",
   "metadata": {},
   "source": [
    "##### invoice_no"
   ]
  },
  {
   "cell_type": "code",
   "execution_count": 98,
   "id": "b84641c8",
   "metadata": {
    "ExecuteTime": {
     "end_time": "2023-06-21T13:00:39.808793Z",
     "start_time": "2023-06-21T13:00:33.585918Z"
    }
   },
   "outputs": [
    {
     "name": "stdout",
     "output_type": "stream",
     "text": [
      "Total number of invoices: 9291\n",
      "Total number of negative quantity: 9288\n"
     ]
    }
   ],
   "source": [
    "# problema: Temos invoice_no com letras e numeros\n",
    "\n",
    "df_letter_invoice = df1.loc[df1['invoice_no'].apply(lambda x: bool(re.search('[^0-9]+', x))), :]\n",
    "df_letter_invoice.head()\n",
    "\n",
    "print(f'Total number of invoices: {len(df_letter_invoice)}')\n",
    "print(f'Total number of negative quantity: {len(df_letter_invoice.query(\"quantity < 0\"))}')"
   ]
  },
  {
   "cell_type": "markdown",
   "id": "2cf9cc9c",
   "metadata": {
    "ExecuteTime": {
     "end_time": "2023-06-14T14:59:48.456786Z",
     "start_time": "2023-06-14T14:59:48.367389Z"
    }
   },
   "source": [
    "##### stock_code"
   ]
  },
  {
   "cell_type": "code",
   "execution_count": 99,
   "id": "dae272af",
   "metadata": {
    "ExecuteTime": {
     "end_time": "2023-06-21T13:00:46.113642Z",
     "start_time": "2023-06-21T13:00:39.811794Z"
    }
   },
   "outputs": [
    {
     "name": "stdout",
     "output_type": "stream",
     "text": [
      "['POST' 'D' 'DOT' 'M' 'S' 'AMAZONFEE' 'm' 'DCGSSBOY' 'DCGSSGIRL' 'PADS'\n",
      " 'B' 'CRUK']\n"
     ]
    }
   ],
   "source": [
    "# check stock code only characters\n",
    "\n",
    "print(df1.loc[df1['stock_code'].apply(lambda x: bool(re.search('^[a-zA-Z]+$', x))), 'stock_code'].unique())\n",
    "#sotck_code != [post, D, M, DOT, CRUK]\n"
   ]
  },
  {
   "cell_type": "markdown",
   "id": "15f0fc0a",
   "metadata": {},
   "source": [
    "##### Descripition"
   ]
  },
  {
   "cell_type": "code",
   "execution_count": null,
   "id": "751cb45f",
   "metadata": {},
   "outputs": [],
   "source": []
  },
  {
   "cell_type": "markdown",
   "id": "cf76a3cb",
   "metadata": {
    "ExecuteTime": {
     "end_time": "2023-06-14T15:21:28.382163Z",
     "start_time": "2023-06-14T15:21:28.355659Z"
    }
   },
   "source": [
    "##### Country"
   ]
  },
  {
   "cell_type": "code",
   "execution_count": 100,
   "id": "9b62a11e",
   "metadata": {
    "ExecuteTime": {
     "end_time": "2023-06-21T13:00:46.192559Z",
     "start_time": "2023-06-21T13:00:46.116642Z"
    }
   },
   "outputs": [
    {
     "data": {
      "text/plain": [
       "United Kingdom          0.914320\n",
       "Germany                 0.017521\n",
       "France                  0.015790\n",
       "EIRE                    0.015124\n",
       "Spain                   0.004674\n",
       "Netherlands             0.004375\n",
       "Belgium                 0.003818\n",
       "Switzerland             0.003694\n",
       "Portugal                0.002803\n",
       "Australia               0.002323\n",
       "Norway                  0.002004\n",
       "Italy                   0.001482\n",
       "Channel Islands         0.001399\n",
       "Finland                 0.001283\n",
       "Cyprus                  0.001148\n",
       "Sweden                  0.000853\n",
       "Unspecified             0.000823\n",
       "Austria                 0.000740\n",
       "Denmark                 0.000718\n",
       "Japan                   0.000661\n",
       "Poland                  0.000629\n",
       "Israel                  0.000548\n",
       "USA                     0.000537\n",
       "Hong Kong               0.000531\n",
       "Singapore               0.000423\n",
       "Iceland                 0.000336\n",
       "Canada                  0.000279\n",
       "Greece                  0.000269\n",
       "Malta                   0.000234\n",
       "United Arab Emirates    0.000125\n",
       "European Community      0.000113\n",
       "RSA                     0.000107\n",
       "Lebanon                 0.000083\n",
       "Lithuania               0.000065\n",
       "Brazil                  0.000059\n",
       "Czech Republic          0.000055\n",
       "Bahrain                 0.000035\n",
       "Saudi Arabia            0.000018\n",
       "Name: country, dtype: float64"
      ]
     },
     "execution_count": 100,
     "metadata": {},
     "output_type": "execute_result"
    }
   ],
   "source": [
    "df1['country'].value_counts(normalize=True)"
   ]
  },
  {
   "cell_type": "markdown",
   "id": "816e314b",
   "metadata": {},
   "source": [
    "# <font color='red'> 3.0. Filtragem de Variáveis </font>"
   ]
  },
  {
   "cell_type": "code",
   "execution_count": 101,
   "id": "4ae754f8",
   "metadata": {
    "ExecuteTime": {
     "end_time": "2023-06-21T13:00:46.224196Z",
     "start_time": "2023-06-21T13:00:46.196148Z"
    }
   },
   "outputs": [],
   "source": [
    "df2 = df1.copy()"
   ]
  },
  {
   "cell_type": "markdown",
   "id": "1d88a757",
   "metadata": {},
   "source": [
    "#### Numerical Attributes"
   ]
  },
  {
   "cell_type": "code",
   "execution_count": 102,
   "id": "d7f5026c",
   "metadata": {
    "ExecuteTime": {
     "end_time": "2023-06-21T13:00:46.334601Z",
     "start_time": "2023-06-21T13:00:46.228043Z"
    }
   },
   "outputs": [],
   "source": [
    "df2 = df2.loc[df2['unit_price'] >= 0.04, :]"
   ]
  },
  {
   "cell_type": "markdown",
   "id": "fea094a9",
   "metadata": {},
   "source": [
    "#### Categorical Attributes"
   ]
  },
  {
   "cell_type": "code",
   "execution_count": 103,
   "id": "5021d042",
   "metadata": {
    "ExecuteTime": {
     "end_time": "2023-06-21T13:00:46.457428Z",
     "start_time": "2023-06-21T13:00:46.338539Z"
    }
   },
   "outputs": [],
   "source": [
    "#sotck_code != [post, D, M, DOT, CRUK]\n",
    "\n",
    "df2 = df2[~df2['stock_code'].isin(['POST' 'D' 'DOT' 'M' 'S' 'AMAZONFEE' 'm' 'DCGSSBOY' 'DCGSSGIRL' 'PADS'\n",
    " 'B' 'CRUK'])]"
   ]
  },
  {
   "cell_type": "code",
   "execution_count": 104,
   "id": "303bf1d4",
   "metadata": {
    "ExecuteTime": {
     "end_time": "2023-06-21T13:00:46.519774Z",
     "start_time": "2023-06-21T13:00:46.460693Z"
    }
   },
   "outputs": [],
   "source": [
    "#Descripition\n",
    "df2= df2.drop(columns='description', axis=1)"
   ]
  },
  {
   "cell_type": "code",
   "execution_count": 105,
   "id": "d8ef4744",
   "metadata": {
    "ExecuteTime": {
     "end_time": "2023-06-21T13:00:46.643650Z",
     "start_time": "2023-06-21T13:00:46.522919Z"
    }
   },
   "outputs": [],
   "source": [
    "#Country\n",
    "df2 = df2[~df2['country'].isin(['European Community', 'Unspecified'])]"
   ]
  },
  {
   "cell_type": "code",
   "execution_count": 106,
   "id": "d700ea32",
   "metadata": {
    "ExecuteTime": {
     "end_time": "2023-06-21T13:00:46.753137Z",
     "start_time": "2023-06-21T13:00:46.646649Z"
    }
   },
   "outputs": [],
   "source": [
    "df2_returns = df2.loc[df2['quantity'] < 0, :]\n",
    "df2_purchases = df2.loc[df2['quantity'] >= 0, :]"
   ]
  },
  {
   "cell_type": "code",
   "execution_count": 107,
   "id": "64feca1d",
   "metadata": {
    "ExecuteTime": {
     "end_time": "2023-06-21T13:00:46.785004Z",
     "start_time": "2023-06-21T13:00:46.755644Z"
    }
   },
   "outputs": [
    {
     "data": {
      "text/html": [
       "<div>\n",
       "<style scoped>\n",
       "    .dataframe tbody tr th:only-of-type {\n",
       "        vertical-align: middle;\n",
       "    }\n",
       "\n",
       "    .dataframe tbody tr th {\n",
       "        vertical-align: top;\n",
       "    }\n",
       "\n",
       "    .dataframe thead th {\n",
       "        text-align: right;\n",
       "    }\n",
       "</style>\n",
       "<table border=\"1\" class=\"dataframe\">\n",
       "  <thead>\n",
       "    <tr style=\"text-align: right;\">\n",
       "      <th></th>\n",
       "      <th>invoice_no</th>\n",
       "      <th>stock_code</th>\n",
       "      <th>quantity</th>\n",
       "      <th>invoice_date</th>\n",
       "      <th>unit_price</th>\n",
       "      <th>country</th>\n",
       "      <th>customer_id</th>\n",
       "    </tr>\n",
       "  </thead>\n",
       "  <tbody>\n",
       "    <tr>\n",
       "      <th>141</th>\n",
       "      <td>C536379</td>\n",
       "      <td>D</td>\n",
       "      <td>-1</td>\n",
       "      <td>2016-11-29</td>\n",
       "      <td>27.50</td>\n",
       "      <td>United Kingdom</td>\n",
       "      <td>14527</td>\n",
       "    </tr>\n",
       "    <tr>\n",
       "      <th>154</th>\n",
       "      <td>C536383</td>\n",
       "      <td>35004C</td>\n",
       "      <td>-1</td>\n",
       "      <td>2016-11-29</td>\n",
       "      <td>4.65</td>\n",
       "      <td>United Kingdom</td>\n",
       "      <td>15311</td>\n",
       "    </tr>\n",
       "    <tr>\n",
       "      <th>235</th>\n",
       "      <td>C536391</td>\n",
       "      <td>22556</td>\n",
       "      <td>-12</td>\n",
       "      <td>2016-11-29</td>\n",
       "      <td>1.65</td>\n",
       "      <td>United Kingdom</td>\n",
       "      <td>17548</td>\n",
       "    </tr>\n",
       "    <tr>\n",
       "      <th>236</th>\n",
       "      <td>C536391</td>\n",
       "      <td>21984</td>\n",
       "      <td>-24</td>\n",
       "      <td>2016-11-29</td>\n",
       "      <td>0.29</td>\n",
       "      <td>United Kingdom</td>\n",
       "      <td>17548</td>\n",
       "    </tr>\n",
       "    <tr>\n",
       "      <th>237</th>\n",
       "      <td>C536391</td>\n",
       "      <td>21983</td>\n",
       "      <td>-24</td>\n",
       "      <td>2016-11-29</td>\n",
       "      <td>0.29</td>\n",
       "      <td>United Kingdom</td>\n",
       "      <td>17548</td>\n",
       "    </tr>\n",
       "    <tr>\n",
       "      <th>...</th>\n",
       "      <td>...</td>\n",
       "      <td>...</td>\n",
       "      <td>...</td>\n",
       "      <td>...</td>\n",
       "      <td>...</td>\n",
       "      <td>...</td>\n",
       "      <td>...</td>\n",
       "    </tr>\n",
       "    <tr>\n",
       "      <th>540449</th>\n",
       "      <td>C581490</td>\n",
       "      <td>23144</td>\n",
       "      <td>-11</td>\n",
       "      <td>2017-12-07</td>\n",
       "      <td>0.83</td>\n",
       "      <td>United Kingdom</td>\n",
       "      <td>14397</td>\n",
       "    </tr>\n",
       "    <tr>\n",
       "      <th>541541</th>\n",
       "      <td>C581499</td>\n",
       "      <td>M</td>\n",
       "      <td>-1</td>\n",
       "      <td>2017-12-07</td>\n",
       "      <td>224.69</td>\n",
       "      <td>United Kingdom</td>\n",
       "      <td>15498</td>\n",
       "    </tr>\n",
       "    <tr>\n",
       "      <th>541715</th>\n",
       "      <td>C581568</td>\n",
       "      <td>21258</td>\n",
       "      <td>-5</td>\n",
       "      <td>2017-12-07</td>\n",
       "      <td>10.95</td>\n",
       "      <td>United Kingdom</td>\n",
       "      <td>15311</td>\n",
       "    </tr>\n",
       "    <tr>\n",
       "      <th>541716</th>\n",
       "      <td>C581569</td>\n",
       "      <td>84978</td>\n",
       "      <td>-1</td>\n",
       "      <td>2017-12-07</td>\n",
       "      <td>1.25</td>\n",
       "      <td>United Kingdom</td>\n",
       "      <td>17315</td>\n",
       "    </tr>\n",
       "    <tr>\n",
       "      <th>541717</th>\n",
       "      <td>C581569</td>\n",
       "      <td>20979</td>\n",
       "      <td>-5</td>\n",
       "      <td>2017-12-07</td>\n",
       "      <td>1.25</td>\n",
       "      <td>United Kingdom</td>\n",
       "      <td>17315</td>\n",
       "    </tr>\n",
       "  </tbody>\n",
       "</table>\n",
       "<p>9283 rows × 7 columns</p>\n",
       "</div>"
      ],
      "text/plain": [
       "       invoice_no stock_code  quantity invoice_date  unit_price  \\\n",
       "141       C536379          D        -1   2016-11-29       27.50   \n",
       "154       C536383     35004C        -1   2016-11-29        4.65   \n",
       "235       C536391      22556       -12   2016-11-29        1.65   \n",
       "236       C536391      21984       -24   2016-11-29        0.29   \n",
       "237       C536391      21983       -24   2016-11-29        0.29   \n",
       "...           ...        ...       ...          ...         ...   \n",
       "540449    C581490      23144       -11   2017-12-07        0.83   \n",
       "541541    C581499          M        -1   2017-12-07      224.69   \n",
       "541715    C581568      21258        -5   2017-12-07       10.95   \n",
       "541716    C581569      84978        -1   2017-12-07        1.25   \n",
       "541717    C581569      20979        -5   2017-12-07        1.25   \n",
       "\n",
       "               country  customer_id  \n",
       "141     United Kingdom        14527  \n",
       "154     United Kingdom        15311  \n",
       "235     United Kingdom        17548  \n",
       "236     United Kingdom        17548  \n",
       "237     United Kingdom        17548  \n",
       "...                ...          ...  \n",
       "540449  United Kingdom        14397  \n",
       "541541  United Kingdom        15498  \n",
       "541715  United Kingdom        15311  \n",
       "541716  United Kingdom        17315  \n",
       "541717  United Kingdom        17315  \n",
       "\n",
       "[9283 rows x 7 columns]"
      ]
     },
     "execution_count": 107,
     "metadata": {},
     "output_type": "execute_result"
    }
   ],
   "source": [
    "df2_returns"
   ]
  },
  {
   "cell_type": "markdown",
   "id": "c59d454b",
   "metadata": {
    "ExecuteTime": {
     "end_time": "2023-06-06T12:29:37.003644Z",
     "start_time": "2023-06-06T12:29:36.989929Z"
    }
   },
   "source": [
    "# <font color='red'> 4.0. Feature Enginering </font>"
   ]
  },
  {
   "cell_type": "markdown",
   "id": "2926b8c3",
   "metadata": {},
   "source": [
    "## 4.1. Feature Creation"
   ]
  },
  {
   "cell_type": "code",
   "execution_count": 108,
   "id": "5ef8c57e",
   "metadata": {
    "ExecuteTime": {
     "end_time": "2023-06-21T13:00:46.815683Z",
     "start_time": "2023-06-21T13:00:46.789018Z"
    }
   },
   "outputs": [
    {
     "data": {
      "text/html": [
       "<div>\n",
       "<style scoped>\n",
       "    .dataframe tbody tr th:only-of-type {\n",
       "        vertical-align: middle;\n",
       "    }\n",
       "\n",
       "    .dataframe tbody tr th {\n",
       "        vertical-align: top;\n",
       "    }\n",
       "\n",
       "    .dataframe thead th {\n",
       "        text-align: right;\n",
       "    }\n",
       "</style>\n",
       "<table border=\"1\" class=\"dataframe\">\n",
       "  <thead>\n",
       "    <tr style=\"text-align: right;\">\n",
       "      <th></th>\n",
       "      <th>invoice_no</th>\n",
       "      <th>stock_code</th>\n",
       "      <th>quantity</th>\n",
       "      <th>invoice_date</th>\n",
       "      <th>unit_price</th>\n",
       "      <th>country</th>\n",
       "      <th>customer_id</th>\n",
       "    </tr>\n",
       "  </thead>\n",
       "  <tbody>\n",
       "    <tr>\n",
       "      <th>0</th>\n",
       "      <td>536365</td>\n",
       "      <td>85123A</td>\n",
       "      <td>6</td>\n",
       "      <td>2016-11-29</td>\n",
       "      <td>2.55</td>\n",
       "      <td>United Kingdom</td>\n",
       "      <td>17850</td>\n",
       "    </tr>\n",
       "    <tr>\n",
       "      <th>1</th>\n",
       "      <td>536365</td>\n",
       "      <td>71053</td>\n",
       "      <td>6</td>\n",
       "      <td>2016-11-29</td>\n",
       "      <td>3.39</td>\n",
       "      <td>United Kingdom</td>\n",
       "      <td>17850</td>\n",
       "    </tr>\n",
       "    <tr>\n",
       "      <th>2</th>\n",
       "      <td>536365</td>\n",
       "      <td>84406B</td>\n",
       "      <td>8</td>\n",
       "      <td>2016-11-29</td>\n",
       "      <td>2.75</td>\n",
       "      <td>United Kingdom</td>\n",
       "      <td>17850</td>\n",
       "    </tr>\n",
       "    <tr>\n",
       "      <th>3</th>\n",
       "      <td>536365</td>\n",
       "      <td>84029G</td>\n",
       "      <td>6</td>\n",
       "      <td>2016-11-29</td>\n",
       "      <td>3.39</td>\n",
       "      <td>United Kingdom</td>\n",
       "      <td>17850</td>\n",
       "    </tr>\n",
       "    <tr>\n",
       "      <th>4</th>\n",
       "      <td>536365</td>\n",
       "      <td>84029E</td>\n",
       "      <td>6</td>\n",
       "      <td>2016-11-29</td>\n",
       "      <td>3.39</td>\n",
       "      <td>United Kingdom</td>\n",
       "      <td>17850</td>\n",
       "    </tr>\n",
       "    <tr>\n",
       "      <th>...</th>\n",
       "      <td>...</td>\n",
       "      <td>...</td>\n",
       "      <td>...</td>\n",
       "      <td>...</td>\n",
       "      <td>...</td>\n",
       "      <td>...</td>\n",
       "      <td>...</td>\n",
       "    </tr>\n",
       "    <tr>\n",
       "      <th>541904</th>\n",
       "      <td>581587</td>\n",
       "      <td>22613</td>\n",
       "      <td>12</td>\n",
       "      <td>2017-12-07</td>\n",
       "      <td>0.85</td>\n",
       "      <td>France</td>\n",
       "      <td>12680</td>\n",
       "    </tr>\n",
       "    <tr>\n",
       "      <th>541905</th>\n",
       "      <td>581587</td>\n",
       "      <td>22899</td>\n",
       "      <td>6</td>\n",
       "      <td>2017-12-07</td>\n",
       "      <td>2.10</td>\n",
       "      <td>France</td>\n",
       "      <td>12680</td>\n",
       "    </tr>\n",
       "    <tr>\n",
       "      <th>541906</th>\n",
       "      <td>581587</td>\n",
       "      <td>23254</td>\n",
       "      <td>4</td>\n",
       "      <td>2017-12-07</td>\n",
       "      <td>4.15</td>\n",
       "      <td>France</td>\n",
       "      <td>12680</td>\n",
       "    </tr>\n",
       "    <tr>\n",
       "      <th>541907</th>\n",
       "      <td>581587</td>\n",
       "      <td>23255</td>\n",
       "      <td>4</td>\n",
       "      <td>2017-12-07</td>\n",
       "      <td>4.15</td>\n",
       "      <td>France</td>\n",
       "      <td>12680</td>\n",
       "    </tr>\n",
       "    <tr>\n",
       "      <th>541908</th>\n",
       "      <td>581587</td>\n",
       "      <td>22138</td>\n",
       "      <td>3</td>\n",
       "      <td>2017-12-07</td>\n",
       "      <td>4.95</td>\n",
       "      <td>France</td>\n",
       "      <td>12680</td>\n",
       "    </tr>\n",
       "  </tbody>\n",
       "</table>\n",
       "<p>538877 rows × 7 columns</p>\n",
       "</div>"
      ],
      "text/plain": [
       "       invoice_no stock_code  quantity invoice_date  unit_price  \\\n",
       "0          536365     85123A         6   2016-11-29        2.55   \n",
       "1          536365      71053         6   2016-11-29        3.39   \n",
       "2          536365     84406B         8   2016-11-29        2.75   \n",
       "3          536365     84029G         6   2016-11-29        3.39   \n",
       "4          536365     84029E         6   2016-11-29        3.39   \n",
       "...           ...        ...       ...          ...         ...   \n",
       "541904     581587      22613        12   2017-12-07        0.85   \n",
       "541905     581587      22899         6   2017-12-07        2.10   \n",
       "541906     581587      23254         4   2017-12-07        4.15   \n",
       "541907     581587      23255         4   2017-12-07        4.15   \n",
       "541908     581587      22138         3   2017-12-07        4.95   \n",
       "\n",
       "               country  customer_id  \n",
       "0       United Kingdom        17850  \n",
       "1       United Kingdom        17850  \n",
       "2       United Kingdom        17850  \n",
       "3       United Kingdom        17850  \n",
       "4       United Kingdom        17850  \n",
       "...                ...          ...  \n",
       "541904          France        12680  \n",
       "541905          France        12680  \n",
       "541906          France        12680  \n",
       "541907          France        12680  \n",
       "541908          France        12680  \n",
       "\n",
       "[538877 rows x 7 columns]"
      ]
     },
     "execution_count": 108,
     "metadata": {},
     "output_type": "execute_result"
    }
   ],
   "source": [
    "df2"
   ]
  },
  {
   "cell_type": "code",
   "execution_count": 109,
   "id": "48b029c7",
   "metadata": {
    "ExecuteTime": {
     "end_time": "2023-06-21T13:00:46.893082Z",
     "start_time": "2023-06-21T13:00:46.819264Z"
    }
   },
   "outputs": [
    {
     "data": {
      "text/html": [
       "<div>\n",
       "<style scoped>\n",
       "    .dataframe tbody tr th:only-of-type {\n",
       "        vertical-align: middle;\n",
       "    }\n",
       "\n",
       "    .dataframe tbody tr th {\n",
       "        vertical-align: top;\n",
       "    }\n",
       "\n",
       "    .dataframe thead th {\n",
       "        text-align: right;\n",
       "    }\n",
       "</style>\n",
       "<table border=\"1\" class=\"dataframe\">\n",
       "  <thead>\n",
       "    <tr style=\"text-align: right;\">\n",
       "      <th></th>\n",
       "      <th>customer_id</th>\n",
       "    </tr>\n",
       "  </thead>\n",
       "  <tbody>\n",
       "    <tr>\n",
       "      <th>0</th>\n",
       "      <td>17850</td>\n",
       "    </tr>\n",
       "    <tr>\n",
       "      <th>1</th>\n",
       "      <td>13047</td>\n",
       "    </tr>\n",
       "    <tr>\n",
       "      <th>2</th>\n",
       "      <td>12583</td>\n",
       "    </tr>\n",
       "    <tr>\n",
       "      <th>3</th>\n",
       "      <td>13748</td>\n",
       "    </tr>\n",
       "    <tr>\n",
       "      <th>4</th>\n",
       "      <td>15100</td>\n",
       "    </tr>\n",
       "  </tbody>\n",
       "</table>\n",
       "</div>"
      ],
      "text/plain": [
       "   customer_id\n",
       "0        17850\n",
       "1        13047\n",
       "2        12583\n",
       "3        13748\n",
       "4        15100"
      ]
     },
     "execution_count": 109,
     "metadata": {},
     "output_type": "execute_result"
    }
   ],
   "source": [
    "df_ref = df2[['customer_id']].drop_duplicates(ignore_index=True)\n",
    "df_ref.head()"
   ]
  },
  {
   "cell_type": "markdown",
   "id": "a075b7dc-f032-4062-9669-5330a01488b2",
   "metadata": {},
   "source": [
    "### Gross Revenue"
   ]
  },
  {
   "cell_type": "code",
   "execution_count": 110,
   "id": "837b4872",
   "metadata": {
    "ExecuteTime": {
     "end_time": "2023-06-21T13:00:47.032023Z",
     "start_time": "2023-06-21T13:00:46.896331Z"
    }
   },
   "outputs": [
    {
     "data": {
      "text/plain": [
       "customer_id        0\n",
       "gross_revenue    215\n",
       "dtype: int64"
      ]
     },
     "execution_count": 110,
     "metadata": {},
     "output_type": "execute_result"
    }
   ],
   "source": [
    "#Faturamento = Quantity * price\n",
    "df2_purchases['gross_revenue'] = df2_purchases['quantity'] * df2_purchases['unit_price']\n",
    "\n",
    "\n",
    "#Monetary\n",
    "df2_purchases[['customer_id', 'gross_revenue']].head()\n",
    "\n",
    "\n",
    "df_monetary = df2_purchases[['customer_id', 'gross_revenue']].groupby('customer_id').sum().reset_index()\n",
    "\n",
    "#merge com o df_ref\n",
    "\n",
    "df_ref = pd.merge(df_ref, df_monetary, on='customer_id', how='left')\n",
    "df_ref.isna().sum()\n"
   ]
  },
  {
   "cell_type": "markdown",
   "id": "5dfcf8a6-7c24-4446-bd42-ac7bf941c0d5",
   "metadata": {},
   "source": [
    "### Recency"
   ]
  },
  {
   "cell_type": "code",
   "execution_count": 111,
   "id": "317bdca9",
   "metadata": {
    "ExecuteTime": {
     "end_time": "2023-06-21T13:00:47.125971Z",
     "start_time": "2023-06-21T13:00:47.035023Z"
    }
   },
   "outputs": [
    {
     "data": {
      "text/plain": [
       "customer_id        0\n",
       "gross_revenue    215\n",
       "recency_days     215\n",
       "dtype: int64"
      ]
     },
     "execution_count": 111,
     "metadata": {},
     "output_type": "execute_result"
    }
   ],
   "source": [
    "#Recency\n",
    "df_recency = df2_purchases[['customer_id', 'invoice_date']].groupby('customer_id').max().reset_index()\n",
    "df_recency['recency_days'] = (df2_purchases['invoice_date'].max() - df_recency['invoice_date']).dt.days\n",
    "df_recency = df_recency[['customer_id', 'recency_days']].copy()\n",
    "\n",
    "\n",
    "df_ref = pd.merge(df_ref, df_recency, on='customer_id', how='left')\n",
    "df_ref.isna().sum()\n"
   ]
  },
  {
   "cell_type": "markdown",
   "id": "fb23e788",
   "metadata": {},
   "source": [
    "### quantity of purchased"
   ]
  },
  {
   "cell_type": "code",
   "execution_count": 112,
   "id": "8d6a614a",
   "metadata": {
    "ExecuteTime": {
     "end_time": "2023-06-21T13:00:47.281500Z",
     "start_time": "2023-06-21T13:00:47.128481Z"
    }
   },
   "outputs": [
    {
     "data": {
      "text/html": [
       "<div>\n",
       "<style scoped>\n",
       "    .dataframe tbody tr th:only-of-type {\n",
       "        vertical-align: middle;\n",
       "    }\n",
       "\n",
       "    .dataframe tbody tr th {\n",
       "        vertical-align: top;\n",
       "    }\n",
       "\n",
       "    .dataframe thead th {\n",
       "        text-align: right;\n",
       "    }\n",
       "</style>\n",
       "<table border=\"1\" class=\"dataframe\">\n",
       "  <thead>\n",
       "    <tr style=\"text-align: right;\">\n",
       "      <th></th>\n",
       "      <th>customer_id</th>\n",
       "      <th>qtde_invoices</th>\n",
       "    </tr>\n",
       "  </thead>\n",
       "  <tbody>\n",
       "    <tr>\n",
       "      <th>0</th>\n",
       "      <td>12346</td>\n",
       "      <td>1</td>\n",
       "    </tr>\n",
       "    <tr>\n",
       "      <th>1</th>\n",
       "      <td>12347</td>\n",
       "      <td>7</td>\n",
       "    </tr>\n",
       "    <tr>\n",
       "      <th>2</th>\n",
       "      <td>12348</td>\n",
       "      <td>4</td>\n",
       "    </tr>\n",
       "    <tr>\n",
       "      <th>3</th>\n",
       "      <td>12349</td>\n",
       "      <td>1</td>\n",
       "    </tr>\n",
       "    <tr>\n",
       "      <th>4</th>\n",
       "      <td>12350</td>\n",
       "      <td>1</td>\n",
       "    </tr>\n",
       "  </tbody>\n",
       "</table>\n",
       "</div>"
      ],
      "text/plain": [
       "   customer_id  qtde_invoices\n",
       "0        12346              1\n",
       "1        12347              7\n",
       "2        12348              4\n",
       "3        12349              1\n",
       "4        12350              1"
      ]
     },
     "execution_count": 112,
     "metadata": {},
     "output_type": "execute_result"
    }
   ],
   "source": [
    "df_frequency = (df2_purchases[['customer_id', 'invoice_no']].drop_duplicates()\n",
    "                                                            .groupby('customer_id')\n",
    "                                                            .count()\n",
    "                                                            .reset_index()\n",
    "                                                            .rename(columns={'invoice_no': 'qtde_invoices'}))\n",
    "df_frequency.head()\n",
    "                                                                             "
   ]
  },
  {
   "cell_type": "code",
   "execution_count": 113,
   "id": "2feb7332",
   "metadata": {
    "ExecuteTime": {
     "end_time": "2023-06-21T13:00:47.436587Z",
     "start_time": "2023-06-21T13:00:47.284501Z"
    }
   },
   "outputs": [
    {
     "data": {
      "text/html": [
       "<div>\n",
       "<style scoped>\n",
       "    .dataframe tbody tr th:only-of-type {\n",
       "        vertical-align: middle;\n",
       "    }\n",
       "\n",
       "    .dataframe tbody tr th {\n",
       "        vertical-align: top;\n",
       "    }\n",
       "\n",
       "    .dataframe thead th {\n",
       "        text-align: right;\n",
       "    }\n",
       "</style>\n",
       "<table border=\"1\" class=\"dataframe\">\n",
       "  <thead>\n",
       "    <tr style=\"text-align: right;\">\n",
       "      <th></th>\n",
       "      <th>customer_id</th>\n",
       "      <th>invoice_no</th>\n",
       "    </tr>\n",
       "  </thead>\n",
       "  <tbody>\n",
       "    <tr>\n",
       "      <th>0</th>\n",
       "      <td>12346</td>\n",
       "      <td>1</td>\n",
       "    </tr>\n",
       "    <tr>\n",
       "      <th>1</th>\n",
       "      <td>12347</td>\n",
       "      <td>7</td>\n",
       "    </tr>\n",
       "    <tr>\n",
       "      <th>2</th>\n",
       "      <td>12348</td>\n",
       "      <td>4</td>\n",
       "    </tr>\n",
       "    <tr>\n",
       "      <th>3</th>\n",
       "      <td>12349</td>\n",
       "      <td>1</td>\n",
       "    </tr>\n",
       "    <tr>\n",
       "      <th>4</th>\n",
       "      <td>12350</td>\n",
       "      <td>1</td>\n",
       "    </tr>\n",
       "  </tbody>\n",
       "</table>\n",
       "</div>"
      ],
      "text/plain": [
       "   customer_id  invoice_no\n",
       "0        12346           1\n",
       "1        12347           7\n",
       "2        12348           4\n",
       "3        12349           1\n",
       "4        12350           1"
      ]
     },
     "execution_count": 113,
     "metadata": {},
     "output_type": "execute_result"
    }
   ],
   "source": [
    "df_frequency = df2_purchases[['customer_id', 'invoice_no']].drop_duplicates().groupby('customer_id').count().reset_index()\n",
    "df_frequency.head()"
   ]
  },
  {
   "cell_type": "code",
   "execution_count": 114,
   "id": "329a48a1",
   "metadata": {
    "ExecuteTime": {
     "end_time": "2023-06-21T13:00:47.466840Z",
     "start_time": "2023-06-21T13:00:47.439816Z"
    }
   },
   "outputs": [
    {
     "data": {
      "text/plain": [
       "customer_id        0\n",
       "gross_revenue    215\n",
       "recency_days     215\n",
       "invoice_no       215\n",
       "dtype: int64"
      ]
     },
     "execution_count": 114,
     "metadata": {},
     "output_type": "execute_result"
    }
   ],
   "source": [
    "df_ref = pd.merge(df_ref, df_frequency, on='customer_id', how='left')\n",
    "df_ref.isna().sum()\n"
   ]
  },
  {
   "cell_type": "markdown",
   "id": "fab76445-ad99-4556-8faf-832e432e42f7",
   "metadata": {},
   "source": [
    "### Quantity of items purchased\n"
   ]
  },
  {
   "cell_type": "code",
   "execution_count": 115,
   "id": "c97875f0",
   "metadata": {
    "ExecuteTime": {
     "end_time": "2023-06-21T13:00:47.545589Z",
     "start_time": "2023-06-21T13:00:47.470740Z"
    }
   },
   "outputs": [
    {
     "data": {
      "text/html": [
       "<div>\n",
       "<style scoped>\n",
       "    .dataframe tbody tr th:only-of-type {\n",
       "        vertical-align: middle;\n",
       "    }\n",
       "\n",
       "    .dataframe tbody tr th {\n",
       "        vertical-align: top;\n",
       "    }\n",
       "\n",
       "    .dataframe thead th {\n",
       "        text-align: right;\n",
       "    }\n",
       "</style>\n",
       "<table border=\"1\" class=\"dataframe\">\n",
       "  <thead>\n",
       "    <tr style=\"text-align: right;\">\n",
       "      <th></th>\n",
       "      <th>customer_id</th>\n",
       "      <th>qtde_items</th>\n",
       "    </tr>\n",
       "  </thead>\n",
       "  <tbody>\n",
       "    <tr>\n",
       "      <th>0</th>\n",
       "      <td>12346</td>\n",
       "      <td>74215</td>\n",
       "    </tr>\n",
       "    <tr>\n",
       "      <th>1</th>\n",
       "      <td>12347</td>\n",
       "      <td>2458</td>\n",
       "    </tr>\n",
       "    <tr>\n",
       "      <th>2</th>\n",
       "      <td>12348</td>\n",
       "      <td>2341</td>\n",
       "    </tr>\n",
       "    <tr>\n",
       "      <th>3</th>\n",
       "      <td>12349</td>\n",
       "      <td>631</td>\n",
       "    </tr>\n",
       "    <tr>\n",
       "      <th>4</th>\n",
       "      <td>12350</td>\n",
       "      <td>197</td>\n",
       "    </tr>\n",
       "  </tbody>\n",
       "</table>\n",
       "</div>"
      ],
      "text/plain": [
       "   customer_id  qtde_items\n",
       "0        12346       74215\n",
       "1        12347        2458\n",
       "2        12348        2341\n",
       "3        12349         631\n",
       "4        12350         197"
      ]
     },
     "execution_count": 115,
     "metadata": {},
     "output_type": "execute_result"
    }
   ],
   "source": [
    "df_frequency = (df2_purchases[['customer_id', 'quantity']].groupby('customer_id')\n",
    "                                                          .sum()\n",
    "                                                          .reset_index()\n",
    "                                                          .rename(columns={'quantity': 'qtde_items'}))\n",
    "df_frequency.head()\n",
    "                        "
   ]
  },
  {
   "cell_type": "code",
   "execution_count": 116,
   "id": "f4f2d83d",
   "metadata": {
    "ExecuteTime": {
     "end_time": "2023-06-21T13:00:47.576835Z",
     "start_time": "2023-06-21T13:00:47.548572Z"
    }
   },
   "outputs": [
    {
     "data": {
      "text/plain": [
       "customer_id        0\n",
       "gross_revenue    215\n",
       "recency_days     215\n",
       "invoice_no       215\n",
       "qtde_items       215\n",
       "dtype: int64"
      ]
     },
     "execution_count": 116,
     "metadata": {},
     "output_type": "execute_result"
    }
   ],
   "source": [
    "df_ref = pd.merge(df_ref, df_frequency, on='customer_id', how='left')\n",
    "df_ref.isna().sum()\n"
   ]
  },
  {
   "cell_type": "markdown",
   "id": "f227f117",
   "metadata": {},
   "source": [
    "### Quantity of products purchased\n"
   ]
  },
  {
   "cell_type": "code",
   "execution_count": 117,
   "id": "d1d2b5a9",
   "metadata": {
    "ExecuteTime": {
     "end_time": "2023-06-21T13:00:48.027921Z",
     "start_time": "2023-06-21T13:00:47.580320Z"
    }
   },
   "outputs": [
    {
     "data": {
      "text/html": [
       "<div>\n",
       "<style scoped>\n",
       "    .dataframe tbody tr th:only-of-type {\n",
       "        vertical-align: middle;\n",
       "    }\n",
       "\n",
       "    .dataframe tbody tr th {\n",
       "        vertical-align: top;\n",
       "    }\n",
       "\n",
       "    .dataframe thead th {\n",
       "        text-align: right;\n",
       "    }\n",
       "</style>\n",
       "<table border=\"1\" class=\"dataframe\">\n",
       "  <thead>\n",
       "    <tr style=\"text-align: right;\">\n",
       "      <th></th>\n",
       "      <th>customer_id</th>\n",
       "      <th>qtde_produto</th>\n",
       "    </tr>\n",
       "  </thead>\n",
       "  <tbody>\n",
       "    <tr>\n",
       "      <th>0</th>\n",
       "      <td>12346</td>\n",
       "      <td>1</td>\n",
       "    </tr>\n",
       "    <tr>\n",
       "      <th>1</th>\n",
       "      <td>12347</td>\n",
       "      <td>103</td>\n",
       "    </tr>\n",
       "    <tr>\n",
       "      <th>2</th>\n",
       "      <td>12348</td>\n",
       "      <td>22</td>\n",
       "    </tr>\n",
       "    <tr>\n",
       "      <th>3</th>\n",
       "      <td>12349</td>\n",
       "      <td>73</td>\n",
       "    </tr>\n",
       "    <tr>\n",
       "      <th>4</th>\n",
       "      <td>12350</td>\n",
       "      <td>17</td>\n",
       "    </tr>\n",
       "    <tr>\n",
       "      <th>...</th>\n",
       "      <td>...</td>\n",
       "      <td>...</td>\n",
       "    </tr>\n",
       "    <tr>\n",
       "      <th>5751</th>\n",
       "      <td>22705</td>\n",
       "      <td>2</td>\n",
       "    </tr>\n",
       "    <tr>\n",
       "      <th>5752</th>\n",
       "      <td>22706</td>\n",
       "      <td>635</td>\n",
       "    </tr>\n",
       "    <tr>\n",
       "      <th>5753</th>\n",
       "      <td>22707</td>\n",
       "      <td>731</td>\n",
       "    </tr>\n",
       "    <tr>\n",
       "      <th>5754</th>\n",
       "      <td>22708</td>\n",
       "      <td>56</td>\n",
       "    </tr>\n",
       "    <tr>\n",
       "      <th>5755</th>\n",
       "      <td>22709</td>\n",
       "      <td>218</td>\n",
       "    </tr>\n",
       "  </tbody>\n",
       "</table>\n",
       "<p>5756 rows × 2 columns</p>\n",
       "</div>"
      ],
      "text/plain": [
       "      customer_id  qtde_produto\n",
       "0           12346             1\n",
       "1           12347           103\n",
       "2           12348            22\n",
       "3           12349            73\n",
       "4           12350            17\n",
       "...           ...           ...\n",
       "5751        22705             2\n",
       "5752        22706           635\n",
       "5753        22707           731\n",
       "5754        22708            56\n",
       "5755        22709           218\n",
       "\n",
       "[5756 rows x 2 columns]"
      ]
     },
     "execution_count": 117,
     "metadata": {},
     "output_type": "execute_result"
    }
   ],
   "source": [
    "df_freq = (df2_purchases.loc[:, ['customer_id', 'stock_code']].groupby('customer_id').nunique()\n",
    "                                                              .reset_index()\n",
    "                                                              .rename(columns={'stock_code': 'qtde_produto'}))\n",
    "df_freq"
   ]
  },
  {
   "cell_type": "code",
   "execution_count": 118,
   "id": "43ab4d43",
   "metadata": {
    "ExecuteTime": {
     "end_time": "2023-06-21T13:00:48.058298Z",
     "start_time": "2023-06-21T13:00:48.030921Z"
    }
   },
   "outputs": [
    {
     "data": {
      "text/plain": [
       "customer_id        0\n",
       "gross_revenue    215\n",
       "recency_days     215\n",
       "invoice_no       215\n",
       "qtde_items       215\n",
       "qtde_produto     215\n",
       "dtype: int64"
      ]
     },
     "execution_count": 118,
     "metadata": {},
     "output_type": "execute_result"
    }
   ],
   "source": [
    "df_ref = pd.merge(df_ref, df_freq, on='customer_id', how='left')\n",
    "df_ref.isna().sum()"
   ]
  },
  {
   "cell_type": "markdown",
   "id": "0618a2ec-762b-4fdc-aaec-59d2ce890749",
   "metadata": {
    "heading_collapsed": true
   },
   "source": [
    "### AVG Ticket Value"
   ]
  },
  {
   "cell_type": "code",
   "execution_count": 119,
   "id": "f2fb5775-2865-4a2d-8931-be3ef6bdb854",
   "metadata": {
    "ExecuteTime": {
     "end_time": "2023-06-21T13:00:48.135657Z",
     "start_time": "2023-06-21T13:00:48.062227Z"
    },
    "hidden": true
   },
   "outputs": [
    {
     "data": {
      "text/html": [
       "<div>\n",
       "<style scoped>\n",
       "    .dataframe tbody tr th:only-of-type {\n",
       "        vertical-align: middle;\n",
       "    }\n",
       "\n",
       "    .dataframe tbody tr th {\n",
       "        vertical-align: top;\n",
       "    }\n",
       "\n",
       "    .dataframe thead th {\n",
       "        text-align: right;\n",
       "    }\n",
       "</style>\n",
       "<table border=\"1\" class=\"dataframe\">\n",
       "  <thead>\n",
       "    <tr style=\"text-align: right;\">\n",
       "      <th></th>\n",
       "      <th>customer_id</th>\n",
       "      <th>avg_ticket</th>\n",
       "    </tr>\n",
       "  </thead>\n",
       "  <tbody>\n",
       "    <tr>\n",
       "      <th>0</th>\n",
       "      <td>12346</td>\n",
       "      <td>77183.600000</td>\n",
       "    </tr>\n",
       "    <tr>\n",
       "      <th>1</th>\n",
       "      <td>12347</td>\n",
       "      <td>23.681319</td>\n",
       "    </tr>\n",
       "    <tr>\n",
       "      <th>2</th>\n",
       "      <td>12348</td>\n",
       "      <td>57.975484</td>\n",
       "    </tr>\n",
       "    <tr>\n",
       "      <th>3</th>\n",
       "      <td>12349</td>\n",
       "      <td>24.076027</td>\n",
       "    </tr>\n",
       "    <tr>\n",
       "      <th>4</th>\n",
       "      <td>12350</td>\n",
       "      <td>19.670588</td>\n",
       "    </tr>\n",
       "  </tbody>\n",
       "</table>\n",
       "</div>"
      ],
      "text/plain": [
       "   customer_id    avg_ticket\n",
       "0        12346  77183.600000\n",
       "1        12347     23.681319\n",
       "2        12348     57.975484\n",
       "3        12349     24.076027\n",
       "4        12350     19.670588"
      ]
     },
     "execution_count": 119,
     "metadata": {},
     "output_type": "execute_result"
    }
   ],
   "source": [
    "df_avg_ticket = df2_purchases[['customer_id', 'gross_revenue']].groupby('customer_id').mean().reset_index().rename(columns={'gross_revenue' : 'avg_ticket'})\n",
    "df_avg_ticket.head()\n"
   ]
  },
  {
   "cell_type": "code",
   "execution_count": 120,
   "id": "14b0a558-e898-447b-b194-345c2ca5f2b8",
   "metadata": {
    "ExecuteTime": {
     "end_time": "2023-06-21T13:00:48.167285Z",
     "start_time": "2023-06-21T13:00:48.140131Z"
    },
    "hidden": true
   },
   "outputs": [
    {
     "data": {
      "text/plain": [
       "customer_id        0\n",
       "gross_revenue    215\n",
       "recency_days     215\n",
       "invoice_no       215\n",
       "qtde_items       215\n",
       "qtde_produto     215\n",
       "avg_ticket       215\n",
       "dtype: int64"
      ]
     },
     "execution_count": 120,
     "metadata": {},
     "output_type": "execute_result"
    }
   ],
   "source": [
    "df_ref = pd.merge(df_ref, df_avg_ticket, on='customer_id', how='left')\n",
    "df_ref.isna().sum()\n"
   ]
  },
  {
   "cell_type": "code",
   "execution_count": null,
   "id": "f94509b0",
   "metadata": {
    "ExecuteTime": {
     "end_time": "2023-06-20T12:41:03.691850Z",
     "start_time": "2023-06-20T12:41:02.128939Z"
    },
    "hidden": true
   },
   "outputs": [],
   "source": []
  },
  {
   "cell_type": "markdown",
   "id": "4ec3d8a5",
   "metadata": {
    "ExecuteTime": {
     "end_time": "2023-06-15T15:00:38.596240Z",
     "start_time": "2023-06-15T15:00:38.574467Z"
    },
    "heading_collapsed": true
   },
   "source": [
    "###  Average Recency Days"
   ]
  },
  {
   "cell_type": "code",
   "execution_count": 121,
   "id": "ebd3a1ff",
   "metadata": {
    "ExecuteTime": {
     "end_time": "2023-06-21T13:00:49.181027Z",
     "start_time": "2023-06-21T13:00:48.171217Z"
    },
    "hidden": true
   },
   "outputs": [
    {
     "data": {
      "text/plain": [
       "customer_id            0\n",
       "gross_revenue        215\n",
       "recency_days         215\n",
       "invoice_no           215\n",
       "qtde_items           215\n",
       "qtde_produto         215\n",
       "avg_ticket           215\n",
       "avg_recency_days    2984\n",
       "dtype: int64"
      ]
     },
     "execution_count": 121,
     "metadata": {},
     "output_type": "execute_result"
    }
   ],
   "source": [
    "df_aux = df2[['customer_id', 'invoice_date']].drop_duplicates().sort_values(['customer_id','invoice_date'], ascending=[True, True])\n",
    "df_aux['next_customer_id'] = df_aux['customer_id'].shift()\n",
    "df_aux['previous_date'] = df_aux['invoice_date'].shift()\n",
    "\n",
    "df_aux['avg_recency_days'] = df_aux.apply(lambda x: (x['invoice_date'] - x['previous_date']).days if x['customer_id'] == x['next_customer_id'] else np.nan, axis=1)\n",
    "\n",
    "\n",
    "df_aux = df_aux.drop(['invoice_date', 'next_customer_id', 'previous_date'], axis=1).dropna()\n",
    "\n",
    "df_avg_recency_days = df_aux.groupby('customer_id').mean().reset_index()\n",
    "\n",
    "\n",
    "df_ref = pd.merge(df_ref, df_avg_recency_days, on='customer_id', how='left')\n",
    "df_ref.isna().sum()"
   ]
  },
  {
   "cell_type": "markdown",
   "id": "598f238f",
   "metadata": {},
   "source": [
    "### Frequency Purchase\n"
   ]
  },
  {
   "cell_type": "code",
   "execution_count": 122,
   "id": "393f7053",
   "metadata": {
    "ExecuteTime": {
     "end_time": "2023-06-21T13:00:50.831973Z",
     "start_time": "2023-06-21T13:00:49.183995Z"
    }
   },
   "outputs": [
    {
     "data": {
      "text/plain": [
       "customer_id            0\n",
       "gross_revenue        215\n",
       "recency_days         215\n",
       "invoice_no           215\n",
       "qtde_items           215\n",
       "qtde_produto         215\n",
       "avg_ticket           215\n",
       "avg_recency_days    2984\n",
       "frequency            215\n",
       "dtype: int64"
      ]
     },
     "execution_count": 122,
     "metadata": {},
     "output_type": "execute_result"
    }
   ],
   "source": [
    "df_aux = (df2_purchases[['customer_id', 'invoice_no', 'invoice_date']].drop_duplicates()\n",
    "                                                            .groupby('customer_id')\n",
    "                                                            .agg(max_ = ('invoice_date', 'max'),\n",
    "                                                                 min_ = ('invoice_date', 'min'),\n",
    "                                                                 days_ = ('invoice_date', lambda x: (x.max() - x.min()).days),\n",
    "                                                                 buy_ = ('invoice_no', 'count'))).reset_index()\n",
    "          \n",
    "df_aux['frequency'] = df_aux[['buy_', 'days_']].apply(lambda x: x['buy_'] / x['days_'] if x['days_'] != 0 else 0, axis=1)\n",
    "\n",
    "df_ref = pd.merge(df_ref, df_aux[['customer_id', 'frequency']], on='customer_id', how='left')\n",
    "df_ref.isna().sum()"
   ]
  },
  {
   "cell_type": "code",
   "execution_count": 123,
   "id": "c1a9d613",
   "metadata": {
    "ExecuteTime": {
     "end_time": "2023-06-21T13:00:50.862617Z",
     "start_time": "2023-06-21T13:00:50.835744Z"
    }
   },
   "outputs": [
    {
     "data": {
      "text/html": [
       "<div>\n",
       "<style scoped>\n",
       "    .dataframe tbody tr th:only-of-type {\n",
       "        vertical-align: middle;\n",
       "    }\n",
       "\n",
       "    .dataframe tbody tr th {\n",
       "        vertical-align: top;\n",
       "    }\n",
       "\n",
       "    .dataframe thead th {\n",
       "        text-align: right;\n",
       "    }\n",
       "</style>\n",
       "<table border=\"1\" class=\"dataframe\">\n",
       "  <thead>\n",
       "    <tr style=\"text-align: right;\">\n",
       "      <th></th>\n",
       "      <th>customer_id</th>\n",
       "      <th>max_</th>\n",
       "      <th>min_</th>\n",
       "      <th>days_</th>\n",
       "      <th>buy_</th>\n",
       "      <th>frequency</th>\n",
       "    </tr>\n",
       "  </thead>\n",
       "  <tbody>\n",
       "    <tr>\n",
       "      <th>4011</th>\n",
       "      <td>17850</td>\n",
       "      <td>2016-11-30</td>\n",
       "      <td>2016-11-29</td>\n",
       "      <td>1</td>\n",
       "      <td>34</td>\n",
       "      <td>34.0</td>\n",
       "    </tr>\n",
       "    <tr>\n",
       "      <th>4223</th>\n",
       "      <td>18139</td>\n",
       "      <td>2017-11-20</td>\n",
       "      <td>2017-11-19</td>\n",
       "      <td>1</td>\n",
       "      <td>6</td>\n",
       "      <td>6.0</td>\n",
       "    </tr>\n",
       "    <tr>\n",
       "      <th>1979</th>\n",
       "      <td>15060</td>\n",
       "      <td>2017-11-29</td>\n",
       "      <td>2017-11-28</td>\n",
       "      <td>1</td>\n",
       "      <td>4</td>\n",
       "      <td>4.0</td>\n",
       "    </tr>\n",
       "    <tr>\n",
       "      <th>4121</th>\n",
       "      <td>17991</td>\n",
       "      <td>2017-04-26</td>\n",
       "      <td>2017-04-25</td>\n",
       "      <td>1</td>\n",
       "      <td>2</td>\n",
       "      <td>2.0</td>\n",
       "    </tr>\n",
       "    <tr>\n",
       "      <th>3398</th>\n",
       "      <td>16986</td>\n",
       "      <td>2017-11-08</td>\n",
       "      <td>2017-11-07</td>\n",
       "      <td>1</td>\n",
       "      <td>2</td>\n",
       "      <td>2.0</td>\n",
       "    </tr>\n",
       "  </tbody>\n",
       "</table>\n",
       "</div>"
      ],
      "text/plain": [
       "      customer_id       max_       min_  days_  buy_  frequency\n",
       "4011        17850 2016-11-30 2016-11-29      1    34       34.0\n",
       "4223        18139 2017-11-20 2017-11-19      1     6        6.0\n",
       "1979        15060 2017-11-29 2017-11-28      1     4        4.0\n",
       "4121        17991 2017-04-26 2017-04-25      1     2        2.0\n",
       "3398        16986 2017-11-08 2017-11-07      1     2        2.0"
      ]
     },
     "execution_count": 123,
     "metadata": {},
     "output_type": "execute_result"
    }
   ],
   "source": [
    "df_aux.sort_values('frequency', ascending=False).head()"
   ]
  },
  {
   "cell_type": "markdown",
   "id": "6b550e37",
   "metadata": {
    "ExecuteTime": {
     "end_time": "2023-06-15T15:20:58.154384Z",
     "start_time": "2023-06-15T15:20:58.136540Z"
    }
   },
   "source": [
    "### <font color = 'green'> Number of Returns\n"
   ]
  },
  {
   "cell_type": "code",
   "execution_count": 124,
   "id": "515c4b1f",
   "metadata": {
    "ExecuteTime": {
     "end_time": "2023-06-21T13:00:50.893616Z",
     "start_time": "2023-06-21T13:00:50.866073Z"
    }
   },
   "outputs": [
    {
     "data": {
      "text/plain": [
       "customer_id            0\n",
       "gross_revenue        215\n",
       "recency_days         215\n",
       "invoice_no           215\n",
       "qtde_items           215\n",
       "qtde_produto         215\n",
       "avg_ticket           215\n",
       "avg_recency_days    2984\n",
       "frequency            215\n",
       "qtde_returns        4201\n",
       "dtype: int64"
      ]
     },
     "execution_count": 124,
     "metadata": {},
     "output_type": "execute_result"
    }
   ],
   "source": [
    "df_returns = df2_returns[['customer_id', 'quantity']].groupby('customer_id').sum().reset_index().rename(columns={'quantity':'qtde_returns'})\n",
    "df_returns['qtde_returns'] = df_returns['qtde_returns']* -1\n",
    "\n",
    "df_ref = pd.merge(df_ref, df_returns, how='left', on='customer_id')\n",
    "df_ref.isna().sum()"
   ]
  },
  {
   "cell_type": "markdown",
   "id": "b01aad58",
   "metadata": {
    "heading_collapsed": true
   },
   "source": [
    "### <font color = 'green'> Basket Size"
   ]
  },
  {
   "cell_type": "code",
   "execution_count": 125,
   "id": "c07d502c",
   "metadata": {
    "ExecuteTime": {
     "end_time": "2023-06-21T13:00:51.140522Z",
     "start_time": "2023-06-21T13:00:50.897171Z"
    },
    "hidden": true
   },
   "outputs": [
    {
     "data": {
      "text/plain": [
       "customer_id            0\n",
       "gross_revenue        215\n",
       "recency_days         215\n",
       "invoice_no           215\n",
       "qtde_items           215\n",
       "qtde_produto         215\n",
       "avg_ticket           215\n",
       "avg_recency_days    2984\n",
       "frequency            215\n",
       "qtde_returns        4201\n",
       "avg_basket_size      215\n",
       "dtype: int64"
      ]
     },
     "execution_count": 125,
     "metadata": {},
     "output_type": "execute_result"
    }
   ],
   "source": [
    "df_aux = (df2_purchases.loc[:, ['customer_id', 'invoice_no', 'quantity']].groupby('customer_id')\n",
    "                                                                         .agg(n_purchases = ('invoice_no', 'nunique'),\n",
    "                                                                              n_products = ('quantity', 'sum'))\n",
    "                                                                         .reset_index())\n",
    "\n",
    "df_aux['avg_basket_size'] = df_aux['n_products'] / df_aux['n_purchases']\n",
    "\n",
    "\n",
    "df_ref = pd.merge(df_ref, df_aux[['customer_id', 'avg_basket_size']], how='left', on='customer_id' )\n",
    "df_ref.isna().sum()"
   ]
  },
  {
   "cell_type": "markdown",
   "id": "cee64ef6",
   "metadata": {
    "ExecuteTime": {
     "end_time": "2023-06-15T15:23:29.585932Z",
     "start_time": "2023-06-15T15:23:29.575300Z"
    }
   },
   "source": [
    "### <font color = 'green'> Variaty of product\n"
   ]
  },
  {
   "cell_type": "code",
   "execution_count": 126,
   "id": "a2217da8",
   "metadata": {
    "ExecuteTime": {
     "end_time": "2023-06-21T13:00:51.389064Z",
     "start_time": "2023-06-21T13:00:51.142943Z"
    }
   },
   "outputs": [
    {
     "data": {
      "text/plain": [
       "customer_id                  0\n",
       "gross_revenue              215\n",
       "recency_days               215\n",
       "invoice_no                 215\n",
       "qtde_items                 215\n",
       "qtde_produto               215\n",
       "avg_ticket                 215\n",
       "avg_recency_days          2984\n",
       "frequency                  215\n",
       "qtde_returns              4201\n",
       "avg_basket_size            215\n",
       "avg_unique_basket_size     215\n",
       "dtype: int64"
      ]
     },
     "execution_count": 126,
     "metadata": {},
     "output_type": "execute_result"
    }
   ],
   "source": [
    "df_aux = (df2_purchases.loc[:, ['customer_id', 'invoice_no', 'stock_code']].groupby('customer_id')\n",
    "                                                                         .agg(n_purchases = ('invoice_no', 'nunique'),\n",
    "                                                                              n_products = ('stock_code', 'count'))\n",
    "                                                                         .reset_index())\n",
    "\n",
    "df_aux['avg_unique_basket_size'] = df_aux['n_products'] / df_aux['n_purchases']\n",
    "\n",
    "\n",
    "df_ref = pd.merge(df_ref, df_aux[['customer_id', 'avg_unique_basket_size']], how='left', on='customer_id' )\n",
    "df_ref.isna().sum()"
   ]
  },
  {
   "cell_type": "code",
   "execution_count": 127,
   "id": "ac4b5623",
   "metadata": {
    "ExecuteTime": {
     "end_time": "2023-06-21T13:00:51.420044Z",
     "start_time": "2023-06-21T13:00:51.392181Z"
    }
   },
   "outputs": [
    {
     "data": {
      "text/html": [
       "<div>\n",
       "<style scoped>\n",
       "    .dataframe tbody tr th:only-of-type {\n",
       "        vertical-align: middle;\n",
       "    }\n",
       "\n",
       "    .dataframe tbody tr th {\n",
       "        vertical-align: top;\n",
       "    }\n",
       "\n",
       "    .dataframe thead th {\n",
       "        text-align: right;\n",
       "    }\n",
       "</style>\n",
       "<table border=\"1\" class=\"dataframe\">\n",
       "  <thead>\n",
       "    <tr style=\"text-align: right;\">\n",
       "      <th></th>\n",
       "      <th>customer_id</th>\n",
       "      <th>gross_revenue</th>\n",
       "      <th>recency_days</th>\n",
       "      <th>invoice_no</th>\n",
       "      <th>qtde_items</th>\n",
       "      <th>qtde_produto</th>\n",
       "      <th>avg_ticket</th>\n",
       "      <th>avg_recency_days</th>\n",
       "      <th>frequency</th>\n",
       "      <th>qtde_returns</th>\n",
       "      <th>avg_basket_size</th>\n",
       "      <th>avg_unique_basket_size</th>\n",
       "    </tr>\n",
       "  </thead>\n",
       "  <tbody>\n",
       "    <tr>\n",
       "      <th>0</th>\n",
       "      <td>17850</td>\n",
       "      <td>5391.21</td>\n",
       "      <td>372.0</td>\n",
       "      <td>34.0</td>\n",
       "      <td>1733.0</td>\n",
       "      <td>21.0</td>\n",
       "      <td>18.152222</td>\n",
       "      <td>35.500000</td>\n",
       "      <td>34.000000</td>\n",
       "      <td>40.0</td>\n",
       "      <td>50.970588</td>\n",
       "      <td>8.735294</td>\n",
       "    </tr>\n",
       "    <tr>\n",
       "      <th>1</th>\n",
       "      <td>13047</td>\n",
       "      <td>3237.54</td>\n",
       "      <td>31.0</td>\n",
       "      <td>10.0</td>\n",
       "      <td>1391.0</td>\n",
       "      <td>106.0</td>\n",
       "      <td>18.822907</td>\n",
       "      <td>26.307692</td>\n",
       "      <td>0.029240</td>\n",
       "      <td>36.0</td>\n",
       "      <td>139.100000</td>\n",
       "      <td>17.200000</td>\n",
       "    </tr>\n",
       "    <tr>\n",
       "      <th>2</th>\n",
       "      <td>12583</td>\n",
       "      <td>7281.38</td>\n",
       "      <td>2.0</td>\n",
       "      <td>15.0</td>\n",
       "      <td>5060.0</td>\n",
       "      <td>115.0</td>\n",
       "      <td>29.479271</td>\n",
       "      <td>21.823529</td>\n",
       "      <td>0.040431</td>\n",
       "      <td>51.0</td>\n",
       "      <td>337.333333</td>\n",
       "      <td>16.466667</td>\n",
       "    </tr>\n",
       "    <tr>\n",
       "      <th>3</th>\n",
       "      <td>13748</td>\n",
       "      <td>948.25</td>\n",
       "      <td>95.0</td>\n",
       "      <td>5.0</td>\n",
       "      <td>439.0</td>\n",
       "      <td>24.0</td>\n",
       "      <td>33.866071</td>\n",
       "      <td>92.666667</td>\n",
       "      <td>0.017986</td>\n",
       "      <td>NaN</td>\n",
       "      <td>87.800000</td>\n",
       "      <td>5.600000</td>\n",
       "    </tr>\n",
       "    <tr>\n",
       "      <th>4</th>\n",
       "      <td>15100</td>\n",
       "      <td>876.00</td>\n",
       "      <td>333.0</td>\n",
       "      <td>3.0</td>\n",
       "      <td>80.0</td>\n",
       "      <td>1.0</td>\n",
       "      <td>292.000000</td>\n",
       "      <td>8.600000</td>\n",
       "      <td>0.075000</td>\n",
       "      <td>22.0</td>\n",
       "      <td>26.666667</td>\n",
       "      <td>1.000000</td>\n",
       "    </tr>\n",
       "  </tbody>\n",
       "</table>\n",
       "</div>"
      ],
      "text/plain": [
       "   customer_id  gross_revenue  recency_days  invoice_no  qtde_items  \\\n",
       "0        17850        5391.21         372.0        34.0      1733.0   \n",
       "1        13047        3237.54          31.0        10.0      1391.0   \n",
       "2        12583        7281.38           2.0        15.0      5060.0   \n",
       "3        13748         948.25          95.0         5.0       439.0   \n",
       "4        15100         876.00         333.0         3.0        80.0   \n",
       "\n",
       "   qtde_produto  avg_ticket  avg_recency_days  frequency  qtde_returns  \\\n",
       "0          21.0   18.152222         35.500000  34.000000          40.0   \n",
       "1         106.0   18.822907         26.307692   0.029240          36.0   \n",
       "2         115.0   29.479271         21.823529   0.040431          51.0   \n",
       "3          24.0   33.866071         92.666667   0.017986           NaN   \n",
       "4           1.0  292.000000          8.600000   0.075000          22.0   \n",
       "\n",
       "   avg_basket_size  avg_unique_basket_size  \n",
       "0        50.970588                8.735294  \n",
       "1       139.100000               17.200000  \n",
       "2       337.333333               16.466667  \n",
       "3        87.800000                5.600000  \n",
       "4        26.666667                1.000000  "
      ]
     },
     "execution_count": 127,
     "metadata": {},
     "output_type": "execute_result"
    }
   ],
   "source": [
    "df_ref.head()"
   ]
  },
  {
   "cell_type": "code",
   "execution_count": 128,
   "id": "b20b59e3",
   "metadata": {
    "ExecuteTime": {
     "end_time": "2023-06-21T13:00:51.436184Z",
     "start_time": "2023-06-21T13:00:51.423683Z"
    }
   },
   "outputs": [],
   "source": [
    "df3 = df_ref.dropna().copy()"
   ]
  },
  {
   "cell_type": "markdown",
   "id": "1ef972df",
   "metadata": {},
   "source": [
    "# <font color='red'> 5.0. EDA </font>"
   ]
  },
  {
   "cell_type": "markdown",
   "id": "247b978e",
   "metadata": {},
   "source": [
    "## 4.1. Univariate Analysis"
   ]
  },
  {
   "cell_type": "markdown",
   "id": "cfd4ba09",
   "metadata": {},
   "source": [
    "**Notes**\n",
    "    \n",
    "    1. Clusters Coesos - Separados\n",
    "    2. Métricas\n",
    "        - Min, Máximo, Range(Dispersão)\n",
    "        - Média e Mediana\n",
    "        - Desvio Padrão\n",
    "        - Coeficiente de Variação (CV)\n",
    "        - Distribuição"
   ]
  },
  {
   "cell_type": "code",
   "execution_count": null,
   "id": "a07455e9",
   "metadata": {},
   "outputs": [],
   "source": [
    "\n",
    "\n",
    "    -"
   ]
  },
  {
   "cell_type": "code",
   "execution_count": 59,
   "id": "0dd5eb03",
   "metadata": {
    "ExecuteTime": {
     "end_time": "2023-06-20T15:13:20.744567Z",
     "start_time": "2023-06-20T15:12:29.635913Z"
    }
   },
   "outputs": [
    {
     "data": {
      "application/vnd.jupyter.widget-view+json": {
       "model_id": "e145dc4915fa45db9ed7892ae48852fa",
       "version_major": 2,
       "version_minor": 0
      },
      "text/plain": [
       "Summarize dataset:   0%|          | 0/5 [00:00<?, ?it/s]"
      ]
     },
     "metadata": {},
     "output_type": "display_data"
    },
    {
     "data": {
      "application/vnd.jupyter.widget-view+json": {
       "model_id": "350a5b4961ad4565af71cca2bdb75080",
       "version_major": 2,
       "version_minor": 0
      },
      "text/plain": [
       "Generate report structure:   0%|          | 0/1 [00:00<?, ?it/s]"
      ]
     },
     "metadata": {},
     "output_type": "display_data"
    },
    {
     "data": {
      "application/vnd.jupyter.widget-view+json": {
       "model_id": "6a26030b1e4f42ef9296c0ded39116d1",
       "version_major": 2,
       "version_minor": 0
      },
      "text/plain": [
       "Render HTML:   0%|          | 0/1 [00:00<?, ?it/s]"
      ]
     },
     "metadata": {},
     "output_type": "display_data"
    },
    {
     "data": {
      "application/vnd.jupyter.widget-view+json": {
       "model_id": "990e4cca7ea744b792e15ff92fa03cb0",
       "version_major": 2,
       "version_minor": 0
      },
      "text/plain": [
       "Export report to file:   0%|          | 0/1 [00:00<?, ?it/s]"
      ]
     },
     "metadata": {},
     "output_type": "display_data"
    }
   ],
   "source": [
    "profile = ProfileReport(df3)\n",
    "profile.to_file('output.html')"
   ]
  },
  {
   "cell_type": "markdown",
   "id": "0207d6e4",
   "metadata": {},
   "source": [
    "### 4.1.1. Gross Revenue"
   ]
  },
  {
   "cell_type": "code",
   "execution_count": 138,
   "id": "a62f2aa1",
   "metadata": {
    "ExecuteTime": {
     "end_time": "2023-06-21T14:15:31.907815Z",
     "start_time": "2023-06-21T14:15:31.856879Z"
    }
   },
   "outputs": [
    {
     "data": {
      "text/html": [
       "<div>\n",
       "<style scoped>\n",
       "    .dataframe tbody tr th:only-of-type {\n",
       "        vertical-align: middle;\n",
       "    }\n",
       "\n",
       "    .dataframe tbody tr th {\n",
       "        vertical-align: top;\n",
       "    }\n",
       "\n",
       "    .dataframe thead th {\n",
       "        text-align: right;\n",
       "    }\n",
       "</style>\n",
       "<table border=\"1\" class=\"dataframe\">\n",
       "  <thead>\n",
       "    <tr style=\"text-align: right;\">\n",
       "      <th></th>\n",
       "      <th>gross_revenue</th>\n",
       "    </tr>\n",
       "  </thead>\n",
       "  <tbody>\n",
       "    <tr>\n",
       "      <th>count</th>\n",
       "      <td>1532.000000</td>\n",
       "    </tr>\n",
       "    <tr>\n",
       "      <th>mean</th>\n",
       "      <td>4236.138531</td>\n",
       "    </tr>\n",
       "    <tr>\n",
       "      <th>std</th>\n",
       "      <td>14620.496389</td>\n",
       "    </tr>\n",
       "    <tr>\n",
       "      <th>min</th>\n",
       "      <td>6.200000</td>\n",
       "    </tr>\n",
       "    <tr>\n",
       "      <th>25%</th>\n",
       "      <td>731.310000</td>\n",
       "    </tr>\n",
       "    <tr>\n",
       "      <th>50%</th>\n",
       "      <td>1604.370000</td>\n",
       "    </tr>\n",
       "    <tr>\n",
       "      <th>75%</th>\n",
       "      <td>3502.752500</td>\n",
       "    </tr>\n",
       "    <tr>\n",
       "      <th>max</th>\n",
       "      <td>280206.020000</td>\n",
       "    </tr>\n",
       "  </tbody>\n",
       "</table>\n",
       "</div>"
      ],
      "text/plain": [
       "       gross_revenue\n",
       "count    1532.000000\n",
       "mean     4236.138531\n",
       "std     14620.496389\n",
       "min         6.200000\n",
       "25%       731.310000\n",
       "50%      1604.370000\n",
       "75%      3502.752500\n",
       "max    280206.020000"
      ]
     },
     "execution_count": 138,
     "metadata": {},
     "output_type": "execute_result"
    }
   ],
   "source": [
    "df3[['gross_revenue']].describe()"
   ]
  },
  {
   "cell_type": "code",
   "execution_count": 135,
   "id": "0be75692",
   "metadata": {
    "ExecuteTime": {
     "end_time": "2023-06-21T13:49:25.253153Z",
     "start_time": "2023-06-21T13:49:24.759233Z"
    }
   },
   "outputs": [
    {
     "data": {
      "text/plain": [
       "<AxesSubplot:xlabel='gross_revenue', ylabel='Count'>"
      ]
     },
     "execution_count": 135,
     "metadata": {},
     "output_type": "execute_result"
    },
    {
     "data": {
      "image/png": "[encoded data removed]",
      "text/plain": [
       "<Figure size 576x396 with 1 Axes>"
      ]
     },
     "metadata": {},
     "output_type": "display_data"
    }
   ],
   "source": [
    "sns.histplot(df3['gross_revenue'],bins=50)"
   ]
  },
  {
   "cell_type": "code",
   "execution_count": 62,
   "id": "0bc8194a",
   "metadata": {
    "ExecuteTime": {
     "end_time": "2023-06-20T15:22:19.965190Z",
     "start_time": "2023-06-20T15:22:19.828787Z"
    }
   },
   "outputs": [
    {
     "data": {
      "text/html": [
       "<div>\n",
       "<style scoped>\n",
       "    .dataframe tbody tr th:only-of-type {\n",
       "        vertical-align: middle;\n",
       "    }\n",
       "\n",
       "    .dataframe tbody tr th {\n",
       "        vertical-align: top;\n",
       "    }\n",
       "\n",
       "    .dataframe thead th {\n",
       "        text-align: right;\n",
       "    }\n",
       "</style>\n",
       "<table border=\"1\" class=\"dataframe\">\n",
       "  <thead>\n",
       "    <tr style=\"text-align: right;\">\n",
       "      <th></th>\n",
       "      <th>invoice_no</th>\n",
       "      <th>stock_code</th>\n",
       "      <th>quantity</th>\n",
       "      <th>invoice_date</th>\n",
       "      <th>unit_price</th>\n",
       "      <th>country</th>\n",
       "      <th>customer_id</th>\n",
       "    </tr>\n",
       "  </thead>\n",
       "  <tbody>\n",
       "    <tr>\n",
       "      <th>37952</th>\n",
       "      <td>539491</td>\n",
       "      <td>21981</td>\n",
       "      <td>12</td>\n",
       "      <td>2016-12-18</td>\n",
       "      <td>0.29</td>\n",
       "      <td>Netherlands</td>\n",
       "      <td>14646</td>\n",
       "    </tr>\n",
       "    <tr>\n",
       "      <th>37953</th>\n",
       "      <td>539491</td>\n",
       "      <td>21986</td>\n",
       "      <td>12</td>\n",
       "      <td>2016-12-18</td>\n",
       "      <td>0.29</td>\n",
       "      <td>Netherlands</td>\n",
       "      <td>14646</td>\n",
       "    </tr>\n",
       "    <tr>\n",
       "      <th>37954</th>\n",
       "      <td>539491</td>\n",
       "      <td>22720</td>\n",
       "      <td>2</td>\n",
       "      <td>2016-12-18</td>\n",
       "      <td>4.95</td>\n",
       "      <td>Netherlands</td>\n",
       "      <td>14646</td>\n",
       "    </tr>\n",
       "    <tr>\n",
       "      <th>37955</th>\n",
       "      <td>539491</td>\n",
       "      <td>21931</td>\n",
       "      <td>1</td>\n",
       "      <td>2016-12-18</td>\n",
       "      <td>1.95</td>\n",
       "      <td>Netherlands</td>\n",
       "      <td>14646</td>\n",
       "    </tr>\n",
       "    <tr>\n",
       "      <th>37956</th>\n",
       "      <td>539491</td>\n",
       "      <td>22613</td>\n",
       "      <td>2</td>\n",
       "      <td>2016-12-18</td>\n",
       "      <td>0.85</td>\n",
       "      <td>Netherlands</td>\n",
       "      <td>14646</td>\n",
       "    </tr>\n",
       "  </tbody>\n",
       "</table>\n",
       "</div>"
      ],
      "text/plain": [
       "      invoice_no stock_code  quantity invoice_date  unit_price      country  \\\n",
       "37952     539491      21981        12   2016-12-18        0.29  Netherlands   \n",
       "37953     539491      21986        12   2016-12-18        0.29  Netherlands   \n",
       "37954     539491      22720         2   2016-12-18        4.95  Netherlands   \n",
       "37955     539491      21931         1   2016-12-18        1.95  Netherlands   \n",
       "37956     539491      22613         2   2016-12-18        0.85  Netherlands   \n",
       "\n",
       "       customer_id  \n",
       "37952        14646  \n",
       "37953        14646  \n",
       "37954        14646  \n",
       "37955        14646  \n",
       "37956        14646  "
      ]
     },
     "execution_count": 62,
     "metadata": {},
     "output_type": "execute_result"
    }
   ],
   "source": [
    "df2[df2['customer_id'] == 14646].head()"
   ]
  },
  {
   "cell_type": "markdown",
   "id": "ed55ed97",
   "metadata": {},
   "source": [
    "### 4.1.2. Recency Days "
   ]
  },
  {
   "cell_type": "code",
   "execution_count": 141,
   "id": "edd9c0ac",
   "metadata": {
    "ExecuteTime": {
     "end_time": "2023-06-21T14:32:14.430047Z",
     "start_time": "2023-06-21T14:32:14.405308Z"
    }
   },
   "outputs": [
    {
     "data": {
      "text/html": [
       "<div>\n",
       "<style scoped>\n",
       "    .dataframe tbody tr th:only-of-type {\n",
       "        vertical-align: middle;\n",
       "    }\n",
       "\n",
       "    .dataframe tbody tr th {\n",
       "        vertical-align: top;\n",
       "    }\n",
       "\n",
       "    .dataframe thead th {\n",
       "        text-align: right;\n",
       "    }\n",
       "</style>\n",
       "<table border=\"1\" class=\"dataframe\">\n",
       "  <thead>\n",
       "    <tr style=\"text-align: right;\">\n",
       "      <th></th>\n",
       "      <th>recency_days</th>\n",
       "    </tr>\n",
       "  </thead>\n",
       "  <tbody>\n",
       "    <tr>\n",
       "      <th>count</th>\n",
       "      <td>1532.000000</td>\n",
       "    </tr>\n",
       "    <tr>\n",
       "      <th>mean</th>\n",
       "      <td>63.994125</td>\n",
       "    </tr>\n",
       "    <tr>\n",
       "      <th>std</th>\n",
       "      <td>83.871480</td>\n",
       "    </tr>\n",
       "    <tr>\n",
       "      <th>min</th>\n",
       "      <td>0.000000</td>\n",
       "    </tr>\n",
       "    <tr>\n",
       "      <th>25%</th>\n",
       "      <td>10.000000</td>\n",
       "    </tr>\n",
       "    <tr>\n",
       "      <th>50%</th>\n",
       "      <td>28.000000</td>\n",
       "    </tr>\n",
       "    <tr>\n",
       "      <th>75%</th>\n",
       "      <td>77.000000</td>\n",
       "    </tr>\n",
       "    <tr>\n",
       "      <th>max</th>\n",
       "      <td>373.000000</td>\n",
       "    </tr>\n",
       "  </tbody>\n",
       "</table>\n",
       "</div>"
      ],
      "text/plain": [
       "       recency_days\n",
       "count   1532.000000\n",
       "mean      63.994125\n",
       "std       83.871480\n",
       "min        0.000000\n",
       "25%       10.000000\n",
       "50%       28.000000\n",
       "75%       77.000000\n",
       "max      373.000000"
      ]
     },
     "execution_count": 141,
     "metadata": {},
     "output_type": "execute_result"
    }
   ],
   "source": [
    "df3[['recency_days']].describe()"
   ]
  },
  {
   "cell_type": "code",
   "execution_count": 140,
   "id": "9cad8fd4",
   "metadata": {
    "ExecuteTime": {
     "end_time": "2023-06-21T14:30:53.408346Z",
     "start_time": "2023-06-21T14:30:53.099849Z"
    }
   },
   "outputs": [
    {
     "data": {
      "text/plain": [
       "<AxesSubplot:xlabel='recency_days', ylabel='Count'>"
      ]
     },
     "execution_count": 140,
     "metadata": {},
     "output_type": "execute_result"
    },
    {
     "data": {
      "image/png": "[encoded data removed]",
      "text/plain": [
       "<Figure size 576x396 with 1 Axes>"
      ]
     },
     "metadata": {},
     "output_type": "display_data"
    }
   ],
   "source": [
    "sns.histplot(df3['recency_days'],bins=30)"
   ]
  },
  {
   "cell_type": "markdown",
   "id": "88015483",
   "metadata": {},
   "source": [
    "### 4.1.3. AVG Ticket \n"
   ]
  },
  {
   "cell_type": "code",
   "execution_count": 143,
   "id": "c8656c17",
   "metadata": {
    "ExecuteTime": {
     "end_time": "2023-06-21T14:33:55.951962Z",
     "start_time": "2023-06-21T14:33:55.920166Z"
    }
   },
   "outputs": [
    {
     "data": {
      "text/html": [
       "<div>\n",
       "<style scoped>\n",
       "    .dataframe tbody tr th:only-of-type {\n",
       "        vertical-align: middle;\n",
       "    }\n",
       "\n",
       "    .dataframe tbody tr th {\n",
       "        vertical-align: top;\n",
       "    }\n",
       "\n",
       "    .dataframe thead th {\n",
       "        text-align: right;\n",
       "    }\n",
       "</style>\n",
       "<table border=\"1\" class=\"dataframe\">\n",
       "  <thead>\n",
       "    <tr style=\"text-align: right;\">\n",
       "      <th></th>\n",
       "      <th>avg_ticket</th>\n",
       "    </tr>\n",
       "  </thead>\n",
       "  <tbody>\n",
       "    <tr>\n",
       "      <th>count</th>\n",
       "      <td>1532.000000</td>\n",
       "    </tr>\n",
       "    <tr>\n",
       "      <th>mean</th>\n",
       "      <td>73.050080</td>\n",
       "    </tr>\n",
       "    <tr>\n",
       "      <th>std</th>\n",
       "      <td>1440.512587</td>\n",
       "    </tr>\n",
       "    <tr>\n",
       "      <th>min</th>\n",
       "      <td>3.100000</td>\n",
       "    </tr>\n",
       "    <tr>\n",
       "      <th>25%</th>\n",
       "      <td>15.507449</td>\n",
       "    </tr>\n",
       "    <tr>\n",
       "      <th>50%</th>\n",
       "      <td>19.133254</td>\n",
       "    </tr>\n",
       "    <tr>\n",
       "      <th>75%</th>\n",
       "      <td>26.727426</td>\n",
       "    </tr>\n",
       "    <tr>\n",
       "      <th>max</th>\n",
       "      <td>56157.500000</td>\n",
       "    </tr>\n",
       "  </tbody>\n",
       "</table>\n",
       "</div>"
      ],
      "text/plain": [
       "         avg_ticket\n",
       "count   1532.000000\n",
       "mean      73.050080\n",
       "std     1440.512587\n",
       "min        3.100000\n",
       "25%       15.507449\n",
       "50%       19.133254\n",
       "75%       26.727426\n",
       "max    56157.500000"
      ]
     },
     "execution_count": 143,
     "metadata": {},
     "output_type": "execute_result"
    }
   ],
   "source": [
    "df3[['avg_ticket']].describe()"
   ]
  },
  {
   "cell_type": "code",
   "execution_count": null,
   "id": "58c50dd1",
   "metadata": {},
   "outputs": [],
   "source": [
    "asdad"
   ]
  },
  {
   "cell_type": "code",
   "execution_count": null,
   "id": "6a1f1495",
   "metadata": {},
   "outputs": [],
   "source": []
  },
  {
   "cell_type": "markdown",
   "id": "0c12176e",
   "metadata": {},
   "source": [
    "## 4.2. Bivariate Analysis"
   ]
  },
  {
   "cell_type": "code",
   "execution_count": null,
   "id": "af9c8c8b",
   "metadata": {},
   "outputs": [],
   "source": []
  },
  {
   "cell_type": "code",
   "execution_count": null,
   "id": "8d6fb193",
   "metadata": {
    "ExecuteTime": {
     "end_time": "2023-06-15T12:30:02.119070Z",
     "start_time": "2023-06-15T12:30:02.107913Z"
    }
   },
   "outputs": [],
   "source": [
    "df4 = df3.copy()"
   ]
  },
  {
   "cell_type": "markdown",
   "id": "b93a8cab",
   "metadata": {},
   "source": [
    "# <font color='red'> 6.0. Data Preparation </font>"
   ]
  },
  {
   "cell_type": "markdown",
   "id": "5d8de835",
   "metadata": {},
   "source": [
    "##### Standard Scaler"
   ]
  },
  {
   "cell_type": "code",
   "execution_count": null,
   "id": "9ec243bc",
   "metadata": {
    "ExecuteTime": {
     "end_time": "2023-06-15T12:56:35.637161Z",
     "start_time": "2023-06-15T12:56:35.602681Z"
    }
   },
   "outputs": [],
   "source": [
    "ss = pp.StandardScaler()\n",
    "\n",
    "df4['gross_revenue'] = ss.fit_transform(df4[['gross_revenue']])\n",
    "df4['recency_days'] = ss.fit_transform(df4[['recency_days']])\n",
    "df4['invoice_no'] = ss.fit_transform(df4[['invoice_no']])\n",
    "df4['avg_ticket'] = ss.fit_transform(df4[['avg_ticket']])\n"
   ]
  },
  {
   "cell_type": "markdown",
   "id": "780de225",
   "metadata": {},
   "source": [
    "##### Distribuição com os dados escalonados"
   ]
  },
  {
   "cell_type": "code",
   "execution_count": null,
   "id": "c84366e0",
   "metadata": {
    "ExecuteTime": {
     "end_time": "2023-06-15T12:56:38.895345Z",
     "start_time": "2023-06-15T12:56:38.431906Z"
    }
   },
   "outputs": [],
   "source": [
    "sns.distplot(df4['gross_revenue'])"
   ]
  },
  {
   "cell_type": "markdown",
   "id": "cbf18ce3",
   "metadata": {
    "ExecuteTime": {
     "end_time": "2023-06-15T12:57:37.537152Z",
     "start_time": "2023-06-15T12:57:37.528477Z"
    }
   },
   "source": [
    "##### Distribuição com os logs dos dados escalonados"
   ]
  },
  {
   "cell_type": "code",
   "execution_count": null,
   "id": "376b1c09",
   "metadata": {
    "ExecuteTime": {
     "end_time": "2023-06-15T12:58:22.091399Z",
     "start_time": "2023-06-15T12:58:21.703606Z"
    }
   },
   "outputs": [],
   "source": [
    "sns.distplot(np.log(df4['gross_revenue']))"
   ]
  },
  {
   "cell_type": "code",
   "execution_count": null,
   "id": "922d7351",
   "metadata": {
    "ExecuteTime": {
     "end_time": "2023-06-15T12:58:22.106718Z",
     "start_time": "2023-06-15T12:58:22.095585Z"
    }
   },
   "outputs": [],
   "source": [
    "df5 = df4.copy()"
   ]
  },
  {
   "cell_type": "markdown",
   "id": "d36b9fb5",
   "metadata": {},
   "source": [
    "# <font color='red'> 7.0. Feature Selection </font>"
   ]
  },
  {
   "cell_type": "code",
   "execution_count": null,
   "id": "d15a92dc",
   "metadata": {
    "ExecuteTime": {
     "end_time": "2023-06-15T12:58:22.122002Z",
     "start_time": "2023-06-15T12:58:22.108859Z"
    }
   },
   "outputs": [],
   "source": [
    "df6 = df5.copy()"
   ]
  },
  {
   "cell_type": "markdown",
   "id": "7a104c71",
   "metadata": {},
   "source": [
    "# <font color='red'> 8.0. Hyperparameter Fine-Tunning </font>"
   ]
  },
  {
   "cell_type": "code",
   "execution_count": null,
   "id": "aa75cc2a",
   "metadata": {
    "ExecuteTime": {
     "end_time": "2023-06-15T12:58:22.137419Z",
     "start_time": "2023-06-15T12:58:22.125989Z"
    }
   },
   "outputs": [],
   "source": [
    "X = df6.drop(columns = ['customer_id'])"
   ]
  },
  {
   "cell_type": "code",
   "execution_count": null,
   "id": "8bff2ebb",
   "metadata": {
    "ExecuteTime": {
     "end_time": "2023-06-15T12:58:22.152526Z",
     "start_time": "2023-06-15T12:58:22.139918Z"
    }
   },
   "outputs": [],
   "source": [
    "clusters = [2, 3, 4, 5, 6, 7]"
   ]
  },
  {
   "cell_type": "markdown",
   "id": "4860be9d",
   "metadata": {},
   "source": [
    "## 8.1. Within-Cluster Sum of Square (WSS)"
   ]
  },
  {
   "cell_type": "code",
   "execution_count": null,
   "id": "1b52fad2",
   "metadata": {
    "ExecuteTime": {
     "end_time": "2023-06-15T12:58:24.097757Z",
     "start_time": "2023-06-15T12:58:22.156026Z"
    }
   },
   "outputs": [],
   "source": [
    "wss = []\n",
    "for k in clusters:\n",
    "    #model definition\n",
    "    kmeans = c.KMeans( init='random', n_clusters=k, n_init=10, max_iter=300, random_state=42)\n",
    "    \n",
    "    #model training\n",
    "    kmeans.fit(X)\n",
    "    \n",
    "    #validation\n",
    "    wss.append(kmeans.inertia_)\n",
    "    \n",
    "#plot wss\n",
    "plt.plot(clusters, wss, linestyle='--', marker='o', color='b')\n",
    "plt.xlabel('k')\n",
    "plt.ylabel('Within-Cluster Sum of Square')\n",
    "plt.title('WSS vs K')"
   ]
  },
  {
   "cell_type": "code",
   "execution_count": null,
   "id": "703fded0",
   "metadata": {
    "ExecuteTime": {
     "end_time": "2023-06-15T12:58:25.405165Z",
     "start_time": "2023-06-15T12:58:24.103092Z"
    }
   },
   "outputs": [],
   "source": [
    "kmeans = KElbowVisualizer(c.KMeans(), k=clusters, timings=False)\n",
    "kmeans.fit(X)\n",
    "kmeans.show();"
   ]
  },
  {
   "cell_type": "markdown",
   "id": "40f93ed1-18a5-4b48-bee0-5a83d396e1de",
   "metadata": {},
   "source": [
    "## 8.2. Silhouette Analysis"
   ]
  },
  {
   "cell_type": "code",
   "execution_count": null,
   "id": "235fb9ba-dfc0-460c-9fff-ba39cd2378cb",
   "metadata": {
    "ExecuteTime": {
     "end_time": "2023-06-15T12:58:38.613207Z",
     "start_time": "2023-06-15T12:58:25.409520Z"
    }
   },
   "outputs": [],
   "source": [
    "fig, ax = plt.subplots(3,2, figsize=(25, 18))\n",
    "for k in clusters:\n",
    "    km = c.KMeans(n_clusters=k, init='random', n_init=10, max_iter=100, random_state=42)\n",
    "    q, mod = divmod(k, 2)\n",
    "    \n",
    "    visualizer = SilhouetteVisualizer(km, color= 'yellowbrick', ax=ax[q-1][mod])\n",
    "    visualizer.fit(X)\n",
    "    visualizer.finalize()"
   ]
  },
  {
   "cell_type": "markdown",
   "id": "9a42521a",
   "metadata": {},
   "source": [
    "# <font color='red'> 9.0. Model Training </font>"
   ]
  },
  {
   "cell_type": "markdown",
   "id": "6e1d9232",
   "metadata": {},
   "source": [
    "## 9.1. K-Means"
   ]
  },
  {
   "cell_type": "code",
   "execution_count": null,
   "id": "1c71b2ac",
   "metadata": {
    "ExecuteTime": {
     "end_time": "2023-06-15T12:58:39.043771Z",
     "start_time": "2023-06-15T12:58:38.617194Z"
    }
   },
   "outputs": [],
   "source": [
    "# Model Definition\n",
    "k = 4\n",
    "kmeans = c.KMeans(init='random',n_clusters=k, n_init=10, max_iter=300, random_state=42)\n",
    "\n",
    "#model training\n",
    "kmeans.fit(X)\n",
    "\n",
    "#clustering\n",
    "labels = kmeans.labels_"
   ]
  },
  {
   "cell_type": "markdown",
   "id": "565e60ab",
   "metadata": {},
   "source": [
    "## 9.2. Cluster Validation"
   ]
  },
  {
   "cell_type": "code",
   "execution_count": null,
   "id": "ae6d9488",
   "metadata": {
    "ExecuteTime": {
     "end_time": "2023-06-15T12:58:39.804416Z",
     "start_time": "2023-06-15T12:58:39.054220Z"
    }
   },
   "outputs": [],
   "source": [
    "# WSS\n",
    "print(f'WSS values: {kmeans.inertia_}')\n",
    "print(f\"SS value: {m.silhouette_score(X, labels, metric='euclidean')}\")"
   ]
  },
  {
   "cell_type": "markdown",
   "id": "c0d890be",
   "metadata": {
    "ExecuteTime": {
     "end_time": "2023-06-07T14:18:18.774399Z",
     "start_time": "2023-06-07T14:18:18.774399Z"
    }
   },
   "source": [
    "# <font color='red'> 10.0. Cluster Analysis </font>"
   ]
  },
  {
   "cell_type": "code",
   "execution_count": null,
   "id": "69dad1aa",
   "metadata": {
    "ExecuteTime": {
     "end_time": "2023-06-15T12:58:39.850717Z",
     "start_time": "2023-06-15T12:58:39.815440Z"
    }
   },
   "outputs": [],
   "source": [
    "df10 = df6.copy()\n",
    "df10['cluster'] = labels\n",
    "df10.head()"
   ]
  },
  {
   "cell_type": "markdown",
   "id": "76b78415",
   "metadata": {},
   "source": [
    "## 10.1. Visualization Inspection"
   ]
  },
  {
   "cell_type": "code",
   "execution_count": null,
   "id": "b8d98b66",
   "metadata": {
    "ExecuteTime": {
     "end_time": "2023-06-15T12:58:39.865942Z",
     "start_time": "2023-06-15T12:58:39.857921Z"
    }
   },
   "outputs": [],
   "source": [
    "#fig = px.scatter_3d(df10, x= 'recency_days', y='invoice_no', z='gross_revenue', color='cluster')\n",
    "#fig.show()"
   ]
  },
  {
   "cell_type": "markdown",
   "id": "abe4618a-b750-476c-93cc-ebd40b84d676",
   "metadata": {},
   "source": [
    "## 10.1. Visualization Inspection"
   ]
  },
  {
   "cell_type": "code",
   "execution_count": null,
   "id": "8126fbed-5a94-4aa1-856a-a1fbd32a139a",
   "metadata": {
    "ExecuteTime": {
     "end_time": "2023-06-15T12:58:41.534953Z",
     "start_time": "2023-06-15T12:58:39.872222Z"
    }
   },
   "outputs": [],
   "source": [
    "visualizer = SilhouetteVisualizer(kmeans, colors='yellowbrick')\n",
    "visualizer.fit(X)\n",
    "visualizer.finalize()"
   ]
  },
  {
   "cell_type": "markdown",
   "id": "872d3ab7-ee86-4b1a-a2e9-314376be7803",
   "metadata": {},
   "source": [
    "## 10.2. 2d plot"
   ]
  },
  {
   "cell_type": "code",
   "execution_count": null,
   "id": "b527f2e4-06be-46a0-adc1-993daa6d6c4e",
   "metadata": {
    "ExecuteTime": {
     "end_time": "2023-06-15T12:58:52.705060Z",
     "start_time": "2023-06-15T12:58:41.538902Z"
    }
   },
   "outputs": [],
   "source": [
    "df_viz = df10.drop (columns='customer_id')\n",
    "sns.pairplot(df_viz, hue='cluster')"
   ]
  },
  {
   "cell_type": "markdown",
   "id": "aae2f5e7-3534-4d03-b7b0-4029f050ad56",
   "metadata": {},
   "source": [
    "## 10.3. UMAP - t-SNE"
   ]
  },
  {
   "cell_type": "code",
   "execution_count": null,
   "id": "88dce314",
   "metadata": {
    "ExecuteTime": {
     "end_time": "2023-06-15T12:58:52.719971Z",
     "start_time": "2023-06-15T12:58:52.708558Z"
    }
   },
   "outputs": [],
   "source": [
    "from sklearn.decomposition import PCA\n"
   ]
  },
  {
   "cell_type": "code",
   "execution_count": null,
   "id": "90f629f4",
   "metadata": {
    "ExecuteTime": {
     "end_time": "2023-06-15T12:58:52.781697Z",
     "start_time": "2023-06-15T12:58:52.724344Z"
    }
   },
   "outputs": [],
   "source": [
    "pca = PCA(n_components=2)\n",
    "pca.fit(X)"
   ]
  },
  {
   "cell_type": "code",
   "execution_count": null,
   "id": "dbe7ce31",
   "metadata": {
    "ExecuteTime": {
     "end_time": "2023-06-15T12:58:52.812085Z",
     "start_time": "2023-06-15T12:58:52.785216Z"
    }
   },
   "outputs": [],
   "source": [
    "embedding=pca.fit_transform(X)\n",
    "df_viz['embedding_x'] = embedding[:,0]\n",
    "df_viz['embedding_y'] = embedding[:,1]"
   ]
  },
  {
   "cell_type": "code",
   "execution_count": null,
   "id": "8f65272d",
   "metadata": {
    "ExecuteTime": {
     "end_time": "2023-06-15T12:58:52.857954Z",
     "start_time": "2023-06-15T12:58:52.816555Z"
    }
   },
   "outputs": [],
   "source": [
    "df_viz"
   ]
  },
  {
   "cell_type": "code",
   "execution_count": null,
   "id": "3e1cd42a-7d12-41d3-8e10-e6b397aec69f",
   "metadata": {
    "ExecuteTime": {
     "end_time": "2023-06-15T12:58:53.416293Z",
     "start_time": "2023-06-15T12:58:52.861913Z"
    }
   },
   "outputs": [],
   "source": [
    "#reducer = UMAP(random_state=42)\n",
    "#embedding = reducer.fit_transform(x)\n",
    "\n",
    "#embedding\n",
    "#df_viz['embedding_x'] = embedding[:,0]\n",
    "#df_viz['embedding_y'] = embedding[:,1]\n",
    "\n",
    "#plot UMAP\n",
    "\n",
    "sns.scatterplot(x='embedding_x', y='embedding_y', \n",
    "                hue='cluster', \n",
    "                palette=sns.color_palette('hls', n_colors=len(df_viz['cluster'].unique())), \n",
    "                data = df_viz)"
   ]
  },
  {
   "cell_type": "code",
   "execution_count": null,
   "id": "0f136a0d-a61d-4430-ad41-56916a4d0d21",
   "metadata": {
    "ExecuteTime": {
     "end_time": "2023-06-15T12:59:20.338866Z",
     "start_time": "2023-06-15T12:58:53.419284Z"
    }
   },
   "outputs": [],
   "source": [
    "from sklearn.manifold import TSNE\n",
    "\n",
    "\n",
    "\n",
    "tsne = TSNE(n_components=2, random_state=42)\n",
    "embedding = tsne.fit_transform(X )\n",
    "df_viz['embedding_x2'] = embedding[:,0]\n",
    "df_viz['embedding_y2'] = embedding[:,1]\n",
    "sns.scatterplot(x='embedding_x2', y='embedding_y2', \n",
    "                hue='cluster', \n",
    "                palette=sns.color_palette('hls', n_colors=len(df_viz['cluster'].unique())), \n",
    "                data = df_viz)"
   ]
  },
  {
   "cell_type": "markdown",
   "id": "491d2e19",
   "metadata": {},
   "source": [
    "## 10.2. Cluster Profile"
   ]
  },
  {
   "cell_type": "code",
   "execution_count": null,
   "id": "0504cfc8",
   "metadata": {
    "ExecuteTime": {
     "end_time": "2023-06-15T12:59:20.416251Z",
     "start_time": "2023-06-15T12:59:20.342407Z"
    }
   },
   "outputs": [],
   "source": [
    "# Number of Cluster\n",
    "df_cluster = df10[['customer_id', 'cluster']].groupby('cluster').count().reset_index()\n",
    "df_cluster['perc_customer'] = 100* (df_cluster['customer_id'] / df_cluster['customer_id'].sum()).round(4)\n",
    "\n",
    "# AVG Gross Revenue\n",
    "df_avg_gross = df10[['gross_revenue', 'cluster']].groupby('cluster').mean().reset_index().round(4)\n",
    "df_cluster = pd.merge(df_cluster, df_avg_gross, how='inner', on='cluster')\n",
    "\n",
    "#AVG recency days\n",
    "df_recency = df10[['recency_days', 'cluster']].groupby('cluster').mean().reset_index().round(4)\n",
    "df_cluster = pd.merge(df_cluster, df_recency, how='inner', on='cluster')\n",
    "\n",
    "#invoice\n",
    "df_invoice = df10[['invoice_no', 'cluster']].groupby('cluster').mean().reset_index().round(4)\n",
    "df_cluster = pd.merge(df_cluster, df_invoice, how='inner', on='cluster')\n",
    "\n",
    "#AVG_ticket\n",
    "df_ticket = df10[['avg_ticket', 'cluster']].groupby('cluster').mean().reset_index()\n",
    "df_cluster = pd.merge(df_cluster, df_ticket, how='inner', on='cluster')\n"
   ]
  },
  {
   "cell_type": "code",
   "execution_count": null,
   "id": "054aa4a9",
   "metadata": {
    "ExecuteTime": {
     "end_time": "2023-06-15T12:59:20.446965Z",
     "start_time": "2023-06-15T12:59:20.419462Z"
    }
   },
   "outputs": [],
   "source": [
    "df_cluster.head()"
   ]
  },
  {
   "cell_type": "markdown",
   "id": "af2ce3fd",
   "metadata": {},
   "source": [
    "## Cluster 01 : (Candidato a Insider)\n",
    "    - Número de customers :6 (0.14% do customers)\n",
    "    - Recência em média :  7 dias\n",
    "    - Compras em média :  89 compras\n",
    "    - Receita em média : $182.182,00 dolares\n",
    "\n",
    "## Cluster 01 : (Candidato a Insider)\n",
    "    - Número de customers : 31 (0.7% do customers)\n",
    "    - Recência em média : 14 dias\n",
    "    - Compras em média : 53 compras\n",
    "    - Receita em média : $40.543,52 dolares\n",
    "    \n",
    "## Cluster 01 : (Candidato a Insider)\n",
    "    - Número de customers : 4.335 (99% do customers)\n",
    "    - Recência em média : 92 dias\n",
    "    - Compras em média : 5 compras\n",
    "    - Receita em média : $ 1.372,57 dolares"
   ]
  },
  {
   "cell_type": "code",
   "execution_count": null,
   "id": "54271c48",
   "metadata": {},
   "outputs": [],
   "source": []
  },
  {
   "cell_type": "code",
   "execution_count": null,
   "id": "4751a8dd",
   "metadata": {},
   "outputs": [],
   "source": []
  }
 ],
 "metadata": {
  "kernelspec": {
   "display_name": "Python 3 (ipykernel)",
   "language": "python",
   "name": "python3"
  },
  "language_info": {
   "codemirror_mode": {
    "name": "ipython",
    "version": 3
   },
   "file_extension": ".py",
   "mimetype": "text/x-python",
   "name": "python",
   "nbconvert_exporter": "python",
   "pygments_lexer": "ipython3",
   "version": "3.9.12"
  },
  "varInspector": {
   "cols": {
    "lenName": 16,
    "lenType": 16,
    "lenVar": 40
   },
   "kernels_config": {
    "python": {
     "delete_cmd_postfix": "",
     "delete_cmd_prefix": "del ",
     "library": "var_list.py",
     "varRefreshCmd": "print(var_dic_list())"
    },
    "r": {
     "delete_cmd_postfix": ") ",
     "delete_cmd_prefix": "rm(",
     "library": "var_list.r",
     "varRefreshCmd": "cat(var_dic_list()) "
    }
   },
   "types_to_exclude": [
    "module",
    "function",
    "builtin_function_or_method",
    "instance",
    "_Feature"
   ],
   "window_display": false
  }
 },
 "nbformat": 4,
 "nbformat_minor": 5
}
