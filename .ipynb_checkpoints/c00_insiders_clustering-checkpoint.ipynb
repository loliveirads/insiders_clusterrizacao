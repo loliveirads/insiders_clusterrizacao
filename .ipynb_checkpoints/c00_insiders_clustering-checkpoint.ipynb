{
 "cells": [
  {
   "cell_type": "markdown",
   "id": "93010fa5-90d5-40fb-8380-fbc9e6f358e6",
   "metadata": {},
   "source": [
    "# Planejamento da Solução (IOT)\n",
    "\n",
    "- Input (Entrada).\n",
    "    a - Problema de Negocio\n",
    "    b - Questões que serão respondidas\n",
    "    c - Dados de entrada / Fonte  de Dados\n",
    "    \n",
    "- Output( Saída ).\n",
    "    a - Anásile de dados\n",
    "    b - Algoritmo de Machine Learning treinado\n",
    "    c - Dashboard\n",
    "    \n",
    "- Tasks (Tarefas).\n",
    "    a - Plano de Execução\n",
    "    b - Ferramentas\n",
    "    "
   ]
  },
  {
   "cell_type": "markdown",
   "id": "041cb983-b21b-4dba-9596-7a015b4ff4e7",
   "metadata": {},
   "source": [
    "# PA005 : High Value Customer Identification (Insiders)"
   ]
  },
  {
   "cell_type": "markdown",
   "id": "ef8ce2a9-af46-4d46-b02b-3593e9c2cdd1",
   "metadata": {},
   "source": [
    "## 0.0. Planejamento da solução (IOT)"
   ]
  },
  {
   "cell_type": "markdown",
   "id": "f5c4ecfb-ba8e-4cd1-a915-08483ac245c7",
   "metadata": {},
   "source": [
    "### Input - Entrada"
   ]
  },
  {
   "cell_type": "markdown",
   "id": "89f1d647-5e62-4421-9a61-3bf8e099981d",
   "metadata": {},
   "source": [
    "1. Problema de Negócio\n",
    "    - Selecionar os clientes mais valiosos para integrar um programa de Fidelização\n",
    "    \n",
    "2. Conjunto de dados\n",
    "    - Vendas de um e-commerce online, durante o periodo de um ano."
   ]
  },
  {
   "cell_type": "markdown",
   "id": "1d077b17-4873-46d8-96ce-6a652c240b50",
   "metadata": {},
   "source": [
    "### Output - Saída"
   ]
  },
  {
   "cell_type": "markdown",
   "id": "e8dfbdb5-90d9-4bef-a69c-508dfa46005f",
   "metadata": {},
   "source": [
    "1. A indicação das pessoas que farão parte do programa de Insiders\n",
    " - Lista:   client_id | is_insider|\n",
    "    \n",
    "               10323 | yes/1\n",
    "               32413 | no/0"
   ]
  },
  {
   "cell_type": "markdown",
   "id": "08e87952-b8cf-4be1-8876-8b6c47071107",
   "metadata": {},
   "source": [
    "### Tasks - Tarefas"
   ]
  },
  {
   "cell_type": "raw",
   "id": "13cc3ab8-5622-4d5d-b73a-c79035dd926c",
   "metadata": {},
   "source": [
    "1. Quem são as pessoas elegíveis para participar do programa de Insiders ?\n",
    "    - O que é ser elegivel? O que são clientes de maior \"Valor\".\n",
    "        \n",
    "        - Faturamento\n",
    "            - Alto Ticket Médio\n",
    "            - Alto LTV ( Life time value )\n",
    "            - Baixa Recência\n",
    "            - Alto basket size\n",
    "            - Baixa probabilidade de churn.\n",
    "            - Previsão de LTV\n",
    "            - Alta propensão de compra.\n",
    "            \n",
    "        - Custo\n",
    "            - Baixo taxa de devolução\n",
    "            \n",
    "        - Experiência de compra\n",
    "            - Média alta das avaliações\n",
    "    \n",
    "2. Quantos Clientes farão parte do grupo ?\n",
    "    - Número total de clientes\n",
    "    - % de Insiders\n",
    "    \n",
    "3. Quais as principais caracteristicas desses clientes ?\n",
    "    - Escrever caracteristivas do cliente\n",
    "        - Idade\n",
    "        - Localização\n",
    "        \n",
    "    - Escrever caracteristicas de consumo\n",
    "        - Atributos da clusterização\n",
    "        \n",
    "4. Qual a porcentagem de contribuição do faturamento desse grupo para os proximos mese ?\n",
    "    - Faturamento total do ano\n",
    "    - Faturamento do grupo Insiders\n",
    "    \n",
    "5. Qual a expectativa de faturamento desse grupo para os proximos meses ?\n",
    "    - LTV do grupo Insiders\n",
    "    - Analise de Cohort\n",
    "6. Quais as condições para uma pessoa ser elegivel ao Insiders ?\n",
    "    - Definir a periodicidade (1 mes, 3 meses)\n",
    "    - A pessoa precisa ser similar ou pareceido com uma pessoa do grupo.\n",
    "    \n",
    "7. Quais as condições para uma pessoa ser removida do Insiders ?\n",
    "    - Definir a periodicidade (1 mes, 3 meses)\n",
    "    - A pessoa precisa ser desimilar ou não pareceido com uma pessoa do grupo.\n",
    "    \n",
    "8. Qual a garantia que o programa Insiders é melhor que o restante da base?\n",
    "    - Teste A/B\n",
    "    - Teste A/B Bayesiano\n",
    "    - Teste de hipóteses.\n",
    "    \n",
    "9. Quais ações o time de marketing pode realizar para aumentar o faturamento?\n",
    "    - Desconto\n",
    "    - Preferencia de compra\n",
    "    - Frete\n",
    "    - Visista a empresa"
   ]
  },
  {
   "cell_type": "code",
   "execution_count": null,
   "id": "1444e239-bd20-4a65-97bb-aae3db7e344d",
   "metadata": {},
   "outputs": [],
   "source": []
  },
  {
   "cell_type": "code",
   "execution_count": null,
   "id": "c0380a5c-3a49-44bd-9ff5-9d285256c9d0",
   "metadata": {},
   "outputs": [],
   "source": []
  },
  {
   "cell_type": "code",
   "execution_count": null,
   "id": "553e6a52-d507-4959-b642-65a728b5b851",
   "metadata": {},
   "outputs": [],
   "source": []
  },
  {
   "cell_type": "code",
   "execution_count": null,
   "id": "52ad1f74-7857-42df-8639-70d1addd76f2",
   "metadata": {},
   "outputs": [],
   "source": []
  },
  {
   "cell_type": "code",
   "execution_count": null,
   "id": "fba52cda-0c0f-4de7-a9b6-93e91cbfd782",
   "metadata": {},
   "outputs": [],
   "source": []
  },
  {
   "cell_type": "code",
   "execution_count": null,
   "id": "13b43b72-8300-4ef4-bc99-b82132f7942f",
   "metadata": {},
   "outputs": [],
   "source": []
  }
 ],
 "metadata": {
  "kernelspec": {
   "display_name": "Python 3 (ipykernel)",
   "language": "python",
   "name": "python3"
  },
  "language_info": {
   "codemirror_mode": {
    "name": "ipython",
    "version": 3
   },
   "file_extension": ".py",
   "mimetype": "text/x-python",
   "name": "python",
   "nbconvert_exporter": "python",
   "pygments_lexer": "ipython3",
   "version": "3.9.12"
  }
 },
 "nbformat": 4,
 "nbformat_minor": 5
}
